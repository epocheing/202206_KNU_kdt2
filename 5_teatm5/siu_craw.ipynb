{
 "cells": [
  {
   "cell_type": "markdown",
   "metadata": {},
   "source": [
    "# 송인욱"
   ]
  },
  {
   "cell_type": "code",
   "execution_count": 43,
   "metadata": {},
   "outputs": [],
   "source": [
    "from bs4 import BeautifulSoup\n",
    "import platform\n",
    "import requests\n",
    "from bs4 import BeautifulSoup\n",
    "from konlpy.tag import Okt\n",
    "from collections import Counter\n",
    "import matplotlib.pyplot as plt\n",
    "from wordcloud import WordCloud, STOPWORDS, ImageColorGenerator\n",
    "import matplotlib.font_manager as fm\n",
    "import nltk"
   ]
  },
  {
   "cell_type": "code",
   "execution_count": 44,
   "metadata": {},
   "outputs": [],
   "source": [
    "if platform.system() == \"Windows\":\n",
    "    path = r\"c:\\Windows\\Fonts\\malgun.ttf\"\n",
    "    plt.rc('font', family='Malgun Gothic')\n",
    "        \n",
    "elif platform.system() == \"Darwin\":\n",
    "    path = r\"/System/Library/Fonts/AppleGothic\"\n",
    "    plt.rc('font', familly='AppleGothic')\n",
    "\n",
    "else:\n",
    "    path = r\"/usr/share/fonts/truetype/nanum/NanumGothic.ttf\""
   ]
  },
  {
   "cell_type": "code",
   "execution_count": 45,
   "metadata": {},
   "outputs": [],
   "source": [
    "class NaverNews:\n",
    "    url = 'https://search.naver.com/search.naver?where=news&sm=tab_pge'\n",
    "\n",
    "    def __init__(self, search, sort, name=''):\n",
    "        search = '&query=' + str(search)\n",
    "        sort = '&sort=' + str(sort)\n",
    "        self.search = search\n",
    "        self.sort = sort\n",
    "        self.name = name\n",
    "        self.search_url = NaverNews.url + search + sort\n",
    "\n",
    "    \n",
    "    def find_tum_text(self, maxpage, tumClass = 'api_txt_lines dsc_txt_wrap'):\n",
    "\n",
    "        result_list = []\n",
    "\n",
    "        for num in range(1, maxpage+1):\n",
    "            page_num = '&start=' + str(10*num-9)\n",
    "            full_url = self.search_url + page_num \n",
    "            req = requests.get(full_url)\n",
    "            bs = BeautifulSoup(req.text, \"html.parser\")\n",
    "\n",
    "            tums = bs.find_all('a', {'class': tumClass})\n",
    "\n",
    "            for tum in tums:\n",
    "                result_list.append(tum.text)\n",
    "        \n",
    "        return result_list"
   ]
  },
  {
   "cell_type": "code",
   "execution_count": 46,
   "metadata": {},
   "outputs": [],
   "source": [
    "class DaumWeb:\n",
    "    url = 'https://search.daum.net/search?nil_suggest=btn&w=fusion&DA=SBC&q='\n",
    "\n",
    "    def __init__(self, search):\n",
    "        self.search = search\n",
    "        self.search_url = DaumWeb.url + search\n",
    "\n",
    "    def find_tum_text(self, maxpage, tumClass = 'desc'):\n",
    "\n",
    "        result_list = []\n",
    "\n",
    "        for i in range(1,maxpage+1):\n",
    "            full_url = self.search_url + '&p=' + str(i)\n",
    "            req = requests.get(full_url)\n",
    "            bs = BeautifulSoup(req.text, \"html.parser\")\n",
    "\n",
    "\n",
    "            tums = bs.find_all('p',{'class': tumClass})\n",
    "            for tum in tums:\n",
    "                result_list.append(tum.text)\n",
    "\n",
    "        return result_list"
   ]
  },
  {
   "cell_type": "code",
   "execution_count": 48,
   "metadata": {},
   "outputs": [],
   "source": [
    "def to_txt(list, filename):\n",
    "    with open(filename,'w',encoding='UTF-8') as f:\n",
    "        for txt in list:\n",
    "            f.write(txt+'\\n')"
   ]
  },
  {
   "cell_type": "code",
   "execution_count": 49,
   "metadata": {},
   "outputs": [],
   "source": [
    "def make_wordcloud(filepath, *delete_sentence):\n",
    "    f = open(filepath, encoding='utf-8')\n",
    "    daum_pos = f.read()\n",
    "    okt = Okt()\n",
    "\n",
    "    sentences_tag = []\n",
    "    sentences_tag = okt.pos(daum_pos)  # 형태소 나눔\n",
    "\n",
    "    noun_adj_list = []\n",
    "    for word, tag in sentences_tag:\n",
    "        if tag in [\"Noun\", \"Adjective\"]:\n",
    "            noun_adj_list.append(word)  # 명사 형용사만 추출\n",
    "\n",
    "    counts = Counter(noun_adj_list)  # 갯수 카운트\n",
    "\n",
    "    for i in delete_sentence:  # 특정 값 (검색어) 결과에서 삭제\n",
    "        counts.pop(i)\n",
    "\n",
    "    tags = counts.most_common(30)\n",
    "\n",
    "    if platform.system() == \"Windows\":\n",
    "        path = r\"c:\\Windows\\Fonts\\malgun.ttf\"\n",
    "        plt.rc('font', family='Malgun Gothic')\n",
    "        \n",
    "    elif platform.system() == \"Darwin\":\n",
    "        path = r\"/System/Library/Fonts/AppleGothic\"\n",
    "        plt.rc('font', familly='AppleGothic')\n",
    "    else:\n",
    "        path = r\"/usr/share/fonts/truetype/nanum/NanumGothic.ttf\"\n",
    "\n",
    "\n",
    "    wc = WordCloud(font_path=path, background_color=\"white\", max_font_size=80)\n",
    "    cloud = wc.generate_from_frequencies(dict(tags))\n",
    "\n",
    "\n",
    "    plt.figure(figsize=(10, 8), dpi=100)\n",
    "    plt.axis(\"off\")\n",
    "    plt.imshow(cloud, interpolation=\"bilinear\")\n",
    "    plt.show()\n",
    "\n",
    "    f.close()\n"
   ]
  },
  {
   "cell_type": "code",
   "execution_count": 50,
   "metadata": {},
   "outputs": [],
   "source": [
    "# result = NaverNews('노인+일자리', 0)\n",
    "# result = result.find_tum_text(100)\n",
    "# to_txt(result, '네이버_노인+일자리.txt')"
   ]
  },
  {
   "cell_type": "code",
   "execution_count": 51,
   "metadata": {},
   "outputs": [],
   "source": [
    "# result = DaumWeb('노인+일자리')\n",
    "# result = result.find_tum_text(100)\n",
    "# to_txt(result, '다음_노인+일자리.txt')"
   ]
  },
  {
   "cell_type": "code",
   "execution_count": 52,
   "metadata": {},
   "outputs": [],
   "source": [
    "# make_wordcloud('./네이버_노인+일자리.txt','노인', '일자리')"
   ]
  },
  {
   "cell_type": "code",
   "execution_count": 53,
   "metadata": {},
   "outputs": [],
   "source": [
    "# make_wordcloud('./다음_노인+일자리.txt', '노인', '일자리')"
   ]
  }
 ],
 "metadata": {
  "kernelspec": {
   "display_name": "Python 3.10.5 64-bit",
   "language": "python",
   "name": "python3"
  },
  "language_info": {
   "codemirror_mode": {
    "name": "ipython",
    "version": 3
   },
   "file_extension": ".py",
   "mimetype": "text/x-python",
   "name": "python",
   "nbconvert_exporter": "python",
   "pygments_lexer": "ipython3",
   "version": "3.10.5"
  },
  "orig_nbformat": 4,
  "vscode": {
   "interpreter": {
    "hash": "949777d72b0d2535278d3dc13498b2535136f6dfe0678499012e853ee9abcab1"
   }
  }
 },
 "nbformat": 4,
 "nbformat_minor": 2
}
