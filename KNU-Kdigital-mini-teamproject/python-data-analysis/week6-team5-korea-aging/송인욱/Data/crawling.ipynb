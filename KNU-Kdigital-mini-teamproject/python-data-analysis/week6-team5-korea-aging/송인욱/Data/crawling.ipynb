{
 "cells": [
  {
   "cell_type": "code",
   "execution_count": 38,
   "metadata": {},
   "outputs": [],
   "source": [
    "from bs4 import BeautifulSoup\n",
    "import platform\n",
    "import requests\n",
    "from bs4 import BeautifulSoup\n",
    "from konlpy.tag import Okt\n",
    "from collections import Counter\n",
    "import matplotlib.pyplot as plt\n",
    "from PIL import Image\n",
    "from wordcloud import WordCloud, STOPWORDS, ImageColorGenerator\n",
    "import matplotlib.font_manager as fm\n",
    "import pandas as pd"
   ]
  },
  {
   "cell_type": "code",
   "execution_count": 39,
   "metadata": {},
   "outputs": [],
   "source": [
    "class NaverNews:\n",
    "    url = 'https://search.naver.com/search.naver?where=news&sm=tab_pge'\n",
    "\n",
    "    def __init__(self, search, sort, name=''):\n",
    "        search = '&query=' + str(search)\n",
    "        sort = '&sort=' + str(sort)\n",
    "        self.search = search\n",
    "        self.sort = sort\n",
    "        self.name = name\n",
    "        self.search_url = NaverNews.url + search + sort\n",
    "\n",
    "    \n",
    "    def find_tum_text(self, maxpage, tumClass = 'api_txt_lines dsc_txt_wrap'):\n",
    "\n",
    "        result_list = []\n",
    "\n",
    "        for num in range(1, maxpage+1):\n",
    "            page_num = '&start=' + str(10*num-9)\n",
    "            full_url = self.search_url + page_num \n",
    "            req = requests.get(full_url)\n",
    "            bs = BeautifulSoup(req.text, \"html.parser\")\n",
    "\n",
    "            tums = bs.find_all('a', {'class': tumClass})\n",
    "\n",
    "            for tum in tums:\n",
    "                result_list.append(tum.text)\n",
    "        \n",
    "        return result_list"
   ]
  },
  {
   "cell_type": "code",
   "execution_count": 40,
   "metadata": {},
   "outputs": [],
   "source": [
    "def get_html(url):\n",
    "        try:\n",
    "            req = requests.get(url)\n",
    "        except requests.exceptions.RequestException:\n",
    "            return None\n",
    "\n",
    "        return BeautifulSoup(req.text, \"html.parser\")"
   ]
  },
  {
   "cell_type": "code",
   "execution_count": 41,
   "metadata": {},
   "outputs": [],
   "source": [
    "def daum_web_find(search, maxpage=1):  \n",
    "    url = 'https://search.daum.net/search?nil_suggest=btn&w=fusion&DA=SBC&q=' + search\n",
    "    result = []\n",
    "\n",
    "    for i in range(1,maxpage+1):\n",
    "        url2 = url + '&p=' + str(i)\n",
    "        html = get_html(url2)\n",
    "\n",
    "        a = html.find_all('p',{'class': 'desc'})\n",
    "        for i in a:\n",
    "            result.append(i.text)    \n",
    "    \n",
    "    return result"
   ]
  },
  {
   "cell_type": "code",
   "execution_count": 42,
   "metadata": {},
   "outputs": [],
   "source": [
    "def to_txt(list, filename):\n",
    "    with open(filename,'w',encoding='UTF-8') as f:\n",
    "        for txt in list:\n",
    "            f.write(txt+'\\n')"
   ]
  },
  {
   "cell_type": "code",
   "execution_count": 43,
   "metadata": {},
   "outputs": [],
   "source": [
    "def make_wordcloud(filepath):\n",
    "    daum_pos = open(filepath, encoding='utf-8').read()\n",
    "    okt = Okt()\n",
    "\n",
    "    sentences_tag = []\n",
    "    sentences_tag = okt.pos(daum_pos)\n",
    "\n",
    "    noun_adj_list = []\n",
    "    for word, tag in sentences_tag:\n",
    "        if tag in [\"Noun\", \"Adjective\"]:\n",
    "            noun_adj_list.append(word)\n",
    "\n",
    "    counts = Counter(noun_adj_list)\n",
    "    tags = counts.most_common(35)\n",
    "\n",
    "    if platform.system() == \"Windows\":\n",
    "        path = r\"c:\\Windows\\Fonts\\malgun.ttf\"\n",
    "        plt.rc('font', family='Malgun Gothic')\n",
    "        \n",
    "    elif platform.system() == \"Darwin\":\n",
    "        path = r\"/System/Library/Fonts/AppleGothic\"\n",
    "        plt.rc('font', familly='AppleGothic')\n",
    "    else:\n",
    "        path = r\"/usr/share/fonts/truetype/nanum/NanumGothic.ttf\"\n",
    "\n",
    "\n",
    "    wc = WordCloud(font_path=path, background_color=\"white\", max_font_size=80)\n",
    "    cloud = wc.generate_from_frequencies(dict(tags))\n",
    "\n",
    "\n",
    "    plt.figure(figsize=(10, 8))\n",
    "    plt.axis(\"off\")\n",
    "    plt.imshow(cloud, interpolation=\"bilinear\")\n",
    "    plt.show()"
   ]
  },
  {
   "cell_type": "code",
   "execution_count": 44,
   "metadata": {},
   "outputs": [],
   "source": [
    "# db에 저장하기 위해 튜플데이터 만들어주는 함수\n",
    "def make_tuple_data(data, maintag, subtag):\n",
    "\n",
    "    if type(data) == list:\n",
    "        data = \" \".join(data)\n",
    "    else:\n",
    "        data = open(data, encoding=\"utf-8\").read()\n",
    "\n",
    "    okt = Okt()\n",
    "\n",
    "    sentences_tag = []\n",
    "    sentences_tag = okt.pos(data)\n",
    "\n",
    "    noun_adj_list = []\n",
    "    for word, tag in sentences_tag:\n",
    "        if tag in [\"Noun\", \"Adjective\"]:\n",
    "            noun_adj_list.append(word)\n",
    "\n",
    "    counts = Counter(noun_adj_list)\n",
    "    tags = counts.most_common(40)\n",
    "    result = []\n",
    "    for i in tags:\n",
    "        if i[0] == maintag:\n",
    "            pass\n",
    "        else:\n",
    "            i = list(i)\n",
    "            i.insert(0,subtag)\n",
    "            result.append(tuple(i))\n",
    "\n",
    "\n",
    "    return result"
   ]
  },
  {
   "cell_type": "markdown",
   "metadata": {},
   "source": [
    "****\n",
    "## <span style='color:royalBlue'>데이터 크롤링"
   ]
  },
  {
   "cell_type": "code",
   "execution_count": 45,
   "metadata": {},
   "outputs": [],
   "source": [
    "a = make_tuple_data('./네이버_노인+혐오.txt', '노인', '혐오')\n",
    "a = pd.DataFrame(a)\n",
    "a.to_csv('./네이버_노인+혐오.csv', header=False)"
   ]
  },
  {
   "cell_type": "code",
   "execution_count": 46,
   "metadata": {},
   "outputs": [],
   "source": [
    "a = make_tuple_data('./다음_노인+혐오.txt', '노인', '혐오')\n",
    "a = pd.DataFrame(a)\n",
    "a.to_csv('./다음_노인+혐오.csv', header=False)"
   ]
  },
  {
   "cell_type": "code",
   "execution_count": 47,
   "metadata": {},
   "outputs": [],
   "source": [
    "# result = daum_web_find('노인+종업원', 70)\n",
    "# to_txt(result, '다음_노인+종업원.txt')"
   ]
  },
  {
   "cell_type": "code",
   "execution_count": 48,
   "metadata": {},
   "outputs": [],
   "source": [
    "# result = NaverNews('노인+종업원', 0)\n",
    "# result = result.find_tum_text(70)\n",
    "# to_txt(result, '네이버_노인+종업원.txt')"
   ]
  },
  {
   "cell_type": "code",
   "execution_count": 49,
   "metadata": {},
   "outputs": [],
   "source": [
    "# make_wordcloud('./다음_노인+일자리.txt'), make_wordcloud('./네이버_노인+일자리.txt')"
   ]
  }
 ],
 "metadata": {
  "kernelspec": {
   "display_name": "Python 3.10.5 ('venv': venv)",
   "language": "python",
   "name": "python3"
  },
  "language_info": {
   "codemirror_mode": {
    "name": "ipython",
    "version": 3
   },
   "file_extension": ".py",
   "mimetype": "text/x-python",
   "name": "python",
   "nbconvert_exporter": "python",
   "pygments_lexer": "ipython3",
   "version": "3.10.5"
  },
  "orig_nbformat": 4,
  "vscode": {
   "interpreter": {
    "hash": "656653785d90ee60390df92bce97cabffc731013948ccf53df85b96dc4a2dc74"
   }
  }
 },
 "nbformat": 4,
 "nbformat_minor": 2
}
