{
 "cells": [
  {
   "cell_type": "markdown",
   "metadata": {},
   "source": [
    "# <span style=\"color: royalblue\">**노인 일자리 정책 현황과 개선 방안**\n",
    "- <span style=\"color: black\"><b>팀명</b>: 6인 같은</span> <span style=\"color: purple\">**5인조**</span>\n",
    "- <span style=\"color: black\"><b>팀원</b>: 신민수, 남재환, 곽성화, 심정윤, 송인욱</span>, <span style=\"color: silver\">임재원</span>\n",
    "*****\n",
    "### <span style=\"color: black\">팀원별 세부 주제</span>\n",
    "- **송인욱**: 노인 일자리에 대한 인식 분석\n",
    "- **심정윤**: 노인 수익과 지출에 대한 분석\n",
    "- **남재환**: 국내외 노인 취업율 비교 분석\n",
    "- **곽성화**: 국내 노인 일자리 정책 분석\n",
    "- **신민수**: 노인 일자리가 정신건강에 미치는 영향 분석\n",
    "- <span style=\"color: silver\"><b>임재원</b>: 병결</span>\n",
    "\n",
    "### <span style=\"color: black\">예상되는 문제점</span>\n",
    "- 복지에 대한 지식이 적어, 세부적인 분석의 어려움이 예상됨"
   ]
  },
  {
   "cell_type": "markdown",
   "metadata": {},
   "source": []
  }
 ],
 "metadata": {
  "kernelspec": {
   "display_name": "Python 3",
   "language": "python",
   "name": "python3"
  },
  "language_info": {
   "name": "python",
   "version": "3.11.1 (tags/v3.11.1:a7a450f, Dec  6 2022, 19:58:39) [MSC v.1934 64 bit (AMD64)]"
  },
  "orig_nbformat": 4,
  "vscode": {
   "interpreter": {
    "hash": "93c14ca3653c6442b3d76d1d890b947314cf41fe031ad48202535aebc4200d74"
   }
  }
 },
 "nbformat": 4,
 "nbformat_minor": 2
}
