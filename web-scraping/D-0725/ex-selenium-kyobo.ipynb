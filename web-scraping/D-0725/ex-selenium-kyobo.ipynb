{
 "cells": [
  {
   "cell_type": "markdown",
   "metadata": {},
   "source": [
    "## 교보문고 동적 웹 크롤링\n",
    "### 국내도서 > 컴퓨터/IT > 하위목록"
   ]
  },
  {
   "cell_type": "markdown",
   "metadata": {},
   "source": [
    "#### html 분석 연습"
   ]
  },
  {
   "cell_type": "code",
   "execution_count": 4,
   "metadata": {},
   "outputs": [
    {
     "name": "stdout",
     "output_type": "stream",
     "text": [
      "title: 구글 엔지니어는 이렇게 일한다\n",
      "author: 타이터스 윈터스\n",
      "publication: 한빛미디어\n",
      "summary: 지난 50년의 세월과 이 책이 입증한 사실이 한 가지 있습니다. 바로 '소프트웨어 엔지니어링의 발전은\n",
      "결코 정체되지 않는다'라는 것입니다. 빠른 기술 변화 속에서 소프트웨어 엔지니어링의 중요성이 더욱\n"
     ]
    }
   ],
   "source": [
    "html = '''\n",
    "<div class=\"title\">\n",
    "<a onclick=\"javascript:ecommerceClickListGA('9791162245620', 'KOR', '구글 엔지니어는 이렇게 일한다\n",
    "', '한빛미디어', '3301', '타이터스 윈터스', '컴퓨터/IT &gt; 컴퓨터공학', '카테고리_KOR_3301');\" \n",
    "href=\"javascript:makeDetailUrl('KOR','3301','9791162245620','0 ', 'N' )\">\n",
    "<strong>구글 엔지니어는 이렇게 일한다</strong></a>\n",
    "</div>\n",
    "<div class=\"pub_info\">\n",
    "<span class=\"author\">타이터스 윈터스</span>\n",
    "<span class=\"publication\">한빛미디어</span>\n",
    "<span class=\"publication\">  \n",
    "2022.05.10 <!-- 초판일 --></span>\n",
    "</div>\n",
    "<div class=\"info\">\n",
    "<span>지난 50년의 세월과 이 책이 입증한 사실이 한 가지 있습니다. 바로 '소프트웨어 엔지니어링의 발전은\n",
    "결코 정체되지 않는다'라는 것입니다. 빠른 기술 변화 속에서 소프트웨어 엔지니어링의 중요성이 더욱</span>\n",
    "</div>\n",
    "'''\n",
    "from bs4 import BeautifulSoup\n",
    "\n",
    "book = BeautifulSoup(html, 'html.parser')\n",
    "\n",
    "book_title = book.find('div', attrs={'class': 'title'}).find('strong').text\n",
    "book_info = book.find('div', attrs={'class':'pub_info'})\n",
    "book_author = book_info.find('span', attrs={'class': 'author'}).text\n",
    "book_publication = book_info.find('span', attrs={'class': 'publication'}).text\n",
    "book_summary = book.find('div', attrs={'class': 'info'}).find('span').text\n",
    "print('title:', book_title)\n",
    "print('author:', book_author)\n",
    "print('publication:', book_publication)\n",
    "print('summary:', book_summary)\n"
   ]
  }
 ],
 "metadata": {
  "kernelspec": {
   "display_name": "Python 3.9.12 ('EV_PY39')",
   "language": "python",
   "name": "python3"
  },
  "language_info": {
   "codemirror_mode": {
    "name": "ipython",
    "version": 3
   },
   "file_extension": ".py",
   "mimetype": "text/x-python",
   "name": "python",
   "nbconvert_exporter": "python",
   "pygments_lexer": "ipython3",
   "version": "3.9.12"
  },
  "orig_nbformat": 4,
  "vscode": {
   "interpreter": {
    "hash": "7046fadfc8eb06ac6ccb78d8ddd5e12eef28a4f384be78d2cf2a68fb34b54387"
   }
  }
 },
 "nbformat": 4,
 "nbformat_minor": 2
}
