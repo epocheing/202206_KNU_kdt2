{
 "cells": [
  {
   "cell_type": "markdown",
   "metadata": {},
   "source": [
    "# 정규식(regular expression) 사용"
   ]
  },
  {
   "cell_type": "code",
   "execution_count": 17,
   "metadata": {},
   "outputs": [],
   "source": [
    "import re"
   ]
  },
  {
   "cell_type": "markdown",
   "metadata": {},
   "source": [
    "## match = 정확하게 일치"
   ]
  },
  {
   "cell_type": "code",
   "execution_count": 18,
   "metadata": {},
   "outputs": [
    {
     "name": "stdout",
     "output_type": "stream",
     "text": [
      "<re.Match object; span=(0, 6), match='pytonn'>\n",
      "<re.Match object; span=(7, 12), match='apple'>\n"
     ]
    }
   ],
   "source": [
    "from soupsieve import match\n",
    "\n",
    "\n",
    "m = re.match('[a-z]+', 'pytonn')\n",
    "print(m)\n",
    "print(re.search('apple', 'i like apple'))"
   ]
  },
  {
   "cell_type": "markdown",
   "metadata": {},
   "source": [
    "## search = 일치하는 첫번째만"
   ]
  },
  {
   "cell_type": "code",
   "execution_count": 21,
   "metadata": {},
   "outputs": [
    {
     "name": "stdout",
     "output_type": "stream",
     "text": [
      "<re.Match object; span=(0, 6), match='python'>\n",
      "<re.Match object; span=(2, 6), match='like'>\n",
      "like\n"
     ]
    }
   ],
   "source": [
    "p = re.compile('[a-z]+')\n",
    "m = p.match('python')\n",
    "print(m)\n",
    "\n",
    "print(p.search('I like apple 123'))\n",
    "print(p.search('I like apple 123').group()) # group(), group(0) 전체값\n"
   ]
  },
  {
   "cell_type": "markdown",
   "metadata": {},
   "source": [
    "## 일치하는 모든값"
   ]
  },
  {
   "cell_type": "code",
   "execution_count": 24,
   "metadata": {},
   "outputs": [
    {
     "name": "stdout",
     "output_type": "stream",
     "text": [
      "['i', 'like', 'python']\n"
     ]
    }
   ],
   "source": [
    "print(p.findall('i like python 1234'))"
   ]
  },
  {
   "cell_type": "code",
   "execution_count": 27,
   "metadata": {},
   "outputs": [
    {
     "name": "stdout",
     "output_type": "stream",
     "text": [
      "['i', 'like', 'python']\n",
      "like\n"
     ]
    }
   ],
   "source": [
    "result = p.findall('i like python 1234')\n",
    "print(result)\n",
    "print(result[1])"
   ]
  },
  {
   "cell_type": "markdown",
   "metadata": {},
   "source": [
    "## 그루핑"
   ]
  },
  {
   "cell_type": "code",
   "execution_count": 34,
   "metadata": {},
   "outputs": [
    {
     "name": "stdout",
     "output_type": "stream",
     "text": [
      "('02', '123', '4567')\n",
      "group(0): 02-123-4567\n",
      "group(1): 02\n",
      "group(2,3): ('123', '4567')\n",
      "start(): 0\n",
      "end():11\n"
     ]
    }
   ],
   "source": [
    "tel_checker = re.compile(\"^(\\d{2,3})-(\\d{3,4})-(\\d{4})$\")\n",
    "m = tel_checker.match('02-123-4567')\n",
    "print(m.groups())\n",
    "print(f'group(0): {m.group(0)}')\n",
    "print(f'group(1): {m.group(1)}')\n",
    "print(f'group(2,3): {m.group(2,3)}')\n",
    "print(f'start(): {m.start()}')\n",
    "print(f'end():{m.end()}')"
   ]
  },
  {
   "cell_type": "markdown",
   "metadata": {},
   "source": [
    "## 전방, 후방탐색"
   ]
  },
  {
   "cell_type": "code",
   "execution_count": 40,
   "metadata": {},
   "outputs": [
    {
     "name": "stdout",
     "output_type": "stream",
     "text": [
      "<re.Match object; span=(0, 5), match='1000 '>\n",
      "<re.Match object; span=(0, 24), match='2022-07-01 00:00:01 BAA.'>\n",
      "<re.Match object; span=(9, 13), match='2345'>\n"
     ]
    }
   ],
   "source": [
    "# 전방 긍정탐색\n",
    "lookahead1 = re.search(\".+(?=won)\", '1000 won')\n",
    "print(lookahead1)\n",
    "\n",
    "lookahead2 = re.search('.+(?=log)', '2022-07-01 00:00:01 BAA.log: 전방탐색')\n",
    "print(lookahead2)\n",
    "\n",
    "# 전방 부정탐색\n",
    "lookahead3 = re.search(r'\\d{4}(?!-)', '010-1234-2345')\n",
    "print(lookahead3)"
   ]
  },
  {
   "cell_type": "code",
   "execution_count": 46,
   "metadata": {},
   "outputs": [
    {
     "name": "stdout",
     "output_type": "stream",
     "text": [
      "<re.Match object; span=(28, 43), match=' this is python'>\n",
      "<re.Match object; span=(15, 18), match='100'>\n"
     ]
    }
   ],
   "source": [
    "# 후방 긍정탐색\n",
    "lookbehind1 = re.search('(?<=log:).+', '2022-07-01 00:00:01 ABC.log: this is python')\n",
    "print(lookbehind1)\n",
    "\n",
    "# 후방 부정탐색\n",
    "lookbehind2 = re.search(r\"\\b(?<!\\$)\\d+\\b\", 'I paid $30 for 100 apples.')\n",
    "print(lookbehind2)"
   ]
  },
  {
   "cell_type": "code",
   "execution_count": null,
   "metadata": {},
   "outputs": [],
   "source": []
  }
 ],
 "metadata": {
  "kernelspec": {
   "display_name": "Python 3.9.12 ('EV_PY39')",
   "language": "python",
   "name": "python3"
  },
  "language_info": {
   "codemirror_mode": {
    "name": "ipython",
    "version": 3
   },
   "file_extension": ".py",
   "mimetype": "text/x-python",
   "name": "python",
   "nbconvert_exporter": "python",
   "pygments_lexer": "ipython3",
   "version": "3.9.12"
  },
  "orig_nbformat": 4,
  "vscode": {
   "interpreter": {
    "hash": "7046fadfc8eb06ac6ccb78d8ddd5e12eef28a4f384be78d2cf2a68fb34b54387"
   }
  }
 },
 "nbformat": 4,
 "nbformat_minor": 2
}
