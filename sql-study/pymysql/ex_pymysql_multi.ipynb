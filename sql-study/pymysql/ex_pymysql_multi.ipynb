{
 "cells": [
  {
   "cell_type": "code",
   "execution_count": 2,
   "metadata": {},
   "outputs": [],
   "source": [
    "import pandas as pd\n",
    "import pymysql"
   ]
  },
  {
   "cell_type": "code",
   "execution_count": 3,
   "metadata": {},
   "outputs": [],
   "source": [
    "# mysql과 연결하는 정보 저장\n",
    "conn = pymysql.connect(\n",
    "    host='mysql', user='root', password='1111',\n",
    "    db='sakila', charset='utf8')"
   ]
  },
  {
   "cell_type": "code",
   "execution_count": 4,
   "metadata": {},
   "outputs": [],
   "source": [
    "cur = conn.cursor()\n",
    "query = '''\n",
    "select c.email\n",
    "from customer as c\n",
    "    inner join rental as r\n",
    "    on c.customer_id = r.customer_id\n",
    "where date(r.rental_date) = (%s)\n",
    "'''"
   ]
  },
  {
   "cell_type": "code",
   "execution_count": 6,
   "metadata": {},
   "outputs": [
    {
     "name": "stdout",
     "output_type": "stream",
     "text": [
      "('CATHERINE.CAMPBELL@sakilacustomer.org',)\n",
      "('JOYCE.EDWARDS@sakilacustomer.org',)\n",
      "('AMBER.DIXON@sakilacustomer.org',)\n",
      "('JEANETTE.GREENE@sakilacustomer.org',)\n",
      "('MINNIE.ROMERO@sakilacustomer.org',)\n",
      "('GWENDOLYN.MAY@sakilacustomer.org',)\n",
      "('SONIA.GREGORY@sakilacustomer.org',)\n",
      "('MIRIAM.MCKINNEY@sakilacustomer.org',)\n",
      "('CHARLES.KOWALSKI@sakilacustomer.org',)\n",
      "('DANIEL.CABRAL@sakilacustomer.org',)\n",
      "('MATTHEW.MAHAN@sakilacustomer.org',)\n",
      "('JEFFERY.PINSON@sakilacustomer.org',)\n",
      "('HERMAN.DEVORE@sakilacustomer.org',)\n",
      "('ELMER.NOE@sakilacustomer.org',)\n",
      "('TERRANCE.ROUSH@sakilacustomer.org',)\n",
      "('TERRENCE.GUNDERSON@sakilacustomer.org',)\n"
     ]
    }
   ],
   "source": [
    "cur.execute(query, ('2005-06-14'))\n",
    "rows =cur.fetchall()\n",
    "for row in rows:\n",
    "    print(row)"
   ]
  },
  {
   "cell_type": "code",
   "execution_count": 7,
   "metadata": {},
   "outputs": [],
   "source": [
    "cur.close()\n",
    "conn.close()"
   ]
  }
 ],
 "metadata": {
  "kernelspec": {
   "display_name": "Python 3.10.5 64-bit",
   "language": "python",
   "name": "python3"
  },
  "language_info": {
   "codemirror_mode": {
    "name": "ipython",
    "version": 3
   },
   "file_extension": ".py",
   "mimetype": "text/x-python",
   "name": "python",
   "nbconvert_exporter": "python",
   "pygments_lexer": "ipython3",
   "version": "3.10.5"
  },
  "orig_nbformat": 4,
  "vscode": {
   "interpreter": {
    "hash": "949777d72b0d2535278d3dc13498b2535136f6dfe0678499012e853ee9abcab1"
   }
  }
 },
 "nbformat": 4,
 "nbformat_minor": 2
}
