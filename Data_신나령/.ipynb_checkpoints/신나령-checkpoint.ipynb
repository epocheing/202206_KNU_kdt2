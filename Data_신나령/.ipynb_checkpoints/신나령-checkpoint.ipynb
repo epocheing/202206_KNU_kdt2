{
 "cells": [
  {
   "cell_type": "markdown",
   "id": "af029fc3",
   "metadata": {},
   "source": [
    "## <주제> 빼빼로데이 - 가래떡데이"
   ]
  },
  {
   "cell_type": "code",
   "execution_count": 659,
   "id": "9ffea79f",
   "metadata": {},
   "outputs": [],
   "source": [
    "#한글 폰트 설정\n",
    "from matplotlib import font_manager as fm, rc\n",
    "\n",
    "font_path='../Data_신나령/Fonts/malgun.ttf'\n",
    "font_name=fm.FontProperties(fname=font_path).get_name()\n",
    "rc('font',family=font_name)"
   ]
  },
  {
   "cell_type": "code",
   "execution_count": 660,
   "id": "557b01f7",
   "metadata": {},
   "outputs": [],
   "source": [
    "# 모듈 설정, 파일 불러오기\n",
    "import pandas as pd\n",
    "#카카오\n",
    "FILE1='../Data_신나령/datatrend빼빼로.xls'\n",
    "FILE6='../Data_신나령/2021빼빼로,가래떡.xls'\n",
    "FILE8='../Data_신나령/datatrend가래떡.xls'\n",
    "#구글- 검색어\n",
    "FILE5='../Data_신나령/relatedQueries빼빼로.csv'\n",
    "FILE7='../Data_신나령/relatedQueries가래떡.csv'\n",
    "\n",
    "pd.set_option('display.max_rows',410) #길이 설정\n",
    "\n",
    "df1=pd.read_excel(FILE1)\n",
    "df5=pd.read_csv(FILE5,sep='\\t')\n",
    "df6=pd.read_excel(FILE6)\n",
    "df7=pd.read_csv(FILE7,sep='\\t')\n",
    "df8=pd.read_excel(FILE8)"
   ]
  },
  {
   "cell_type": "markdown",
   "id": "ff5d76a2",
   "metadata": {},
   "source": [
    "## 1. 2021년 빼빼로, 가래떡 검색량 추이 비교"
   ]
  },
  {
   "cell_type": "markdown",
   "id": "d1b83c24",
   "metadata": {},
   "source": [
    "### (1) 2021년 '빼빼로 & 가래떡' 데이터 전처리"
   ]
  },
  {
   "cell_type": "code",
   "execution_count": 661,
   "id": "ce63efb2",
   "metadata": {},
   "outputs": [
    {
     "data": {
      "text/html": [
       "<div>\n",
       "<style scoped>\n",
       "    .dataframe tbody tr th:only-of-type {\n",
       "        vertical-align: middle;\n",
       "    }\n",
       "\n",
       "    .dataframe tbody tr th {\n",
       "        vertical-align: top;\n",
       "    }\n",
       "\n",
       "    .dataframe thead th {\n",
       "        text-align: right;\n",
       "    }\n",
       "</style>\n",
       "<table border=\"1\" class=\"dataframe\">\n",
       "  <thead>\n",
       "    <tr style=\"text-align: right;\">\n",
       "      <th></th>\n",
       "      <th>기간</th>\n",
       "      <th>2021-01-01 ~ 2021-12-31</th>\n",
       "      <th>Unnamed: 2</th>\n",
       "    </tr>\n",
       "  </thead>\n",
       "  <tbody>\n",
       "    <tr>\n",
       "      <th>0</th>\n",
       "      <td>기기</td>\n",
       "      <td>전체</td>\n",
       "      <td>NaN</td>\n",
       "    </tr>\n",
       "    <tr>\n",
       "      <th>1</th>\n",
       "      <td>성별</td>\n",
       "      <td>전체</td>\n",
       "      <td>NaN</td>\n",
       "    </tr>\n",
       "    <tr>\n",
       "      <th>2</th>\n",
       "      <td>연령</td>\n",
       "      <td>전체</td>\n",
       "      <td>NaN</td>\n",
       "    </tr>\n",
       "    <tr>\n",
       "      <th>3</th>\n",
       "      <td>지역</td>\n",
       "      <td>전체</td>\n",
       "      <td>NaN</td>\n",
       "    </tr>\n",
       "    <tr>\n",
       "      <th>4</th>\n",
       "      <td>NaN</td>\n",
       "      <td>NaN</td>\n",
       "      <td>NaN</td>\n",
       "    </tr>\n",
       "    <tr>\n",
       "      <th>5</th>\n",
       "      <td>주제</td>\n",
       "      <td>통합검색, 검색어 변화량 추이</td>\n",
       "      <td>NaN</td>\n",
       "    </tr>\n",
       "    <tr>\n",
       "      <th>6</th>\n",
       "      <td>일</td>\n",
       "      <td>빼빼로</td>\n",
       "      <td>가래떡</td>\n",
       "    </tr>\n",
       "    <tr>\n",
       "      <th>7</th>\n",
       "      <td>2021-01-01 00:00:00</td>\n",
       "      <td>1</td>\n",
       "      <td>3</td>\n",
       "    </tr>\n",
       "    <tr>\n",
       "      <th>8</th>\n",
       "      <td>2021-01-02 00:00:00</td>\n",
       "      <td>0</td>\n",
       "      <td>2</td>\n",
       "    </tr>\n",
       "    <tr>\n",
       "      <th>9</th>\n",
       "      <td>2021-01-03 00:00:00</td>\n",
       "      <td>0</td>\n",
       "      <td>2</td>\n",
       "    </tr>\n",
       "  </tbody>\n",
       "</table>\n",
       "</div>"
      ],
      "text/plain": [
       "                    기간 2021-01-01 ~ 2021-12-31 Unnamed: 2\n",
       "0                   기기                      전체        NaN\n",
       "1                   성별                      전체        NaN\n",
       "2                   연령                      전체        NaN\n",
       "3                   지역                      전체        NaN\n",
       "4                  NaN                     NaN        NaN\n",
       "5                   주제        통합검색, 검색어 변화량 추이        NaN\n",
       "6                    일                     빼빼로        가래떡\n",
       "7  2021-01-01 00:00:00                       1          3\n",
       "8  2021-01-02 00:00:00                       0          2\n",
       "9  2021-01-03 00:00:00                       0          2"
      ]
     },
     "execution_count": 661,
     "metadata": {},
     "output_type": "execute_result"
    }
   ],
   "source": [
    "# 데이터 확인\n",
    "df6.head(10)"
   ]
  },
  {
   "cell_type": "code",
   "execution_count": 662,
   "id": "6862b83c",
   "metadata": {},
   "outputs": [],
   "source": [
    "# 필요없는 행 삭제\n",
    "df6.drop([0,1,2,3,4,5],inplace=True)"
   ]
  },
  {
   "cell_type": "code",
   "execution_count": 663,
   "id": "095fba0d",
   "metadata": {
    "scrolled": true
   },
   "outputs": [
    {
     "data": {
      "text/plain": [
       "기간                         0\n",
       "2021-01-01 ~ 2021-12-31    0\n",
       "Unnamed: 2                 0\n",
       "dtype: int64"
      ]
     },
     "execution_count": 663,
     "metadata": {},
     "output_type": "execute_result"
    }
   ],
   "source": [
    "# 결측치 없애 주고 확인\n",
    "df6.dropna(inplace=True)\n",
    "df6.isnull().sum()"
   ]
  },
  {
   "cell_type": "code",
   "execution_count": 664,
   "id": "ca328ac9",
   "metadata": {},
   "outputs": [
    {
     "data": {
      "text/html": [
       "<div>\n",
       "<style scoped>\n",
       "    .dataframe tbody tr th:only-of-type {\n",
       "        vertical-align: middle;\n",
       "    }\n",
       "\n",
       "    .dataframe tbody tr th {\n",
       "        vertical-align: top;\n",
       "    }\n",
       "\n",
       "    .dataframe thead th {\n",
       "        text-align: right;\n",
       "    }\n",
       "</style>\n",
       "<table border=\"1\" class=\"dataframe\">\n",
       "  <thead>\n",
       "    <tr style=\"text-align: right;\">\n",
       "      <th></th>\n",
       "      <th>빼빼로</th>\n",
       "      <th>가래떡</th>\n",
       "    </tr>\n",
       "    <tr>\n",
       "      <th>date</th>\n",
       "      <th></th>\n",
       "      <th></th>\n",
       "    </tr>\n",
       "  </thead>\n",
       "  <tbody>\n",
       "    <tr>\n",
       "      <th>2021-01-01</th>\n",
       "      <td>1</td>\n",
       "      <td>3</td>\n",
       "    </tr>\n",
       "    <tr>\n",
       "      <th>2021-01-02</th>\n",
       "      <td>0</td>\n",
       "      <td>2</td>\n",
       "    </tr>\n",
       "    <tr>\n",
       "      <th>2021-01-03</th>\n",
       "      <td>0</td>\n",
       "      <td>2</td>\n",
       "    </tr>\n",
       "    <tr>\n",
       "      <th>2021-01-04</th>\n",
       "      <td>0</td>\n",
       "      <td>2</td>\n",
       "    </tr>\n",
       "    <tr>\n",
       "      <th>2021-01-05</th>\n",
       "      <td>1</td>\n",
       "      <td>2</td>\n",
       "    </tr>\n",
       "  </tbody>\n",
       "</table>\n",
       "</div>"
      ],
      "text/plain": [
       "            빼빼로  가래떡\n",
       "date                \n",
       "2021-01-01    1    3\n",
       "2021-01-02    0    2\n",
       "2021-01-03    0    2\n",
       "2021-01-04    0    2\n",
       "2021-01-05    1    2"
      ]
     },
     "execution_count": 664,
     "metadata": {},
     "output_type": "execute_result"
    }
   ],
   "source": [
    "# 2021년 전체 데이터에서 날짜 데이터만 뽑아내기 위한 함수\n",
    "def date2():\n",
    "    dd2=df6['Unnamed: 2']=='가래떡'\n",
    "    date2=[]\n",
    "    for i in range(1,len(dd2)):\n",
    "        if dd2.iloc[i]==True: break\n",
    "        else: date2.append(df6.iloc[i])\n",
    "    dateDF2=pd.DataFrame(date2)\n",
    "    # 컬럼명 식별 편하게 바꿔 줌\n",
    "    dateDF2=dateDF2.rename(columns={'기간':'date','2021-01-01 ~ 2021-12-31':'빼빼로','Unnamed: 2':'가래떡'}) \n",
    "    dateDF2.set_index('date',inplace=True) # 날짜로 인덱스 설정\n",
    "    return dateDF2\n",
    "date2().head()"
   ]
  },
  {
   "cell_type": "markdown",
   "id": "2f88fbae",
   "metadata": {},
   "source": [
    "### (2) 2021년 '빼빼로 & 가래떡' 검색량 그래프"
   ]
  },
  {
   "cell_type": "code",
   "execution_count": 665,
   "id": "1b0c23d4",
   "metadata": {
    "scrolled": false
   },
   "outputs": [
    {
     "data": {
      "image/png": "[encoded data removed]",
      "text/plain": [
       "<Figure size 1080x504 with 1 Axes>"
      ]
     },
     "metadata": {
      "needs_background": "light"
     },
     "output_type": "display_data"
    }
   ],
   "source": [
    "# 2021년 '빼빼로 & 가래떡' 검색량 그래프\n",
    "plt.rcParams[\"figure.figsize\"]=(15,7)#그래프 사이즈 설정\n",
    "date2().plot(color=['green','orange'])\n",
    "plt.title('<2021년 빼빼로 & 가래떡 검색량 비교>',size=13)\n",
    "plt.xlabel('<Month>',size=13)#X축 이름\n",
    "plt.show()"
   ]
  },
  {
   "cell_type": "markdown",
   "id": "57647f66",
   "metadata": {},
   "source": [
    "### (3) 2021년 11월 '빼빼로 & 가래떡' 검색량 그래프"
   ]
  },
  {
   "cell_type": "code",
   "execution_count": 666,
   "id": "d7037de0",
   "metadata": {},
   "outputs": [
    {
     "data": {
      "image/png": "[encoded data removed]",
      "text/plain": [
       "<Figure size 1080x504 with 1 Axes>"
      ]
     },
     "metadata": {
      "needs_background": "light"
     },
     "output_type": "display_data"
    }
   ],
   "source": [
    "date2()[304:334].plot(color=['green','orange'])\n",
    "plt.title('<2021년 11월 빼빼로 & 가래떡 검색량 추이>',size=13)\n",
    "plt.xlabel('<November>',size=13)#X축 이름\n",
    "plt.show()"
   ]
  },
  {
   "cell_type": "markdown",
   "id": "89b781ea",
   "metadata": {},
   "source": [
    "#### [중간 분석]\n",
    "\n",
    "- 11월 11일이 지나면 관심이 급격하게 떨어지는 것을 알 수 있습니다. => 재고 문제점 논의"
   ]
  },
  {
   "cell_type": "markdown",
   "id": "3b3f5280",
   "metadata": {},
   "source": [
    "### (4) 2021년 '빼빼로 & 가래떡' 검색량 성별 그래프"
   ]
  },
  {
   "cell_type": "code",
   "execution_count": 667,
   "id": "b1eb6f28",
   "metadata": {},
   "outputs": [],
   "source": [
    "# 원데이터에서 성별 데이터 뽑아낸 후 성별 DF 생성\n",
    "genderDF=df1[(df1['기간']=='여성')|(df1['기간']=='남성')].rename(columns={'기간':'gender','2021-01-01 ~ 2021-12-31':'빼빼로'})\n",
    "genderDF.set_index('gender',inplace=True)"
   ]
  },
  {
   "cell_type": "code",
   "execution_count": 668,
   "id": "80805f8f",
   "metadata": {},
   "outputs": [],
   "source": [
    "# 원데이터에서 성별 데이터 뽑아낸 후 성별 DF 생성\n",
    "genderDF2=df8[(df8['기간']=='여성')|(df1['기간']=='남성')].rename(columns={'기간':'gender','2021-01-01 ~ 2021-12-31':'가래떡'})\n",
    "genderDF2.set_index('gender',inplace=True)"
   ]
  },
  {
   "cell_type": "code",
   "execution_count": 669,
   "id": "9714a1a8",
   "metadata": {
    "scrolled": false
   },
   "outputs": [
    {
     "data": {
      "image/png": "[encoded data removed]",
      "text/plain": [
       "<Figure size 1224x936 with 2 Axes>"
      ]
     },
     "metadata": {},
     "output_type": "display_data"
    }
   ],
   "source": [
    "plt.rcParams[\"figure.figsize\"]=(17,13)#그래프 사이즈 설정\n",
    "fig=plt.figure()\n",
    "ax1=fig.add_subplot(221)\n",
    "plt.title('<2021년 빼빼로 성별 검색량 비교>',size=13)\n",
    "ax1.pie(genderDF['빼빼로'],autopct='%1.1f%%',colors=['bisque','cadetblue'])\n",
    "plt.legend(labels=genderDF.index) # 범례\n",
    "ax2=fig.add_subplot(222)\n",
    "ax2.pie(genderDF2['가래떡'],autopct='%1.1f%%',colors=['bisque','cadetblue'])\n",
    "plt.title('<2021년 가래떡 성별 검색량 비교>',size=13)\n",
    "plt.legend(labels=genderDF2.index) # 범례\n",
    "plt.ylabel('')\n",
    "plt.show()"
   ]
  },
  {
   "cell_type": "markdown",
   "id": "d3f0a2f6",
   "metadata": {},
   "source": [
    "### (5) 2021년 '빼빼로 & 가래떡' 검색량 연령대별 그래프"
   ]
  },
  {
   "cell_type": "code",
   "execution_count": 670,
   "id": "914c9683",
   "metadata": {},
   "outputs": [],
   "source": [
    "# 연령대별 데이터 DF 생성\n",
    "df1['기간'].unique()\n",
    "ageDF=df1[(df1['기간']=='10대')|(df1['기간']=='20대')|(df1['기간']=='30대')|(df1['기간']=='40대')\n",
    "         |(df1['기간']=='50대')|(df1['기간']=='60대 이상')].rename(columns={'기간':'age','2021-01-01 ~ 2021-12-31':'빼빼로'})\n",
    "ageDF.set_index('age',inplace=True)"
   ]
  },
  {
   "cell_type": "code",
   "execution_count": 671,
   "id": "cacd9513",
   "metadata": {},
   "outputs": [],
   "source": [
    "# 연령대별 데이터 DF 생성\n",
    "df8['기간'].unique()\n",
    "ageDF2=df8[(df8['기간']=='10대')|(df8['기간']=='20대')|(df8['기간']=='30대')|(df8['기간']=='40대')\n",
    "         |(df8['기간']=='50대')|(df8['기간']=='60대 이상')].rename(columns={'기간':'age','2021-01-01 ~ 2021-12-31':'가래떡'})\n",
    "ageDF2.set_index('age',inplace=True)"
   ]
  },
  {
   "cell_type": "code",
   "execution_count": 672,
   "id": "2eba97e0",
   "metadata": {
    "scrolled": false
   },
   "outputs": [
    {
     "data": {
      "image/png": "[encoded data removed]",
      "text/plain": [
       "<Figure size 1080x720 with 2 Axes>"
      ]
     },
     "metadata": {
      "needs_background": "light"
     },
     "output_type": "display_data"
    }
   ],
   "source": [
    "plt.rcParams[\"figure.figsize\"]=(15,10)#그래프 사이즈 설정\n",
    "fig=plt.figure()\n",
    "ax1=fig.add_subplot(221)\n",
    "plt.title('<2021년 빼빼로 연령별 검색량 비교>',size=13)\n",
    "ax1.bar(ageDF['빼빼로'].index,ageDF['빼빼로'],color=('r','orange','#FFFF00','g','#0055FF','navy'))\n",
    "plt.xlabel('<연령대>',size=13)\n",
    "ax2=fig.add_subplot(222)\n",
    "plt.title('<2021년 가래떡 연령별 검색량 비교>',size=13)\n",
    "ax2.bar(ageDF2['가래떡'].index,ageDF2['가래떡'],color=('r','orange','#FFFF00','g','#0055FF','navy'))\n",
    "plt.ylabel('')\n",
    "plt.xlabel('<연령대>',size=13)\n",
    "plt.xticks(rotation=0)\n",
    "plt.show()"
   ]
  },
  {
   "cell_type": "markdown",
   "id": "4313a933",
   "metadata": {},
   "source": [
    "### (6) 2021년 '빼빼로 & 가래떡'의 상관계수"
   ]
  },
  {
   "cell_type": "code",
   "execution_count": 673,
   "id": "f76386b8",
   "metadata": {
    "scrolled": false
   },
   "outputs": [
    {
     "data": {
      "text/html": [
       "<div>\n",
       "<style scoped>\n",
       "    .dataframe tbody tr th:only-of-type {\n",
       "        vertical-align: middle;\n",
       "    }\n",
       "\n",
       "    .dataframe tbody tr th {\n",
       "        vertical-align: top;\n",
       "    }\n",
       "\n",
       "    .dataframe thead th {\n",
       "        text-align: right;\n",
       "    }\n",
       "</style>\n",
       "<table border=\"1\" class=\"dataframe\">\n",
       "  <thead>\n",
       "    <tr style=\"text-align: right;\">\n",
       "      <th></th>\n",
       "      <th>빼빼로</th>\n",
       "      <th>가래떡</th>\n",
       "    </tr>\n",
       "  </thead>\n",
       "  <tbody>\n",
       "    <tr>\n",
       "      <th>빼빼로</th>\n",
       "      <td>1.000000</td>\n",
       "      <td>0.675007</td>\n",
       "    </tr>\n",
       "    <tr>\n",
       "      <th>가래떡</th>\n",
       "      <td>0.675007</td>\n",
       "      <td>1.000000</td>\n",
       "    </tr>\n",
       "  </tbody>\n",
       "</table>\n",
       "</div>"
      ],
      "text/plain": [
       "          빼빼로       가래떡\n",
       "빼빼로  1.000000  0.675007\n",
       "가래떡  0.675007  1.000000"
      ]
     },
     "execution_count": 673,
     "metadata": {},
     "output_type": "execute_result"
    }
   ],
   "source": [
    "date2().corr()"
   ]
  },
  {
   "cell_type": "markdown",
   "id": "1dae8a2b",
   "metadata": {},
   "source": [
    "## 2. 2021년 빼빼로, 가래떡 관련 검색어 비교"
   ]
  },
  {
   "cell_type": "markdown",
   "id": "e01991fe",
   "metadata": {},
   "source": [
    "### (1) 2021년 '빼빼로' 관련 검색어"
   ]
  },
  {
   "cell_type": "code",
   "execution_count": 674,
   "id": "22c59ff5",
   "metadata": {},
   "outputs": [
    {
     "data": {
      "text/html": [
       "<div>\n",
       "<style scoped>\n",
       "    .dataframe tbody tr th:only-of-type {\n",
       "        vertical-align: middle;\n",
       "    }\n",
       "\n",
       "    .dataframe tbody tr th {\n",
       "        vertical-align: top;\n",
       "    }\n",
       "\n",
       "    .dataframe thead th {\n",
       "        text-align: right;\n",
       "    }\n",
       "</style>\n",
       "<table border=\"1\" class=\"dataframe\">\n",
       "  <thead>\n",
       "    <tr style=\"text-align: right;\">\n",
       "      <th></th>\n",
       "      <th>카테고리: 모든 카테고리</th>\n",
       "    </tr>\n",
       "  </thead>\n",
       "  <tbody>\n",
       "    <tr>\n",
       "      <th>0</th>\n",
       "      <td>빼빼로: (2021, 대한민국)</td>\n",
       "    </tr>\n",
       "    <tr>\n",
       "      <th>1</th>\n",
       "      <td>TOP</td>\n",
       "    </tr>\n",
       "    <tr>\n",
       "      <th>2</th>\n",
       "      <td>빼빼로 데이,100</td>\n",
       "    </tr>\n",
       "    <tr>\n",
       "      <th>3</th>\n",
       "      <td>빼빼로 만들기,15</td>\n",
       "    </tr>\n",
       "    <tr>\n",
       "      <th>4</th>\n",
       "      <td>빼빼로 종류,11</td>\n",
       "    </tr>\n",
       "  </tbody>\n",
       "</table>\n",
       "</div>"
      ],
      "text/plain": [
       "       카테고리: 모든 카테고리\n",
       "0  빼빼로: (2021, 대한민국)\n",
       "1                TOP\n",
       "2         빼빼로 데이,100\n",
       "3         빼빼로 만들기,15\n",
       "4          빼빼로 종류,11"
      ]
     },
     "execution_count": 674,
     "metadata": {},
     "output_type": "execute_result"
    }
   ],
   "source": [
    "# '빼빼로' 관련 검색어 DF 생성\n",
    "df5.head()"
   ]
  },
  {
   "cell_type": "code",
   "execution_count": 675,
   "id": "8b95e182",
   "metadata": {},
   "outputs": [],
   "source": [
    "# 불필요한 행 삭제하고 슬라이싱\n",
    "df5.drop([0,1],inplace=True)\n",
    "df5=df5[:25]"
   ]
  },
  {
   "cell_type": "code",
   "execution_count": 676,
   "id": "196f96e1",
   "metadata": {},
   "outputs": [],
   "source": [
    "df5=df5['카테고리: 모든 카테고리'].str.split(',',expand=True)"
   ]
  },
  {
   "cell_type": "code",
   "execution_count": 677,
   "id": "a3f31f07",
   "metadata": {},
   "outputs": [],
   "source": [
    "df5.rename(columns={0:'관련 검색어',1:'검색량'},inplace=True)"
   ]
  },
  {
   "cell_type": "code",
   "execution_count": 678,
   "id": "0270bb12",
   "metadata": {},
   "outputs": [],
   "source": [
    "df5.set_index('관련 검색어',inplace=True)"
   ]
  },
  {
   "cell_type": "code",
   "execution_count": 679,
   "id": "94b9cb8d",
   "metadata": {
    "scrolled": false
   },
   "outputs": [
    {
     "data": {
      "text/html": [
       "<div>\n",
       "<style scoped>\n",
       "    .dataframe tbody tr th:only-of-type {\n",
       "        vertical-align: middle;\n",
       "    }\n",
       "\n",
       "    .dataframe tbody tr th {\n",
       "        vertical-align: top;\n",
       "    }\n",
       "\n",
       "    .dataframe thead th {\n",
       "        text-align: right;\n",
       "    }\n",
       "</style>\n",
       "<table border=\"1\" class=\"dataframe\">\n",
       "  <thead>\n",
       "    <tr style=\"text-align: right;\">\n",
       "      <th></th>\n",
       "      <th>검색량</th>\n",
       "    </tr>\n",
       "    <tr>\n",
       "      <th>관련 검색어</th>\n",
       "      <th></th>\n",
       "    </tr>\n",
       "  </thead>\n",
       "  <tbody>\n",
       "    <tr>\n",
       "      <th>빼빼로 데이</th>\n",
       "      <td>100</td>\n",
       "    </tr>\n",
       "    <tr>\n",
       "      <th>빼빼로 만들기</th>\n",
       "      <td>15</td>\n",
       "    </tr>\n",
       "    <tr>\n",
       "      <th>빼빼로 종류</th>\n",
       "      <td>11</td>\n",
       "    </tr>\n",
       "    <tr>\n",
       "      <th>빼빼로 데이 선물</th>\n",
       "      <td>10</td>\n",
       "    </tr>\n",
       "    <tr>\n",
       "      <th>빼빼로 게임</th>\n",
       "      <td>10</td>\n",
       "    </tr>\n",
       "  </tbody>\n",
       "</table>\n",
       "</div>"
      ],
      "text/plain": [
       "           검색량\n",
       "관련 검색어        \n",
       "빼빼로 데이     100\n",
       "빼빼로 만들기     15\n",
       "빼빼로 종류      11\n",
       "빼빼로 데이 선물   10\n",
       "빼빼로 게임      10"
      ]
     },
     "execution_count": 679,
     "metadata": {},
     "output_type": "execute_result"
    }
   ],
   "source": [
    "# 검색어 TOP 5\n",
    "df5.head(5)"
   ]
  },
  {
   "cell_type": "markdown",
   "id": "7be61236",
   "metadata": {},
   "source": [
    "### (2) 2021년 '가래떡' 관련 검색어"
   ]
  },
  {
   "cell_type": "code",
   "execution_count": 680,
   "id": "bf398307",
   "metadata": {},
   "outputs": [
    {
     "data": {
      "text/html": [
       "<div>\n",
       "<style scoped>\n",
       "    .dataframe tbody tr th:only-of-type {\n",
       "        vertical-align: middle;\n",
       "    }\n",
       "\n",
       "    .dataframe tbody tr th {\n",
       "        vertical-align: top;\n",
       "    }\n",
       "\n",
       "    .dataframe thead th {\n",
       "        text-align: right;\n",
       "    }\n",
       "</style>\n",
       "<table border=\"1\" class=\"dataframe\">\n",
       "  <thead>\n",
       "    <tr style=\"text-align: right;\">\n",
       "      <th></th>\n",
       "      <th>카테고리: 모든 카테고리</th>\n",
       "    </tr>\n",
       "  </thead>\n",
       "  <tbody>\n",
       "    <tr>\n",
       "      <th>0</th>\n",
       "      <td>가래떡: (2021, 대한민국)</td>\n",
       "    </tr>\n",
       "    <tr>\n",
       "      <th>1</th>\n",
       "      <td>TOP</td>\n",
       "    </tr>\n",
       "    <tr>\n",
       "      <th>2</th>\n",
       "      <td>가래떡 떡볶이,100</td>\n",
       "    </tr>\n",
       "    <tr>\n",
       "      <th>3</th>\n",
       "      <td>가래떡 칼로리,71</td>\n",
       "    </tr>\n",
       "    <tr>\n",
       "      <th>4</th>\n",
       "      <td>가래떡 에어 프라이어,66</td>\n",
       "    </tr>\n",
       "  </tbody>\n",
       "</table>\n",
       "</div>"
      ],
      "text/plain": [
       "       카테고리: 모든 카테고리\n",
       "0  가래떡: (2021, 대한민국)\n",
       "1                TOP\n",
       "2        가래떡 떡볶이,100\n",
       "3         가래떡 칼로리,71\n",
       "4     가래떡 에어 프라이어,66"
      ]
     },
     "execution_count": 680,
     "metadata": {},
     "output_type": "execute_result"
    }
   ],
   "source": [
    "# '가래떡' 관련 검색어 DF 생성\n",
    "df7.head()"
   ]
  },
  {
   "cell_type": "code",
   "execution_count": 681,
   "id": "870048d1",
   "metadata": {},
   "outputs": [],
   "source": [
    "# 불필요한 행 삭제하고 슬라이싱\n",
    "df7.drop([0,1],inplace=True)\n",
    "df7=df7[:25]"
   ]
  },
  {
   "cell_type": "code",
   "execution_count": 682,
   "id": "a079a024",
   "metadata": {},
   "outputs": [],
   "source": [
    "df7=df7['카테고리: 모든 카테고리'].str.split(',',expand=True)"
   ]
  },
  {
   "cell_type": "code",
   "execution_count": 683,
   "id": "9d638078",
   "metadata": {},
   "outputs": [],
   "source": [
    "df7.rename(columns={0:'관련 검색어',1:'검색량'},inplace=True)"
   ]
  },
  {
   "cell_type": "code",
   "execution_count": 684,
   "id": "52ea9c64",
   "metadata": {},
   "outputs": [],
   "source": [
    "df7.set_index('관련 검색어',inplace=True)"
   ]
  },
  {
   "cell_type": "code",
   "execution_count": 685,
   "id": "df629c27",
   "metadata": {},
   "outputs": [
    {
     "data": {
      "text/html": [
       "<div>\n",
       "<style scoped>\n",
       "    .dataframe tbody tr th:only-of-type {\n",
       "        vertical-align: middle;\n",
       "    }\n",
       "\n",
       "    .dataframe tbody tr th {\n",
       "        vertical-align: top;\n",
       "    }\n",
       "\n",
       "    .dataframe thead th {\n",
       "        text-align: right;\n",
       "    }\n",
       "</style>\n",
       "<table border=\"1\" class=\"dataframe\">\n",
       "  <thead>\n",
       "    <tr style=\"text-align: right;\">\n",
       "      <th></th>\n",
       "      <th>검색량</th>\n",
       "    </tr>\n",
       "    <tr>\n",
       "      <th>관련 검색어</th>\n",
       "      <th></th>\n",
       "    </tr>\n",
       "  </thead>\n",
       "  <tbody>\n",
       "    <tr>\n",
       "      <th>가래떡 떡볶이</th>\n",
       "      <td>100</td>\n",
       "    </tr>\n",
       "    <tr>\n",
       "      <th>가래떡 칼로리</th>\n",
       "      <td>71</td>\n",
       "    </tr>\n",
       "    <tr>\n",
       "      <th>가래떡 에어 프라이어</th>\n",
       "      <td>66</td>\n",
       "    </tr>\n",
       "    <tr>\n",
       "      <th>가래떡 데이</th>\n",
       "      <td>52</td>\n",
       "    </tr>\n",
       "    <tr>\n",
       "      <th>가래떡 만들기</th>\n",
       "      <td>48</td>\n",
       "    </tr>\n",
       "    <tr>\n",
       "      <th>가래떡 구이</th>\n",
       "      <td>31</td>\n",
       "    </tr>\n",
       "    <tr>\n",
       "      <th>가래떡 요리</th>\n",
       "      <td>22</td>\n",
       "    </tr>\n",
       "  </tbody>\n",
       "</table>\n",
       "</div>"
      ],
      "text/plain": [
       "             검색량\n",
       "관련 검색어          \n",
       "가래떡 떡볶이      100\n",
       "가래떡 칼로리       71\n",
       "가래떡 에어 프라이어   66\n",
       "가래떡 데이        52\n",
       "가래떡 만들기       48\n",
       "가래떡 구이        31\n",
       "가래떡 요리        22"
      ]
     },
     "execution_count": 685,
     "metadata": {},
     "output_type": "execute_result"
    }
   ],
   "source": [
    "# 관련 검색어\n",
    "df7.head(7)"
   ]
  },
  {
   "cell_type": "markdown",
   "id": "144e322e",
   "metadata": {},
   "source": [
    "## 3.\n",
    "### [결론 도출]\n",
    "\n",
    "- 빼빼로데이에서 농업인의 날을 살리고 쌀 소비를 촉진하기 위해 11월 11일을 가래떡데이로 지정했지만, 데이터들을 보면 알 수 있듯 인지는 하고 있지만 미미한 것을 볼 수 있었습니다.\n",
    "- 가래떡 관련 검색어는 음식에 초점이 가 있고, 최근 K-디저트가 유행하고 있기 때문에 가래떡으로 만든 디저트나 레시피 등으로 마케팅을 펼친다면 가래떡데이를 좀 더 대중적으로 널리 알릴 수 있지 않을까 하는 생각을 했습니다."
   ]
  }
 ],
 "metadata": {
  "kernelspec": {
   "display_name": "Python 3 (ipykernel)",
   "language": "python",
   "name": "python3"
  },
  "language_info": {
   "codemirror_mode": {
    "name": "ipython",
    "version": 3
   },
   "file_extension": ".py",
   "mimetype": "text/x-python",
   "name": "python",
   "nbconvert_exporter": "python",
   "pygments_lexer": "ipython3",
   "version": "3.9.12"
  }
 },
 "nbformat": 4,
 "nbformat_minor": 5
}
