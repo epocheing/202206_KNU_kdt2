{
 "cells": [
  {
   "cell_type": "markdown",
   "metadata": {},
   "source": [
    "# 정규 표현식 메타문자\n",
    "- 파이썬 re 모듈 사용"
   ]
  },
  {
   "cell_type": "code",
   "execution_count": 2,
   "metadata": {},
   "outputs": [],
   "source": [
    "import re"
   ]
  },
  {
   "cell_type": "markdown",
   "metadata": {},
   "source": [
    "## [] = 문자 클래스\n",
    "- \\d = 숫자와 매치\n",
    "- \\s = whitespace문자와 매치\n",
    "- \\w = 문자+숫자와 매치\n",
    "- 대문자는 반대로 매치"
   ]
  },
  {
   "cell_type": "code",
   "execution_count": 3,
   "metadata": {},
   "outputs": [
    {
     "data": {
      "text/plain": [
       "(<re.Match object; span=(0, 1), match='a'>,\n",
       " <re.Match object; span=(0, 1), match='b'>,\n",
       " None)"
      ]
     },
     "execution_count": 3,
     "metadata": {},
     "output_type": "execute_result"
    }
   ],
   "source": [
    "p = re.compile(\"[abc]\")\n",
    "p.match(\"abc\"), p.match(\"before\"), p.match(\"dude\")"
   ]
  },
  {
   "cell_type": "markdown",
   "metadata": {},
   "source": [
    "## Dot(.) = 줄바꿈 제외한 모든 문자와 매치"
   ]
  },
  {
   "cell_type": "code",
   "execution_count": 4,
   "metadata": {},
   "outputs": [
    {
     "data": {
      "text/plain": [
       "(<re.Match object; span=(0, 3), match='aab'>,\n",
       " <re.Match object; span=(0, 3), match='a0b'>,\n",
       " None)"
      ]
     },
     "execution_count": 4,
     "metadata": {},
     "output_type": "execute_result"
    }
   ],
   "source": [
    "p = re.compile(\"a.b\")\n",
    "p.match(\"aab\"), p.match(\"a0b\"), p.match(\"abc\")"
   ]
  },
  {
   "cell_type": "markdown",
   "metadata": {},
   "source": [
    "## \\* = 반복, 0번부터 시작"
   ]
  },
  {
   "cell_type": "code",
   "execution_count": 5,
   "metadata": {},
   "outputs": [
    {
     "data": {
      "text/plain": [
       "(<re.Match object; span=(0, 2), match='ct'>,\n",
       " <re.Match object; span=(0, 3), match='cat'>,\n",
       " <re.Match object; span=(0, 6), match='caaaat'>)"
      ]
     },
     "execution_count": 5,
     "metadata": {},
     "output_type": "execute_result"
    }
   ],
   "source": [
    "p = re.compile(\"ca*t\")\n",
    "p.match(\"ct\"), p.match(\"cat\"), p.match(\"caaaat\")"
   ]
  },
  {
   "cell_type": "markdown",
   "metadata": {},
   "source": [
    "## \\+ = 반복, 1번부터 시작"
   ]
  },
  {
   "cell_type": "code",
   "execution_count": 6,
   "metadata": {},
   "outputs": [
    {
     "data": {
      "text/plain": [
       "(None,\n",
       " <re.Match object; span=(0, 3), match='cat'>,\n",
       " <re.Match object; span=(0, 6), match='caaaat'>)"
      ]
     },
     "execution_count": 6,
     "metadata": {},
     "output_type": "execute_result"
    }
   ],
   "source": [
    "p = re.compile(\"ca+t\")\n",
    "p.match(\"ct\"), p.match(\"cat\"), p.match(\"caaaat\")"
   ]
  },
  {
   "cell_type": "markdown",
   "metadata": {},
   "source": [
    "## {m,n} = 반복, m ~ n 번 반복 "
   ]
  },
  {
   "cell_type": "code",
   "execution_count": 7,
   "metadata": {},
   "outputs": [
    {
     "data": {
      "text/plain": [
       "(None, <re.Match object; span=(0, 4), match='caat'>)"
      ]
     },
     "execution_count": 7,
     "metadata": {},
     "output_type": "execute_result"
    }
   ],
   "source": [
    "p = re.compile(\"ca{2}t\")\n",
    "p.match('cat'), p.match('caat')"
   ]
  },
  {
   "cell_type": "code",
   "execution_count": 8,
   "metadata": {},
   "outputs": [
    {
     "data": {
      "text/plain": [
       "(None,\n",
       " <re.Match object; span=(0, 4), match='caat'>,\n",
       " <re.Match object; span=(0, 7), match='caaaaat'>)"
      ]
     },
     "execution_count": 8,
     "metadata": {},
     "output_type": "execute_result"
    }
   ],
   "source": [
    "p = re.compile(\"ca{2,5}t\")\n",
    "p.match('cat'), p.match('caat'), p.match('caaaaat')"
   ]
  },
  {
   "cell_type": "markdown",
   "metadata": {},
   "source": [
    "## ? = {0,1} 있거나 없거나"
   ]
  },
  {
   "cell_type": "code",
   "execution_count": 9,
   "metadata": {},
   "outputs": [
    {
     "data": {
      "text/plain": [
       "(<re.Match object; span=(0, 3), match='abc'>,\n",
       " <re.Match object; span=(0, 2), match='ac'>)"
      ]
     },
     "execution_count": 9,
     "metadata": {},
     "output_type": "execute_result"
    }
   ],
   "source": [
    "p = re.compile(\"ab?c\")\n",
    "p.match('abc'), p.match('ac')"
   ]
  }
 ],
 "metadata": {
  "kernelspec": {
   "display_name": "Python 3.9.12 ('EV_PY39')",
   "language": "python",
   "name": "python3"
  },
  "language_info": {
   "codemirror_mode": {
    "name": "ipython",
    "version": 3
   },
   "file_extension": ".py",
   "mimetype": "text/x-python",
   "name": "python",
   "nbconvert_exporter": "python",
   "pygments_lexer": "ipython3",
   "version": "3.9.12"
  },
  "orig_nbformat": 4,
  "vscode": {
   "interpreter": {
    "hash": "7046fadfc8eb06ac6ccb78d8ddd5e12eef28a4f384be78d2cf2a68fb34b54387"
   }
  }
 },
 "nbformat": 4,
 "nbformat_minor": 2
}
