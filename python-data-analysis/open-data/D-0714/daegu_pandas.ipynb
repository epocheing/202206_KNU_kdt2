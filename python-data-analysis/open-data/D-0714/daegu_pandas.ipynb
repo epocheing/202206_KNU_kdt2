{
 "cells": [
  {
   "cell_type": "markdown",
   "metadata": {},
   "source": [
    "# 대구 날씨 분석 (판다스)"
   ]
  },
  {
   "cell_type": "code",
   "execution_count": 50,
   "metadata": {},
   "outputs": [],
   "source": [
    "import pandas as pd"
   ]
  },
  {
   "cell_type": "markdown",
   "metadata": {},
   "source": [
    "## 컬럼명에서 특수기호 제거"
   ]
  },
  {
   "cell_type": "code",
   "execution_count": 51,
   "metadata": {},
   "outputs": [
    {
     "name": "stdout",
     "output_type": "stream",
     "text": [
      "Index(['날짜', '지점', '평균기온(℃)', '최저기온(℃)', '최고기온(℃)'], dtype='object')\n",
      "object\n"
     ]
    }
   ],
   "source": [
    "weather_df = pd.read_csv('../Data/daegu.csv', encoding='euc_kr')\n",
    "print(weather_df.columns)\n",
    "print(weather_df['날짜'].dtype)"
   ]
  },
  {
   "cell_type": "code",
   "execution_count": 52,
   "metadata": {},
   "outputs": [
    {
     "name": "stdout",
     "output_type": "stream",
     "text": [
      "Index(['날짜', '지점', '평균기온', '최저기온', '최고기온'], dtype='object')\n",
      "object\n"
     ]
    }
   ],
   "source": [
    "weather_df.columns = ['날짜', '지점', '평균기온', '최저기온', '최고기온']\n",
    "print(weather_df.columns)\n",
    "print(weather_df['날짜'].dtype)"
   ]
  },
  {
   "cell_type": "code",
   "execution_count": 53,
   "metadata": {},
   "outputs": [],
   "source": [
    "weather_df['날짜'] = pd.to_datetime(weather_df['날짜'], format='%Y-%m-%d')"
   ]
  },
  {
   "cell_type": "code",
   "execution_count": 54,
   "metadata": {},
   "outputs": [
    {
     "name": "stdout",
     "output_type": "stream",
     "text": [
      "datetime64[ns]\n"
     ]
    }
   ],
   "source": [
    "print(weather_df['날짜'].dtype)"
   ]
  },
  {
   "cell_type": "markdown",
   "metadata": {},
   "source": [
    "## 누락값 확인"
   ]
  },
  {
   "cell_type": "code",
   "execution_count": 55,
   "metadata": {},
   "outputs": [
    {
     "name": "stdout",
     "output_type": "stream",
     "text": [
      "          날짜   지점  평균기온  최저기온  최고기온\n",
      "0 1907-01-31  143   NaN  -7.0   0.8\n",
      "1 1907-02-01  143   NaN   NaN   NaN\n",
      "2 1907-02-02  143   NaN   NaN   NaN\n",
      "3 1907-02-03  143   NaN   NaN   NaN\n",
      "4 1907-02-04  143   NaN   NaN   NaN \n",
      "\n",
      "날짜        0\n",
      "지점        0\n",
      "평균기온    703\n",
      "최저기온    629\n",
      "최고기온    630\n",
      "dtype: int64\n"
     ]
    }
   ],
   "source": [
    "print(weather_df.head(), '\\n')\n",
    "num_rows = weather_df.shape[0]\n",
    "num_missing = num_rows - weather_df.count()\n",
    "print(num_missing)"
   ]
  },
  {
   "cell_type": "markdown",
   "metadata": {},
   "source": [
    "## 누락값 처리"
   ]
  },
  {
   "cell_type": "code",
   "execution_count": 56,
   "metadata": {},
   "outputs": [
    {
     "name": "stdout",
     "output_type": "stream",
     "text": [
      "날짜      41450\n",
      "지점      41450\n",
      "평균기온    41450\n",
      "최저기온    41450\n",
      "최고기온    41450\n",
      "dtype: int64\n",
      "            날짜   지점  평균기온  최저기온  최고기온\n",
      "701 1909-01-01  143  -4.1  -8.0   0.1\n",
      "702 1909-01-02  143  -0.8  -6.7   6.1\n",
      "703 1909-01-03  143   1.0  -2.4   3.6\n",
      "704 1909-01-04  143   4.2   0.0   9.2\n",
      "705 1909-01-05  143   3.4  -0.4   9.0\n"
     ]
    }
   ],
   "source": [
    "weather_df = weather_df.dropna(axis=0)\n",
    "print(weather_df.count())\n",
    "print(weather_df.head(5))"
   ]
  },
  {
   "cell_type": "markdown",
   "metadata": {},
   "source": [
    "## 누락값을 제서한 최종 데이터를 csv로 저장"
   ]
  },
  {
   "cell_type": "code",
   "execution_count": 57,
   "metadata": {},
   "outputs": [],
   "source": [
    "weather_df.to_csv('../Data/daegu_utf8.csv', index=False, mode='w', encoding='utf-8')"
   ]
  },
  {
   "cell_type": "markdown",
   "metadata": {},
   "source": [
    "## 2021년 7월값 추출"
   ]
  },
  {
   "cell_type": "code",
   "execution_count": 64,
   "metadata": {},
   "outputs": [
    {
     "name": "stdout",
     "output_type": "stream",
     "text": [
      "              날짜   지점  평균기온  최저기온  최고기온\n",
      "41085 2021-07-01  143  25.1  19.6  32.4\n",
      "41086 2021-07-02  143  24.0  20.3  28.8\n",
      "41087 2021-07-03  143  22.7  21.4  24.8\n",
      "41088 2021-07-04  143  27.8  21.8  32.4\n",
      "41089 2021-07-05  143  23.8  20.6  27.2\n"
     ]
    }
   ],
   "source": [
    "newweather_df = pd.read_csv('../Data/daegu_utf8.csv')\n",
    "newweather_df['날짜'] = pd.to_datetime(newweather_df['날짜'])\n",
    "year_df = newweather_df[newweather_df['날짜'].dt.year == 2021]\n",
    "month_df = year_df[year_df['날짜'].dt.month == 7]\n",
    "print(month_df.head())"
   ]
  },
  {
   "cell_type": "code",
   "execution_count": 68,
   "metadata": {},
   "outputs": [
    {
     "name": "stdout",
     "output_type": "stream",
     "text": [
      "32.1 22.9\n"
     ]
    }
   ],
   "source": [
    "max_temp_mean = round(month_df['최고기온'].mean(),1)\n",
    "min_temp_mean = round(month_df['최저기온'].mean(),1)\n",
    "\n",
    "print(max_temp_mean, min_temp_mean)"
   ]
  }
 ],
 "metadata": {
  "kernelspec": {
   "display_name": "Python 3.9.12 ('EV_PY39')",
   "language": "python",
   "name": "python3"
  },
  "language_info": {
   "codemirror_mode": {
    "name": "ipython",
    "version": 3
   },
   "file_extension": ".py",
   "mimetype": "text/x-python",
   "name": "python",
   "nbconvert_exporter": "python",
   "pygments_lexer": "ipython3",
   "version": "3.9.12"
  },
  "orig_nbformat": 4,
  "vscode": {
   "interpreter": {
    "hash": "d1dde8d3f1fc6169eb2afb9c884f1482ff31994a855398e316a83a9dc8ff488b"
   }
  }
 },
 "nbformat": 4,
 "nbformat_minor": 2
}
