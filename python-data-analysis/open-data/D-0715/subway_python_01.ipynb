{
 "cells": [
  {
   "cell_type": "markdown",
   "metadata": {},
   "source": [
    "# 서울 지하철 통계 분석"
   ]
  },
  {
   "cell_type": "code",
   "execution_count": 2,
   "metadata": {},
   "outputs": [
    {
     "name": "stdout",
     "output_type": "stream",
     "text": [
      "['사용월', '호선명', '역ID', '지하철역', '유임승차', '유임하차', '무임승차', '무임하차']\n",
      "['2022-06', '1호선', '150', '서울역', '1150754', '1123193', '194717', '187155']\n",
      "['2022-06', '1호선', '151', '시청', '537067', '543569', '80671', '78279']\n",
      "['2022-06', '1호선', '152', '종각', '834173', '815704', '131987', '121717']\n",
      "['2022-06', '1호선', '153', '종로3가', '450317', '404106', '299617', '278151']\n",
      "['2022-06', '1호선', '154', '종로5가', '394420', '404105', '254236', '244555']\n",
      "['2022-06', '1호선', '155', '동대문', '212719', '198987', '117499', '118515']\n",
      "['2022-06', '1호선', '156', '신설동', '264825', '252339', '112362', '106855']\n"
     ]
    }
   ],
   "source": [
    "import csv\n",
    "f = open('../Data/subwayfee.csv', encoding='utf-8')\n",
    "data = csv.reader(f)\n",
    "\n",
    "header = next(data)\n",
    "print(header)\n",
    "\n",
    "i = 0\n",
    "for row in data:\n",
    "    print(row)\n",
    "    if i > 5:\n",
    "        break\n",
    "    i += 1\n",
    "f.close()"
   ]
  },
  {
   "cell_type": "markdown",
   "metadata": {},
   "source": [
    "### 유임 승차 대 무임 승차 비율이 가장 높은 역은?\n",
    "- $rate = {유임승차인원 \\over 무임승차인원}$"
   ]
  },
  {
   "cell_type": "code",
   "execution_count": 3,
   "metadata": {},
   "outputs": [],
   "source": [
    "try:\n",
    "    import csv\n",
    "    f = open('../Data/subwayfee.csv', encoding='utf-8')\n",
    "    data = csv.reader(f)\n",
    "    header = next(data)\n",
    "\n",
    "    max_rate = 0\n",
    "    rate = 0\n",
    "\n",
    "    for row in data:\n",
    "        for i in range(4,8):\n",
    "            row[i] = int(row[i])\n",
    "        rate = row[4] / row[6]\n",
    "        if rate > max_rate:\n",
    "            max_rate = rate\n",
    "    f.close()\n",
    "    print(max_rate)\n",
    "except Exception:\n",
    "    pass"
   ]
  },
  {
   "cell_type": "markdown",
   "metadata": {},
   "source": [
    "### 무임 승차가 없는 역 확인\n",
    "- $ {유임승차인원 \\over {유임승차인원 + 무임승차인원}}  $"
   ]
  },
  {
   "cell_type": "code",
   "execution_count": 4,
   "metadata": {},
   "outputs": [
    {
     "name": "stdout",
     "output_type": "stream",
     "text": [
      "['2022-06', '일산선', '1949', '지축', 10, 0, 0, 0]\n",
      "['2022-06', '경의선', '1296', '계양', 10, 0, 0, 0]\n",
      "['2022-06', '경의선', '1297', '검암', 2, 0, 0, 0]\n",
      "['2022-06', '6호선', '2615', '연신내', 31, 0, 0, 0]\n",
      "['2022-06', '6호선', '2649', '신내', 4, 0, 0, 0]\n",
      "['2022-06', '7호선', '2753', '까치울', 1, 0, 0, 0]\n",
      "['2022-06', '7호선', '2758', '상동', 1, 0, 0, 0]\n",
      "['2022-06', '7호선', '2761', '부평구청', 1, 0, 0, 0]\n"
     ]
    }
   ],
   "source": [
    "import csv\n",
    "f = open('../Data/subwayfee.csv', encoding='utf-8')\n",
    "data = csv.reader(f)\n",
    "header = next(data)\n",
    "\n",
    "max_rate = 0\n",
    "rate = 0\n",
    "i = 0\n",
    "\n",
    "for row in data:\n",
    "    for i in range(4,8):\n",
    "        row[i] = int(row[i])\n",
    "    rate = row[4] / (row[4] + row[6])\n",
    "\n",
    "    if row[6] == 0:\n",
    "        print(row)\n",
    "\n",
    "f.close()"
   ]
  },
  {
   "cell_type": "markdown",
   "metadata": {},
   "source": [
    "### 무임승차 비율\n",
    "- ${{무임승차수} \\over {유임승차수 + 무임승차수}} * 100$"
   ]
  },
  {
   "cell_type": "code",
   "execution_count": 5,
   "metadata": {},
   "outputs": [
    {
     "name": "stdout",
     "output_type": "stream",
     "text": [
      "['2022-06', '1호선', '150', '서울역', 1150754, 1123193, 194717, 187155] 14.472032470413707\n",
      "['2022-06', '1호선', '153', '종로3가', 450317, 404106, 299617, 278151] 39.952449148858435\n",
      "['2022-06', '1호선', '157', '제기동', 218782, 209109, 263173, 281985] 54.6053054745775\n",
      "['2022-06', '경원선', '1916', '소요산', 32659, 25998, 62990, 56806] 65.85536701899655\n",
      "['2022-06', '7호선', '2756', '신중동', 0, 0, 1, 0] 100.0\n"
     ]
    }
   ],
   "source": [
    "import csv\n",
    "f = open('../Data/subwayfee.csv', encoding='utf-8')\n",
    "data = csv.reader(f)\n",
    "header = next(data)\n",
    "\n",
    "max_rate = 0\n",
    "rate = 0\n",
    "\n",
    "for row in data:\n",
    "    for i in range(4,8):\n",
    "        row[i] = int(row[i])\n",
    "    rate = (row[6] * 100) / (row[4] + row[6])\n",
    "\n",
    "    if rate > max_rate:\n",
    "        max_rate = rate\n",
    "        print(row, max_rate)\n",
    "f.close()"
   ]
  },
  {
   "cell_type": "markdown",
   "metadata": {},
   "source": [
    "### 10만명 넘게 승하차하는 역에서 유임승차비율이 제일 높은역"
   ]
  },
  {
   "cell_type": "code",
   "execution_count": 6,
   "metadata": {},
   "outputs": [
    {
     "name": "stdout",
     "output_type": "stream",
     "text": [
      "['2022-06', '2호선', '209', '한양대', 269240, 295829, 12481, 13227]\n",
      "0.9556973033604169\n"
     ]
    }
   ],
   "source": [
    "import csv\n",
    "f = open('../Data/subwayfee.csv', encoding='utf-8')\n",
    "data = csv.reader(f)\n",
    "header = next(data)\n",
    "\n",
    "max_rate = 0\n",
    "rate = 0\n",
    "\n",
    "max_row = []\n",
    "total_count = 0\n",
    "max_total_num = 0\n",
    "\n",
    "for row in data:\n",
    "    for i in range(4,8):\n",
    "        row[i] = int(row[i])\n",
    "    total_count = row[4] + row[6]\n",
    "    if row[6] != 0 and row[4] + row[6] > 100000:\n",
    "        rate = row[4] / total_count\n",
    "        if rate > max_rate:\n",
    "            max_rate = rate\n",
    "            max_row = row\n",
    "            max_total_num = total_count\n",
    "f.close()\n",
    "\n",
    "print(max_row)\n",
    "print(max_rate)\n",
    "    "
   ]
  },
  {
   "cell_type": "markdown",
   "metadata": {},
   "source": [
    "### 유임 승차 비율이 50% 이하인 역\n",
    "- 유임승차 비율 50% 이상\n",
    "- 승차인원 10000명 이상\n",
    "- 유임승차 비율 가장 낮은 역의 비율 파이차트"
   ]
  },
  {
   "cell_type": "code",
   "execution_count": 8,
   "metadata": {},
   "outputs": [
    {
     "name": "stdout",
     "output_type": "stream",
     "text": [
      "['2022-06', '1호선', '157', '제기동', 218782, '209109', 263173, '281985'] 0.45\n",
      "['2022-06', '1호선', '159', '동묘앞', 122460, '131299', 146455, '147539'] 0.46\n",
      "['2022-06', '경원선', '1916', '소요산', 32659, '25998', 62990, '56806'] 0.34\n",
      "['2022-06', '중앙선', '1218', '원덕', 5854, '5749', 6959, '6739'] 0.46\n",
      "['2022-06', '중앙선', '1219', '용문', 34168, '34477', 38467, '38202'] 0.47\n",
      "유임승차 비율이 가장 낮은 역: 소요산, 전체 인원: 95,649, 유임승차인원: 32,659, 유임승차비율: 0.34\n"
     ]
    },
    {
     "data": {
      "image/png": "[encoded data removed]",
      "text/plain": [
       "<Figure size 432x288 with 1 Axes>"
      ]
     },
     "metadata": {},
     "output_type": "display_data"
    }
   ],
   "source": [
    "import csv\n",
    "import matplotlib.pyplot as plt\n",
    "\n",
    "f = open(\"../Data/subwayfee.csv\", encoding=\"utf-8\")\n",
    "data = csv.reader(f)\n",
    "header = next(data)\n",
    "\n",
    "min_rate = 100\n",
    "rate = 0\n",
    "total_count = 0\n",
    "min_rate_row = []\n",
    "min_total_count = 0\n",
    "\n",
    "for row in data:\n",
    "    for i in [4, 6]:\n",
    "        row[i] = int(row[i])\n",
    "    total_count = row[4] + row[6]\n",
    "    if total_count > 10000 and row[6] != 0:\n",
    "        rate = row[4] / total_count\n",
    "        if rate < 0.5:\n",
    "            print(row, round(rate, 2))\n",
    "            if min_rate > rate:\n",
    "                min_rate = rate\n",
    "                min_rate_row = row\n",
    "                min_total_count = total_count\n",
    "print(\n",
    "    \"유임승차 비율이 가장 낮은 역: {0}, 전체 인원: {1:,}, 유임승차인원: {2:,}, 유임승차비율: {3:,}\".format(\n",
    "        min_rate_row[3], min_total_count, min_rate_row[4], round(min_rate, 2)\n",
    "    )\n",
    ")\n",
    "\n",
    "plt.rc(\"font\", family=\"Malgun Gothic\")\n",
    "\n",
    "plt.title(min_rate_row[3] + \"유,무임 승차 비율\")\n",
    "label = [\"유임승차\", \"무임승차\"]\n",
    "values = [min_rate_row[4], min_rate_row[6]]\n",
    "plt.pie(values, labels=label, autopct=\"%.1f%%\")\n",
    "plt.show()"
   ]
  },
  {
   "cell_type": "markdown",
   "metadata": {},
   "source": [
    "## 모든 역의 유임,무임 승차,하차 인원 분석"
   ]
  },
  {
   "cell_type": "code",
   "execution_count": 10,
   "metadata": {},
   "outputs": [],
   "source": [
    "import csv\n",
    "import platform\n",
    "import matplotlib.pyplot as plt\n",
    "\n",
    "label = ['유임승차', '유임하차', '무임승차', '무임하차']\n",
    "c = ['#14CCC0', '#389993', '#FF1C6A', '#CC14AF']\n",
    "pic_count = 0\n",
    "\n",
    "with open('../Data/subwayfee.csv', encoding='utf-8') as f:\n",
    "    data = csv.reader(f)\n",
    "    next(data)\n",
    "    if(platform.system() == 'Windows'):\n",
    "        plt.rc('font', family='Malgun Gothic')\n",
    "    else:\n",
    "        plt.rc('font', family='AppleGothic')\n",
    "    \n",
    "    for row in data:\n",
    "        for i in range(4,8):\n",
    "            row[i] = int(row[i])\n",
    "        plt.figure(dpi=100)\n",
    "        plt.title(row[3] + ' ' + row[1])\n",
    "        plt.pie(row[4:8], labels=label, colors=c, autopct = '%.1f%%')\n",
    "        plt.savefig('../Images/' + row[3] + ' ' + row[1] + '.png')\n",
    "        plt.close()\n",
    "\n",
    "        # pic_count += 1\n",
    "        # if pic_count >= 10:\n",
    "        #     break"
   ]
  }
 ],
 "metadata": {
  "kernelspec": {
   "display_name": "Python 3.9.12 ('EV_PY39')",
   "language": "python",
   "name": "python3"
  },
  "language_info": {
   "codemirror_mode": {
    "name": "ipython",
    "version": 3
   },
   "file_extension": ".py",
   "mimetype": "text/x-python",
   "name": "python",
   "nbconvert_exporter": "python",
   "pygments_lexer": "ipython3",
   "version": "3.9.12"
  },
  "orig_nbformat": 4,
  "vscode": {
   "interpreter": {
    "hash": "d1dde8d3f1fc6169eb2afb9c884f1482ff31994a855398e316a83a9dc8ff488b"
   }
  }
 },
 "nbformat": 4,
 "nbformat_minor": 2
}
