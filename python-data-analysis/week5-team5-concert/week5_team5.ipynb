{
 "cells": [
  {
   "cell_type": "markdown",
   "metadata": {},
   "source": [
    "**<span style='color:royalBlue'>트렌드 분석을 통한 공연 기획</span>**                     \n",
    "===========================================\n",
    "**********\n",
    "\n",
    "<img src=\"https://w.namu.la/s/283da6e41a2d5706f0f63712e2852916aef67c052705af022649efe565f2338b3e8fe1f6a83d26e0c7574dac04c0282254f988d59e81a62d421ddd03a3c1fc0a42ddf1fe0fdc074279fb2eaa9f7d377fba5588d83a131229f2fddd6dc61cdcae7cac6eb6f673d3a7b79826cf166e4214\" height='250'><br/>\n",
    "### 팀명 : 기대하쇼~쇼~SHOW!<br/>\n",
    "### 팀원 : 곽성화 이혜진 김재열 김도영 이호진 송인욱<br/>\n",
    "\n",
    "#### 개인별 세부 주제\n",
    "\n",
    "- 곽성화 : 트랜드 분석을 활용한 공연 기획의 필요성\n",
    "- 이혜진 : 공연 기간 트렌드 분석 \n",
    "- 김재열 : 관람객 트렌드 분석\n",
    "- 김도영 : 공연 장소 트렌드 분석\n",
    "- 이호진 : 공연 장르 트렌드 분석\n",
    "- 송인욱 : 공연 관련 사회적 이슈 분석 및 공연 구성 기획"
   ]
  }
 ],
 "metadata": {
  "kernelspec": {
   "display_name": "Python 3.9.12 ('EV_PY39')",
   "language": "python",
   "name": "python3"
  },
  "language_info": {
   "name": "python",
   "version": "3.9.12"
  },
  "orig_nbformat": 4,
  "vscode": {
   "interpreter": {
    "hash": "7046fadfc8eb06ac6ccb78d8ddd5e12eef28a4f384be78d2cf2a68fb34b54387"
   }
  }
 },
 "nbformat": 4,
 "nbformat_minor": 2
}
