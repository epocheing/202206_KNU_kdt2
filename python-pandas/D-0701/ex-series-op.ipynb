{
 "cells": [
  {
   "cell_type": "markdown",
   "metadata": {},
   "source": [
    "# Series 객체와 숫자 연산 수행\n",
    "- Series 객체의 모든 원소에 숫자 연산 적용 => 브로드캐스팅(brodcasting)"
   ]
  },
  {
   "cell_type": "code",
   "execution_count": 1,
   "metadata": {},
   "outputs": [
    {
     "data": {
      "text/plain": [
       "0    10\n",
       "1    20\n",
       "2    30\n",
       "3    40\n",
       "dtype: int64"
      ]
     },
     "execution_count": 1,
     "metadata": {},
     "output_type": "execute_result"
    }
   ],
   "source": [
    "# 모듈 로딩\n",
    "import pandas as pd\n",
    "\n",
    "# Series 객체 생성\n",
    "sr = pd.Series([10, 20, 30, 40])\n",
    "\n",
    "# Series 객체 데이터 확인\n",
    "sr"
   ]
  },
  {
   "cell_type": "code",
   "execution_count": 3,
   "metadata": {},
   "outputs": [
    {
     "name": "stdout",
     "output_type": "stream",
     "text": [
      "result - \n",
      "0    15\n",
      "1    25\n",
      "2    35\n",
      "3    45\n",
      "dtype: int64\n",
      "result type - <class 'pandas.core.series.Series'>\n"
     ]
    }
   ],
   "source": [
    "# 숫자 데이터 연산 수행\n",
    "result = sr + 5\n",
    "print(f\"result - \\n{result}\", f\"result type - {type(result)}\", sep=\"\\n\")"
   ]
  },
  {
   "cell_type": "code",
   "execution_count": 7,
   "metadata": {},
   "outputs": [
    {
     "name": "stdout",
     "output_type": "stream",
     "text": [
      "sr1.index => Index(['국어', '영어', '수학'], dtype='object')\n",
      "sr2.index => Index(['수학', '국어', '영어'], dtype='object')\n",
      "sr3.index => Index(['국어', '수학'], dtype='object')\n"
     ]
    }
   ],
   "source": [
    "# Series 객체 + Series 객체 연산 수행\n",
    "\n",
    "sr1 = pd.Series({\"국어\": 90, \"영어\": 60, \"수학\": 60})\n",
    "sr2 = pd.Series({\"수학\": 66, \"국어\": 55, \"영어\": 45})\n",
    "sr3 = pd.Series({\"국어\": 50, \"수학\": 70})\n",
    "\n",
    "print(f\"sr1.index => {sr1.index}\")\n",
    "print(f\"sr2.index => {sr2.index}\")\n",
    "print(f\"sr3.index => {sr3.index}\")"
   ]
  },
  {
   "cell_type": "code",
   "execution_count": 9,
   "metadata": {},
   "outputs": [
    {
     "data": {
      "text/plain": [
       "국어    145\n",
       "수학    126\n",
       "영어    105\n",
       "dtype: int64"
      ]
     },
     "execution_count": 9,
     "metadata": {},
     "output_type": "execute_result"
    }
   ],
   "source": [
    "# 인덱스 정렬후 동일 인덱스끼리 연산 수행\n",
    "result = sr1 + sr2\n",
    "result"
   ]
  },
  {
   "cell_type": "code",
   "execution_count": 10,
   "metadata": {},
   "outputs": [
    {
     "data": {
      "text/plain": [
       "국어    140.0\n",
       "수학    130.0\n",
       "영어      NaN\n",
       "dtype: float64"
      ]
     },
     "execution_count": 10,
     "metadata": {},
     "output_type": "execute_result"
    }
   ],
   "source": [
    "# 동일 인덱스가 없는 경우 연산 수행 안함 => NaN 빈칸의미\n",
    "result = sr1 + sr3\n",
    "result"
   ]
  },
  {
   "cell_type": "code",
   "execution_count": 13,
   "metadata": {},
   "outputs": [
    {
     "data": {
      "text/plain": [
       "국어    140.0\n",
       "수학    130.0\n",
       "영어     60.0\n",
       "dtype: float64"
      ]
     },
     "execution_count": 13,
     "metadata": {},
     "output_type": "execute_result"
    }
   ],
   "source": [
    "result = sr1.add(sr3, fill_value=0)\n",
    "result"
   ]
  }
 ],
 "metadata": {
  "kernelspec": {
   "display_name": "Python 3.9.12 ('EV_PY39')",
   "language": "python",
   "name": "python3"
  },
  "language_info": {
   "codemirror_mode": {
    "name": "ipython",
    "version": 3
   },
   "file_extension": ".py",
   "mimetype": "text/x-python",
   "name": "python",
   "nbconvert_exporter": "python",
   "pygments_lexer": "ipython3",
   "version": "3.9.12"
  },
  "orig_nbformat": 4,
  "vscode": {
   "interpreter": {
    "hash": "d1dde8d3f1fc6169eb2afb9c884f1482ff31994a855398e316a83a9dc8ff488b"
   }
  }
 },
 "nbformat": 4,
 "nbformat_minor": 2
}
