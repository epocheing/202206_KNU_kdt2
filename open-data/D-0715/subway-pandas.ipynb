{
 "cells": [
  {
   "cell_type": "markdown",
   "metadata": {},
   "source": [
    "# 판다스로 엑셀 불러와 분석"
   ]
  },
  {
   "cell_type": "code",
   "execution_count": 1,
   "metadata": {},
   "outputs": [],
   "source": [
    "import pandas as pd\n",
    "import matplotlib.pyplot as plt\n",
    "import platform"
   ]
  },
  {
   "cell_type": "code",
   "execution_count": 2,
   "metadata": {},
   "outputs": [
    {
     "data": {
      "text/html": [
       "<div>\n",
       "<style scoped>\n",
       "    .dataframe tbody tr th:only-of-type {\n",
       "        vertical-align: middle;\n",
       "    }\n",
       "\n",
       "    .dataframe tbody tr th {\n",
       "        vertical-align: top;\n",
       "    }\n",
       "\n",
       "    .dataframe thead tr th {\n",
       "        text-align: left;\n",
       "    }\n",
       "</style>\n",
       "<table border=\"1\" class=\"dataframe\">\n",
       "  <thead>\n",
       "    <tr>\n",
       "      <th></th>\n",
       "      <th>사용월</th>\n",
       "      <th>호선명</th>\n",
       "      <th>역ID</th>\n",
       "      <th>지하철역</th>\n",
       "      <th colspan=\"2\" halign=\"left\">04:00:00~04:59:59</th>\n",
       "      <th colspan=\"2\" halign=\"left\">05:00:00~05:59:59</th>\n",
       "      <th colspan=\"2\" halign=\"left\">06:00:00~06:59:59</th>\n",
       "      <th>...</th>\n",
       "      <th>23:00:00~23:59:59</th>\n",
       "      <th colspan=\"2\" halign=\"left\">00:00:00~00:59:59</th>\n",
       "      <th colspan=\"2\" halign=\"left\">01:00:00~01:59:59</th>\n",
       "      <th colspan=\"2\" halign=\"left\">02:00:00~02:59:59</th>\n",
       "      <th colspan=\"2\" halign=\"left\">03:00:00~03:59:59</th>\n",
       "      <th>작업일시</th>\n",
       "    </tr>\n",
       "    <tr>\n",
       "      <th></th>\n",
       "      <th>Unnamed: 0_level_1</th>\n",
       "      <th>Unnamed: 1_level_1</th>\n",
       "      <th>Unnamed: 2_level_1</th>\n",
       "      <th>Unnamed: 3_level_1</th>\n",
       "      <th>승차</th>\n",
       "      <th>하차</th>\n",
       "      <th>승차</th>\n",
       "      <th>하차</th>\n",
       "      <th>승차</th>\n",
       "      <th>하차</th>\n",
       "      <th>...</th>\n",
       "      <th>하차</th>\n",
       "      <th>승차</th>\n",
       "      <th>하차</th>\n",
       "      <th>승차</th>\n",
       "      <th>하차</th>\n",
       "      <th>승차</th>\n",
       "      <th>하차</th>\n",
       "      <th>승차</th>\n",
       "      <th>하차</th>\n",
       "      <th>Unnamed: 52_level_1</th>\n",
       "    </tr>\n",
       "  </thead>\n",
       "  <tbody>\n",
       "    <tr>\n",
       "      <th>0</th>\n",
       "      <td>2022-06</td>\n",
       "      <td>1호선</td>\n",
       "      <td>150</td>\n",
       "      <td>서울역</td>\n",
       "      <td>646</td>\n",
       "      <td>24</td>\n",
       "      <td>8,433</td>\n",
       "      <td>7,694</td>\n",
       "      <td>12,608</td>\n",
       "      <td>46,963</td>\n",
       "      <td>...</td>\n",
       "      <td>15,480</td>\n",
       "      <td>158</td>\n",
       "      <td>1,332</td>\n",
       "      <td>1</td>\n",
       "      <td>4</td>\n",
       "      <td>0</td>\n",
       "      <td>1</td>\n",
       "      <td>0</td>\n",
       "      <td>0</td>\n",
       "      <td>2022-07-03 09:48:05</td>\n",
       "    </tr>\n",
       "    <tr>\n",
       "      <th>1</th>\n",
       "      <td>2022-06</td>\n",
       "      <td>1호선</td>\n",
       "      <td>151</td>\n",
       "      <td>시청</td>\n",
       "      <td>271</td>\n",
       "      <td>7</td>\n",
       "      <td>3,133</td>\n",
       "      <td>4,802</td>\n",
       "      <td>3,321</td>\n",
       "      <td>23,621</td>\n",
       "      <td>...</td>\n",
       "      <td>2,938</td>\n",
       "      <td>72</td>\n",
       "      <td>422</td>\n",
       "      <td>0</td>\n",
       "      <td>2</td>\n",
       "      <td>0</td>\n",
       "      <td>0</td>\n",
       "      <td>0</td>\n",
       "      <td>0</td>\n",
       "      <td>2022-07-03 09:48:05</td>\n",
       "    </tr>\n",
       "    <tr>\n",
       "      <th>2</th>\n",
       "      <td>2022-06</td>\n",
       "      <td>1호선</td>\n",
       "      <td>152</td>\n",
       "      <td>종각</td>\n",
       "      <td>91</td>\n",
       "      <td>9</td>\n",
       "      <td>4,007</td>\n",
       "      <td>3,960</td>\n",
       "      <td>3,682</td>\n",
       "      <td>22,533</td>\n",
       "      <td>...</td>\n",
       "      <td>3,590</td>\n",
       "      <td>315</td>\n",
       "      <td>394</td>\n",
       "      <td>0</td>\n",
       "      <td>1</td>\n",
       "      <td>0</td>\n",
       "      <td>0</td>\n",
       "      <td>0</td>\n",
       "      <td>0</td>\n",
       "      <td>2022-07-03 09:48:05</td>\n",
       "    </tr>\n",
       "    <tr>\n",
       "      <th>3</th>\n",
       "      <td>2022-06</td>\n",
       "      <td>1호선</td>\n",
       "      <td>153</td>\n",
       "      <td>종로3가</td>\n",
       "      <td>190</td>\n",
       "      <td>12</td>\n",
       "      <td>3,882</td>\n",
       "      <td>3,261</td>\n",
       "      <td>3,570</td>\n",
       "      <td>14,038</td>\n",
       "      <td>...</td>\n",
       "      <td>4,119</td>\n",
       "      <td>310</td>\n",
       "      <td>843</td>\n",
       "      <td>3</td>\n",
       "      <td>3</td>\n",
       "      <td>0</td>\n",
       "      <td>0</td>\n",
       "      <td>0</td>\n",
       "      <td>0</td>\n",
       "      <td>2022-07-03 09:48:05</td>\n",
       "    </tr>\n",
       "    <tr>\n",
       "      <th>4</th>\n",
       "      <td>2022-06</td>\n",
       "      <td>1호선</td>\n",
       "      <td>154</td>\n",
       "      <td>종로5가</td>\n",
       "      <td>34</td>\n",
       "      <td>0</td>\n",
       "      <td>1,730</td>\n",
       "      <td>3,909</td>\n",
       "      <td>2,986</td>\n",
       "      <td>16,406</td>\n",
       "      <td>...</td>\n",
       "      <td>2,628</td>\n",
       "      <td>98</td>\n",
       "      <td>668</td>\n",
       "      <td>0</td>\n",
       "      <td>0</td>\n",
       "      <td>0</td>\n",
       "      <td>0</td>\n",
       "      <td>0</td>\n",
       "      <td>0</td>\n",
       "      <td>2022-07-03 09:48:05</td>\n",
       "    </tr>\n",
       "  </tbody>\n",
       "</table>\n",
       "<p>5 rows × 53 columns</p>\n",
       "</div>"
      ],
      "text/plain": [
       "                 사용월                호선명                역ID               지하철역  \\\n",
       "  Unnamed: 0_level_1 Unnamed: 1_level_1 Unnamed: 2_level_1 Unnamed: 3_level_1   \n",
       "0            2022-06                1호선                150                서울역   \n",
       "1            2022-06                1호선                151                 시청   \n",
       "2            2022-06                1호선                152                 종각   \n",
       "3            2022-06                1호선                153               종로3가   \n",
       "4            2022-06                1호선                154               종로5가   \n",
       "\n",
       "  04:00:00~04:59:59     05:00:00~05:59:59        06:00:00~06:59:59          \\\n",
       "                 승차  하차                승차     하차                승차      하차   \n",
       "0               646  24             8,433  7,694            12,608  46,963   \n",
       "1               271   7             3,133  4,802             3,321  23,621   \n",
       "2                91   9             4,007  3,960             3,682  22,533   \n",
       "3               190  12             3,882  3,261             3,570  14,038   \n",
       "4                34   0             1,730  3,909             2,986  16,406   \n",
       "\n",
       "   ... 23:00:00~23:59:59 00:00:00~00:59:59        01:00:00~01:59:59     \\\n",
       "   ...                하차                승차     하차                승차 하차   \n",
       "0  ...            15,480               158  1,332                 1  4   \n",
       "1  ...             2,938                72    422                 0  2   \n",
       "2  ...             3,590               315    394                 0  1   \n",
       "3  ...             4,119               310    843                 3  3   \n",
       "4  ...             2,628                98    668                 0  0   \n",
       "\n",
       "  02:00:00~02:59:59    03:00:00~03:59:59                    작업일시  \n",
       "                 승차 하차                승차 하차  Unnamed: 52_level_1  \n",
       "0                 0  1                 0  0  2022-07-03 09:48:05  \n",
       "1                 0  0                 0  0  2022-07-03 09:48:05  \n",
       "2                 0  0                 0  0  2022-07-03 09:48:05  \n",
       "3                 0  0                 0  0  2022-07-03 09:48:05  \n",
       "4                 0  0                 0  0  2022-07-03 09:48:05  \n",
       "\n",
       "[5 rows x 53 columns]"
      ]
     },
     "execution_count": 2,
     "metadata": {},
     "output_type": "execute_result"
    }
   ],
   "source": [
    "df = pd.read_excel('../Data/subway.xls', sheet_name='지하철 시간대별 이용현황', header=[0, 1])\n",
    "df.head()"
   ]
  },
  {
   "cell_type": "markdown",
   "metadata": {},
   "source": [
    "## 특정 컬럼 데이터 가져오기: 호선명\n",
    "- 멀티 인덱스의 경우 튜플 형식으로 접근\n",
    "- df[('첫번째행', '두번째행')]"
   ]
  },
  {
   "cell_type": "code",
   "execution_count": 3,
   "metadata": {},
   "outputs": [
    {
     "data": {
      "text/plain": [
       "MultiIndex([(              '사용월',  'Unnamed: 0_level_1'),\n",
       "            (              '호선명',  'Unnamed: 1_level_1'),\n",
       "            (              '역ID',  'Unnamed: 2_level_1'),\n",
       "            (             '지하철역',  'Unnamed: 3_level_1'),\n",
       "            ('04:00:00~04:59:59',                  '승차'),\n",
       "            ('04:00:00~04:59:59',                  '하차'),\n",
       "            ('05:00:00~05:59:59',                  '승차'),\n",
       "            ('05:00:00~05:59:59',                  '하차'),\n",
       "            ('06:00:00~06:59:59',                  '승차'),\n",
       "            ('06:00:00~06:59:59',                  '하차'),\n",
       "            ('07:00:00~07:59:59',                  '승차'),\n",
       "            ('07:00:00~07:59:59',                  '하차'),\n",
       "            ('08:00:00~08:59:59',                  '승차'),\n",
       "            ('08:00:00~08:59:59',                  '하차'),\n",
       "            ('09:00:00~09:59:59',                  '승차'),\n",
       "            ('09:00:00~09:59:59',                  '하차'),\n",
       "            ('10:00:00~10:59:59',                  '승차'),\n",
       "            ('10:00:00~10:59:59',                  '하차'),\n",
       "            ('11:00:00~11:59:59',                  '승차'),\n",
       "            ('11:00:00~11:59:59',                  '하차'),\n",
       "            ('12:00:00~12:59:59',                  '승차'),\n",
       "            ('12:00:00~12:59:59',                  '하차'),\n",
       "            ('13:00:00~13:59:59',                  '승차'),\n",
       "            ('13:00:00~13:59:59',                  '하차'),\n",
       "            ('14:00:00~14:59:59',                  '승차'),\n",
       "            ('14:00:00~14:59:59',                  '하차'),\n",
       "            ('15:00:00~15:59:59',                  '승차'),\n",
       "            ('15:00:00~15:59:59',                  '하차'),\n",
       "            ('16:00:00~16:59:59',                  '승차'),\n",
       "            ('16:00:00~16:59:59',                  '하차'),\n",
       "            ('17:00:00~17:59:59',                  '승차'),\n",
       "            ('17:00:00~17:59:59',                  '하차'),\n",
       "            ('18:00:00~18:59:59',                  '승차'),\n",
       "            ('18:00:00~18:59:59',                  '하차'),\n",
       "            ('19:00:00~19:59:59',                  '승차'),\n",
       "            ('19:00:00~19:59:59',                  '하차'),\n",
       "            ('20:00:00~20:59:59',                  '승차'),\n",
       "            ('20:00:00~20:59:59',                  '하차'),\n",
       "            ('21:00:00~21:59:59',                  '승차'),\n",
       "            ('21:00:00~21:59:59',                  '하차'),\n",
       "            ('22:00:00~22:59:59',                  '승차'),\n",
       "            ('22:00:00~22:59:59',                  '하차'),\n",
       "            ('23:00:00~23:59:59',                  '승차'),\n",
       "            ('23:00:00~23:59:59',                  '하차'),\n",
       "            ('00:00:00~00:59:59',                  '승차'),\n",
       "            ('00:00:00~00:59:59',                  '하차'),\n",
       "            ('01:00:00~01:59:59',                  '승차'),\n",
       "            ('01:00:00~01:59:59',                  '하차'),\n",
       "            ('02:00:00~02:59:59',                  '승차'),\n",
       "            ('02:00:00~02:59:59',                  '하차'),\n",
       "            ('03:00:00~03:59:59',                  '승차'),\n",
       "            ('03:00:00~03:59:59',                  '하차'),\n",
       "            (             '작업일시', 'Unnamed: 52_level_1')],\n",
       "           )"
      ]
     },
     "execution_count": 3,
     "metadata": {},
     "output_type": "execute_result"
    }
   ],
   "source": [
    "df.columns"
   ]
  },
  {
   "cell_type": "code",
   "execution_count": 4,
   "metadata": {},
   "outputs": [
    {
     "data": {
      "text/plain": [
       "0      1호선\n",
       "1      1호선\n",
       "2      1호선\n",
       "3      1호선\n",
       "4      1호선\n",
       "      ... \n",
       "610    신림선\n",
       "611    신림선\n",
       "612    신림선\n",
       "613    신림선\n",
       "614    신림선\n",
       "Name: (호선명, Unnamed: 1_level_1), Length: 615, dtype: object"
      ]
     },
     "execution_count": 4,
     "metadata": {},
     "output_type": "execute_result"
    }
   ],
   "source": [
    "df[('호선명', 'Unnamed: 1_level_1')]"
   ]
  },
  {
   "cell_type": "code",
   "execution_count": 5,
   "metadata": {},
   "outputs": [
    {
     "data": {
      "text/plain": [
       "0           서울역\n",
       "1            시청\n",
       "2            종각\n",
       "3          종로3가\n",
       "4          종로5가\n",
       "         ...   \n",
       "610          당곡\n",
       "611          신림\n",
       "612          서원\n",
       "613     서울대벤처타운\n",
       "614    관악산(서울대)\n",
       "Name: (지하철역, Unnamed: 3_level_1), Length: 615, dtype: object"
      ]
     },
     "execution_count": 5,
     "metadata": {},
     "output_type": "execute_result"
    }
   ],
   "source": [
    "df[('지하철역', 'Unnamed: 3_level_1')]"
   ]
  },
  {
   "cell_type": "code",
   "execution_count": 6,
   "metadata": {},
   "outputs": [
    {
     "data": {
      "text/html": [
       "<div>\n",
       "<style scoped>\n",
       "    .dataframe tbody tr th:only-of-type {\n",
       "        vertical-align: middle;\n",
       "    }\n",
       "\n",
       "    .dataframe tbody tr th {\n",
       "        vertical-align: top;\n",
       "    }\n",
       "\n",
       "    .dataframe thead tr th {\n",
       "        text-align: left;\n",
       "    }\n",
       "</style>\n",
       "<table border=\"1\" class=\"dataframe\">\n",
       "  <thead>\n",
       "    <tr>\n",
       "      <th></th>\n",
       "      <th>호선명</th>\n",
       "      <th>지하철역</th>\n",
       "      <th>07:00:00~07:59:59</th>\n",
       "      <th>08:00:00~08:59:59</th>\n",
       "      <th>09:00:00~09:59:59</th>\n",
       "    </tr>\n",
       "    <tr>\n",
       "      <th></th>\n",
       "      <th>Unnamed: 1_level_1</th>\n",
       "      <th>Unnamed: 3_level_1</th>\n",
       "      <th>승차</th>\n",
       "      <th>승차</th>\n",
       "      <th>승차</th>\n",
       "    </tr>\n",
       "  </thead>\n",
       "  <tbody>\n",
       "    <tr>\n",
       "      <th>0</th>\n",
       "      <td>1호선</td>\n",
       "      <td>서울역</td>\n",
       "      <td>39,233</td>\n",
       "      <td>65,106</td>\n",
       "      <td>54,833</td>\n",
       "    </tr>\n",
       "    <tr>\n",
       "      <th>1</th>\n",
       "      <td>1호선</td>\n",
       "      <td>시청</td>\n",
       "      <td>6,647</td>\n",
       "      <td>8,294</td>\n",
       "      <td>9,211</td>\n",
       "    </tr>\n",
       "    <tr>\n",
       "      <th>2</th>\n",
       "      <td>1호선</td>\n",
       "      <td>종각</td>\n",
       "      <td>5,814</td>\n",
       "      <td>9,612</td>\n",
       "      <td>11,847</td>\n",
       "    </tr>\n",
       "    <tr>\n",
       "      <th>3</th>\n",
       "      <td>1호선</td>\n",
       "      <td>종로3가</td>\n",
       "      <td>4,746</td>\n",
       "      <td>8,589</td>\n",
       "      <td>13,179</td>\n",
       "    </tr>\n",
       "    <tr>\n",
       "      <th>4</th>\n",
       "      <td>1호선</td>\n",
       "      <td>종로5가</td>\n",
       "      <td>5,020</td>\n",
       "      <td>8,550</td>\n",
       "      <td>11,925</td>\n",
       "    </tr>\n",
       "  </tbody>\n",
       "</table>\n",
       "</div>"
      ],
      "text/plain": [
       "                 호선명               지하철역 07:00:00~07:59:59 08:00:00~08:59:59  \\\n",
       "  Unnamed: 1_level_1 Unnamed: 3_level_1                승차                승차   \n",
       "0                1호선                서울역            39,233            65,106   \n",
       "1                1호선                 시청             6,647             8,294   \n",
       "2                1호선                 종각             5,814             9,612   \n",
       "3                1호선               종로3가             4,746             8,589   \n",
       "4                1호선               종로5가             5,020             8,550   \n",
       "\n",
       "  09:00:00~09:59:59  \n",
       "                 승차  \n",
       "0            54,833  \n",
       "1             9,211  \n",
       "2            11,847  \n",
       "3            13,179  \n",
       "4            11,925  "
      ]
     },
     "execution_count": 6,
     "metadata": {},
     "output_type": "execute_result"
    }
   ],
   "source": [
    "commute_time_df = df.iloc[:, [1, 3, 10, 12, 14]].copy()\n",
    "commute_time_df.head()"
   ]
  },
  {
   "cell_type": "code",
   "execution_count": 7,
   "metadata": {},
   "outputs": [
    {
     "data": {
      "text/plain": [
       "호선명                Unnamed: 1_level_1    object\n",
       "지하철역               Unnamed: 3_level_1    object\n",
       "07:00:00~07:59:59  승차                    object\n",
       "08:00:00~08:59:59  승차                    object\n",
       "09:00:00~09:59:59  승차                    object\n",
       "dtype: object"
      ]
     },
     "execution_count": 7,
     "metadata": {},
     "output_type": "execute_result"
    }
   ],
   "source": [
    "commute_time_df.dtypes"
   ]
  },
  {
   "cell_type": "markdown",
   "metadata": {},
   "source": [
    "## 데이터 타입 변경"
   ]
  },
  {
   "cell_type": "code",
   "execution_count": 8,
   "metadata": {},
   "outputs": [],
   "source": [
    "for i in [2, 3, 4]:\n",
    "    commute_time_df.iloc[:, i] = commute_time_df.iloc[:, i].apply(lambda x: x.replace(',', ''))\n",
    "    commute_time_df.iloc[:, i] = commute_time_df.iloc[:, i].astype('int64')"
   ]
  },
  {
   "cell_type": "code",
   "execution_count": 9,
   "metadata": {},
   "outputs": [
    {
     "data": {
      "text/plain": [
       "호선명                Unnamed: 1_level_1    object\n",
       "지하철역               Unnamed: 3_level_1    object\n",
       "07:00:00~07:59:59  승차                     int64\n",
       "08:00:00~08:59:59  승차                     int64\n",
       "09:00:00~09:59:59  승차                     int64\n",
       "dtype: object"
      ]
     },
     "execution_count": 9,
     "metadata": {},
     "output_type": "execute_result"
    }
   ],
   "source": [
    "commute_time_df.dtypes"
   ]
  },
  {
   "cell_type": "code",
   "execution_count": 10,
   "metadata": {},
   "outputs": [
    {
     "data": {
      "text/html": [
       "<div>\n",
       "<style scoped>\n",
       "    .dataframe tbody tr th:only-of-type {\n",
       "        vertical-align: middle;\n",
       "    }\n",
       "\n",
       "    .dataframe tbody tr th {\n",
       "        vertical-align: top;\n",
       "    }\n",
       "\n",
       "    .dataframe thead tr th {\n",
       "        text-align: left;\n",
       "    }\n",
       "</style>\n",
       "<table border=\"1\" class=\"dataframe\">\n",
       "  <thead>\n",
       "    <tr>\n",
       "      <th></th>\n",
       "      <th>호선명</th>\n",
       "      <th>지하철역</th>\n",
       "      <th>07:00:00~07:59:59</th>\n",
       "      <th>08:00:00~08:59:59</th>\n",
       "      <th>09:00:00~09:59:59</th>\n",
       "    </tr>\n",
       "    <tr>\n",
       "      <th></th>\n",
       "      <th>Unnamed: 1_level_1</th>\n",
       "      <th>Unnamed: 3_level_1</th>\n",
       "      <th>승차</th>\n",
       "      <th>승차</th>\n",
       "      <th>승차</th>\n",
       "    </tr>\n",
       "  </thead>\n",
       "  <tbody>\n",
       "    <tr>\n",
       "      <th>0</th>\n",
       "      <td>1호선</td>\n",
       "      <td>서울역</td>\n",
       "      <td>39233</td>\n",
       "      <td>65106</td>\n",
       "      <td>54833</td>\n",
       "    </tr>\n",
       "    <tr>\n",
       "      <th>1</th>\n",
       "      <td>1호선</td>\n",
       "      <td>시청</td>\n",
       "      <td>6647</td>\n",
       "      <td>8294</td>\n",
       "      <td>9211</td>\n",
       "    </tr>\n",
       "    <tr>\n",
       "      <th>2</th>\n",
       "      <td>1호선</td>\n",
       "      <td>종각</td>\n",
       "      <td>5814</td>\n",
       "      <td>9612</td>\n",
       "      <td>11847</td>\n",
       "    </tr>\n",
       "    <tr>\n",
       "      <th>3</th>\n",
       "      <td>1호선</td>\n",
       "      <td>종로3가</td>\n",
       "      <td>4746</td>\n",
       "      <td>8589</td>\n",
       "      <td>13179</td>\n",
       "    </tr>\n",
       "    <tr>\n",
       "      <th>4</th>\n",
       "      <td>1호선</td>\n",
       "      <td>종로5가</td>\n",
       "      <td>5020</td>\n",
       "      <td>8550</td>\n",
       "      <td>11925</td>\n",
       "    </tr>\n",
       "  </tbody>\n",
       "</table>\n",
       "</div>"
      ],
      "text/plain": [
       "                 호선명               지하철역 07:00:00~07:59:59 08:00:00~08:59:59  \\\n",
       "  Unnamed: 1_level_1 Unnamed: 3_level_1                승차                승차   \n",
       "0                1호선                서울역             39233             65106   \n",
       "1                1호선                 시청              6647              8294   \n",
       "2                1호선                 종각              5814              9612   \n",
       "3                1호선               종로3가              4746              8589   \n",
       "4                1호선               종로5가              5020              8550   \n",
       "\n",
       "  09:00:00~09:59:59  \n",
       "                 승차  \n",
       "0             54833  \n",
       "1              9211  \n",
       "2             11847  \n",
       "3             13179  \n",
       "4             11925  "
      ]
     },
     "execution_count": 10,
     "metadata": {},
     "output_type": "execute_result"
    }
   ],
   "source": [
    "commute_time_df.head()"
   ]
  },
  {
   "cell_type": "code",
   "execution_count": 11,
   "metadata": {},
   "outputs": [
    {
     "data": {
      "text/plain": [
       "0    159172\n",
       "1     24152\n",
       "2     27273\n",
       "3     26514\n",
       "4     25495\n",
       "dtype: int64"
      ]
     },
     "execution_count": 11,
     "metadata": {},
     "output_type": "execute_result"
    }
   ],
   "source": [
    "row_sum_df = commute_time_df.sum(axis=1, numeric_only=True)\n",
    "row_sum_df\n",
    "passenger_number_list = row_sum_df.to_list()\n",
    "\n",
    "# print(passenger_number_list)\n",
    "row_sum_df.head()"
   ]
  },
  {
   "cell_type": "code",
   "execution_count": 12,
   "metadata": {},
   "outputs": [
    {
     "data": {
      "text/plain": [
       "638753"
      ]
     },
     "execution_count": 12,
     "metadata": {},
     "output_type": "execute_result"
    }
   ],
   "source": [
    "max_number = row_sum_df.max(axis=0)\n",
    "max_number"
   ]
  },
  {
   "cell_type": "code",
   "execution_count": 13,
   "metadata": {},
   "outputs": [
    {
     "name": "stdout",
     "output_type": "stream",
     "text": [
      "2호선 신림 638753\n"
     ]
    }
   ],
   "source": [
    "max_index = row_sum_df.idxmax()\n",
    "max_line, max_station = df.iloc[max_index, [1, 3]]\n",
    "print(max_line, max_station, max_number)"
   ]
  }
 ],
 "metadata": {
  "kernelspec": {
   "display_name": "Python 3.9.12 ('EV_PY39')",
   "language": "python",
   "name": "python3"
  },
  "language_info": {
   "codemirror_mode": {
    "name": "ipython",
    "version": 3
   },
   "file_extension": ".py",
   "mimetype": "text/x-python",
   "name": "python",
   "nbconvert_exporter": "python",
   "pygments_lexer": "ipython3",
   "version": "3.9.12"
  },
  "orig_nbformat": 4,
  "vscode": {
   "interpreter": {
    "hash": "c34f60c4b6508d34c0193a1e5ad16bfc3f81e2e087a9e2f73ef284bcb9806a0b"
   }
  }
 },
 "nbformat": 4,
 "nbformat_minor": 2
}
