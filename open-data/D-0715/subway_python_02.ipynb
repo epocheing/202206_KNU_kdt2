{
 "cells": [
  {
   "cell_type": "markdown",
   "metadata": {},
   "source": [
    "# 서울 지하철 시간대별 분석"
   ]
  },
  {
   "cell_type": "code",
   "execution_count": 53,
   "metadata": {},
   "outputs": [],
   "source": [
    "import csv\n",
    "import matplotlib.pyplot as plt\n",
    "import platform"
   ]
  },
  {
   "cell_type": "code",
   "execution_count": 54,
   "metadata": {},
   "outputs": [
    {
     "name": "stdout",
     "output_type": "stream",
     "text": [
      "['사용월', '호선명', '역ID', '지하철역', '04:00:00~04:59:59', '', '05:00:00~05:59:59', '', '06:00:00~06:59:59', '', '07:00:00~07:59:59', '', '08:00:00~08:59:59', '', '09:00:00~09:59:59', '', '10:00:00~10:59:59', '', '11:00:00~11:59:59', '', '12:00:00~12:59:59', '', '13:00:00~13:59:59', '', '14:00:00~14:59:59', '', '15:00:00~15:59:59', '', '16:00:00~16:59:59', '', '17:00:00~17:59:59', '', '18:00:00~18:59:59', '', '19:00:00~19:59:59', '', '20:00:00~20:59:59', '', '21:00:00~21:59:59', '', '22:00:00~22:59:59', '', '23:00:00~23:59:59', '', '00:00:00~00:59:59', '', '01:00:00~01:59:59', '', '02:00:00~02:59:59', '', '03:00:00~03:59:59', '']\n"
     ]
    }
   ],
   "source": [
    "f = open('../Data/subwaytime.csv', encoding='utf-8')\n",
    "data = csv.reader(f)\n",
    "\n",
    "header = next(data)\n",
    "print(header)\n",
    "f.close()"
   ]
  },
  {
   "cell_type": "markdown",
   "metadata": {},
   "source": [
    "## map 함수 실습"
   ]
  },
  {
   "cell_type": "code",
   "execution_count": 55,
   "metadata": {},
   "outputs": [
    {
     "name": "stdout",
     "output_type": "stream",
     "text": [
      "[1, 4, 9, 16, 25]\n",
      "['1', '2', '3', '4', '5']\n"
     ]
    }
   ],
   "source": [
    "a = [1, 2, 3, 4, 5]\n",
    "\n",
    "aa = map(lambda x: x*x, a)\n",
    "print(list(aa))\n",
    "sa = map(str, a)\n",
    "print(list(sa))"
   ]
  },
  {
   "cell_type": "markdown",
   "metadata": {},
   "source": [
    "## 시간대별 지하철 이용 수\n",
    "- 새벽 4시 지하철 승차 전체 인원"
   ]
  },
  {
   "cell_type": "code",
   "execution_count": 56,
   "metadata": {},
   "outputs": [
    {
     "name": "stdout",
     "output_type": "stream",
     "text": [
      "총 지하철 역의 수: 615\n",
      "새벽 4시 승차인원: 135398\n"
     ]
    }
   ],
   "source": [
    "result = []\n",
    "total_number = 0\n",
    "\n",
    "with open('../Data/subwaytime.csv', encoding='utf-8') as f:\n",
    "    data = csv.reader(f)\n",
    "    next(data)\n",
    "    next(data)\n",
    "\n",
    "    for row in data:\n",
    "        row[4:] = map(int, row[4:])\n",
    "        total_number += row[4]\n",
    "        result.append(row[4])\n",
    "\n",
    "print(f'총 지하철 역의 수: {len(result)}')\n",
    "print(f'새벽 4시 승차인원: {total_number}')"
   ]
  },
  {
   "cell_type": "code",
   "execution_count": 57,
   "metadata": {},
   "outputs": [
    {
     "name": "stdout",
     "output_type": "stream",
     "text": [
      "새벽 4시 승차인원수: 135398\n",
      "최대 승차역: 구로, 인원수: 11784\n"
     ]
    },
    {
     "data": {
      "image/png": "[encoded data removed]",
      "text/plain": [
       "<Figure size 600x400 with 1 Axes>"
      ]
     },
     "metadata": {
      "needs_background": "light"
     },
     "output_type": "display_data"
    }
   ],
   "source": [
    "with open('../Data/subwaytime.csv') as f:\n",
    "    data = csv.reader(f)\n",
    "    next(data)\n",
    "    next(data)\n",
    "    result = []\n",
    "    total_number = 0\n",
    "    max_num = 0\n",
    "    max_station = ''\n",
    "\n",
    "    for row in data:\n",
    "        row[4:] = map(int, row[4:])\n",
    "        total_number += row[4]\n",
    "        result.append(row[4])\n",
    "\n",
    "        if max_num < row[4]:\n",
    "            max_num = row[4]\n",
    "            max_station = row[3]\n",
    "\n",
    "print(f'새벽 4시 승차인원수: {total_number}')\n",
    "print(f'최대 승차역: {max_station}, 인원수: {max_num}')\n",
    "\n",
    "result.sort()\n",
    "plt.figure(dpi=100)\n",
    "plt.bar(range(len(result)), result)\n",
    "\n",
    "plt.show()"
   ]
  },
  {
   "cell_type": "markdown",
   "metadata": {},
   "source": [
    "## 출근시간대 인원수"
   ]
  },
  {
   "cell_type": "code",
   "execution_count": 58,
   "metadata": {},
   "outputs": [
    {
     "name": "stdout",
     "output_type": "stream",
     "text": [
      "최대 승차 인원역 : 신림(2호선), 638753\n"
     ]
    },
    {
     "data": {
      "image/png": "[encoded data removed]",
      "text/plain": [
       "<Figure size 600x400 with 1 Axes>"
      ]
     },
     "metadata": {
      "needs_background": "light"
     },
     "output_type": "display_data"
    }
   ],
   "source": [
    "with open('../Data/subwaytime.csv') as f:\n",
    "    data = csv.reader(f)\n",
    "    next(data)\n",
    "    next(data)\n",
    "    result = []\n",
    "    total_number = 0\n",
    "    max_num = 0\n",
    "    max_station = ''\n",
    "\n",
    "    for row in data:\n",
    "        row[4:] = map(int, row[4:])\n",
    "        row_sum = sum(row[10:15:2])\n",
    "        result.append(row_sum)\n",
    "        if max_num < row_sum:\n",
    "            max_num = row_sum\n",
    "            max_station = row[3] + '(' + row[1] + ')'\n",
    "\n",
    "print(f'최대 승차 인원역 : {max_station}, {max_num}')\n",
    "result.sort(reverse=True)\n",
    "plt.figure(dpi=100)\n",
    "plt.bar(range(len(result)), result)\n",
    "plt.show()"
   ]
  },
  {
   "cell_type": "markdown",
   "metadata": {},
   "source": [
    "## 시간대별 가장 많이 승차하는 역 정보 분석\n",
    "- 새벽 4시 ~ 다음날 새벽 2시"
   ]
  },
  {
   "cell_type": "code",
   "execution_count": 59,
   "metadata": {},
   "outputs": [
    {
     "name": "stdout",
     "output_type": "stream",
     "text": [
      "4시:구로: 11784,5시:신림: 38809,6시:신림: 73523,7시:신림: 188110,\n",
      "8시:신림: 281017,9시:신림: 169626,10시:신림: 91989,11시:신림: 77496,\n",
      "12시:잠실(송파구청): 84383,13시:강남: 95697,14시:강남: 106394,15시:강남: 131625,\n",
      "16시:강남: 154526,17시:강남: 231839,18시:강남: 314775,19시:강남: 196425,\n",
      "20시:강남: 155347,21시:강남: 180108,22시:강남: 176473,23시:강남: 81016,\n",
      "0시:강남: 12407,1시:건대입구: 8,2시:동묘앞: 1,"
     ]
    }
   ],
   "source": [
    "with open('../Data/subwaytime.csv') as f:\n",
    "    data = csv.reader(f)\n",
    "    next(data)\n",
    "    next(data)\n",
    "    max = [0] * 23\n",
    "    max_station = [''] * 23\n",
    "    xticks_list = []\n",
    "\n",
    "    for i in range(4,27):\n",
    "        n = i % 24\n",
    "        xticks_list.append(n)\n",
    "\n",
    "    for row in data:\n",
    "        row[4:] = map(int, row[4:])\n",
    "        for j in range(23):\n",
    "            a = row[j * 2 + 4]\n",
    "            if a > max[j]:\n",
    "                max[j] = a\n",
    "                max_station[j] = str(xticks_list[j]) + '시:' + row[3]\n",
    "\n",
    "    for i in range(len(max)):\n",
    "        print(f'{max_station[i]}: {max[i]}', end=',')\n",
    "        if (i + 1) % 4 == 0:\n",
    "            print()"
   ]
  },
  {
   "cell_type": "code",
   "execution_count": 61,
   "metadata": {},
   "outputs": [
    {
     "data": {
      "image/png": "[encoded data removed]",
      "text/plain": [
       "<Figure size 600x400 with 1 Axes>"
      ]
     },
     "metadata": {
      "needs_background": "light"
     },
     "output_type": "display_data"
    }
   ],
   "source": [
    "if(platform.system() == 'Windows'):\n",
    "    plt.rc('font', family = 'Malgun Gothic')\n",
    "else:\n",
    "    plt.rc('font', family = 'AppleGothic')\n",
    "plt.figure(dpi=100)\n",
    "plt.bar(range(23), max)\n",
    "plt.xticks(range(23), max_station, rotation=80)\n",
    "plt.show()"
   ]
  }
 ],
 "metadata": {
  "kernelspec": {
   "display_name": "Python 3.9.12 ('EV_PY39')",
   "language": "python",
   "name": "python3"
  },
  "language_info": {
   "codemirror_mode": {
    "name": "ipython",
    "version": 3
   },
   "file_extension": ".py",
   "mimetype": "text/x-python",
   "name": "python",
   "nbconvert_exporter": "python",
   "pygments_lexer": "ipython3",
   "version": "3.9.12"
  },
  "orig_nbformat": 4,
  "vscode": {
   "interpreter": {
    "hash": "d1dde8d3f1fc6169eb2afb9c884f1482ff31994a855398e316a83a9dc8ff488b"
   }
  }
 },
 "nbformat": 4,
 "nbformat_minor": 2
}
