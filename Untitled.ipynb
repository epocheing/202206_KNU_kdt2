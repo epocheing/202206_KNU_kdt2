{
 "cells": [
  {
   "cell_type": "code",
   "execution_count": null,
   "id": "c4fdf40f",
   "metadata": {},
   "outputs": [],
   "source": [
    "import pandas as pd\n",
    "df=pd.read_csv('./전국문화축제표준데이터.csv',encoding='cp949')\n",
    "df.info()\n",
    "df_new=df.iloc[:,[0,1,2,3,4,10,11,13,14]]\n",
    "df_new\n",
    "bool_li=[]\n",
    "for id in range(len(df_new['축제명'])):\n",
    "    if '포도' in df_new.loc[id,'축제명']:\n",
    "        bool_li.append(True)\n",
    "    else:\n",
    "        bool_li.append(False)\n",
    "\n",
    "df_new[bool_li]"
   ]
  }
 ],
 "metadata": {
  "kernelspec": {
   "display_name": "Python 3 (ipykernel)",
   "language": "python",
   "name": "python3"
  },
  "language_info": {
   "codemirror_mode": {
    "name": "ipython",
    "version": 3
   },
   "file_extension": ".py",
   "mimetype": "text/x-python",
   "name": "python",
   "nbconvert_exporter": "python",
   "pygments_lexer": "ipython3",
   "version": "3.9.12"
  }
 },
 "nbformat": 4,
 "nbformat_minor": 5
}
