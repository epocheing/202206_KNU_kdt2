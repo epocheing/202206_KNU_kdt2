{
 "cells": [
  {
   "cell_type": "markdown",
   "metadata": {},
   "source": [
    "# 로즈데이와 어버이날의 검색 트랜드로 본 꽃 관심과 기념일간의 관계 분석"
   ]
  },
  {
   "cell_type": "code",
   "execution_count": 50,
   "metadata": {},
   "outputs": [],
   "source": [
    "import pandas as pd\n",
    "import numpy as np\n",
    "from datetime import datetime as dt\n",
    "import matplotlib.pyplot as plt\n",
    "import seaborn as sns"
   ]
  },
  {
   "cell_type": "markdown",
   "metadata": {},
   "source": [
    "## (1) 데이터 읽기"
   ]
  },
  {
   "cell_type": "code",
   "execution_count": 51,
   "metadata": {},
   "outputs": [
    {
     "name": "stderr",
     "output_type": "stream",
     "text": [
      "c:\\Users\\SIU\\anaconda3\\envs\\EV_PY39\\lib\\site-packages\\openpyxl\\styles\\stylesheet.py:226: UserWarning: Workbook contains no default style, apply openpyxl's default\n",
      "  warn(\"Workbook contains no default style, apply openpyxl's default\")\n",
      "c:\\Users\\SIU\\anaconda3\\envs\\EV_PY39\\lib\\site-packages\\openpyxl\\styles\\stylesheet.py:226: UserWarning: Workbook contains no default style, apply openpyxl's default\n",
      "  warn(\"Workbook contains no default style, apply openpyxl's default\")\n"
     ]
    }
   ],
   "source": [
    "DIR = './Data_Inuk/'\n",
    "ggJpRc = pd.read_csv(DIR+'google_japan_rc.csv', header=1)\n",
    "ggUsaRc = pd.read_csv(DIR+'google_usa_rc.csv', header=1)\n",
    "naKorRc = pd.read_excel(DIR+'naver_korea_rc.xlsx',header=6)\n",
    "naKorPb = pd.read_excel(DIR+'naver_korea_pb.xlsx',header=6)\n",
    "naShopFlower = pd.read_csv(DIR+'naver_shop_flower.csv', header=7)\n",
    "naShopRc = pd.read_csv(DIR+'naver_shop_rc.csv', header=7)\n",
    "dfList = [ggJpRc, ggUsaRc, naKorPb, naKorPb, naShopFlower, naShopRc]"
   ]
  },
  {
   "cell_type": "code",
   "execution_count": 52,
   "metadata": {},
   "outputs": [
    {
     "data": {
      "text/html": [
       "<div>\n",
       "<style scoped>\n",
       "    .dataframe tbody tr th:only-of-type {\n",
       "        vertical-align: middle;\n",
       "    }\n",
       "\n",
       "    .dataframe tbody tr th {\n",
       "        vertical-align: top;\n",
       "    }\n",
       "\n",
       "    .dataframe thead th {\n",
       "        text-align: right;\n",
       "    }\n",
       "</style>\n",
       "<table border=\"1\" class=\"dataframe\">\n",
       "  <thead>\n",
       "    <tr style=\"text-align: right;\">\n",
       "      <th></th>\n",
       "      <th>주</th>\n",
       "      <th>カーネーション: (일본)</th>\n",
       "      <th>バラ: (일본)</th>\n",
       "    </tr>\n",
       "  </thead>\n",
       "  <tbody>\n",
       "    <tr>\n",
       "      <th>0</th>\n",
       "      <td>2021-07-11</td>\n",
       "      <td>4</td>\n",
       "      <td>38</td>\n",
       "    </tr>\n",
       "    <tr>\n",
       "      <th>1</th>\n",
       "      <td>2021-07-18</td>\n",
       "      <td>4</td>\n",
       "      <td>35</td>\n",
       "    </tr>\n",
       "    <tr>\n",
       "      <th>2</th>\n",
       "      <td>2021-07-25</td>\n",
       "      <td>4</td>\n",
       "      <td>33</td>\n",
       "    </tr>\n",
       "    <tr>\n",
       "      <th>3</th>\n",
       "      <td>2021-08-01</td>\n",
       "      <td>5</td>\n",
       "      <td>32</td>\n",
       "    </tr>\n",
       "    <tr>\n",
       "      <th>4</th>\n",
       "      <td>2021-08-08</td>\n",
       "      <td>5</td>\n",
       "      <td>34</td>\n",
       "    </tr>\n",
       "  </tbody>\n",
       "</table>\n",
       "</div>"
      ],
      "text/plain": [
       "            주  カーネーション: (일본)  バラ: (일본)\n",
       "0  2021-07-11              4        38\n",
       "1  2021-07-18              4        35\n",
       "2  2021-07-25              4        33\n",
       "3  2021-08-01              5        32\n",
       "4  2021-08-08              5        34"
      ]
     },
     "execution_count": 52,
     "metadata": {},
     "output_type": "execute_result"
    }
   ],
   "source": [
    "ggJpRc.head()"
   ]
  },
  {
   "cell_type": "code",
   "execution_count": 53,
   "metadata": {},
   "outputs": [
    {
     "data": {
      "text/html": [
       "<div>\n",
       "<style scoped>\n",
       "    .dataframe tbody tr th:only-of-type {\n",
       "        vertical-align: middle;\n",
       "    }\n",
       "\n",
       "    .dataframe tbody tr th {\n",
       "        vertical-align: top;\n",
       "    }\n",
       "\n",
       "    .dataframe thead th {\n",
       "        text-align: right;\n",
       "    }\n",
       "</style>\n",
       "<table border=\"1\" class=\"dataframe\">\n",
       "  <thead>\n",
       "    <tr style=\"text-align: right;\">\n",
       "      <th></th>\n",
       "      <th>주</th>\n",
       "      <th>rose day: (미국)</th>\n",
       "      <th>carnation: (미국)</th>\n",
       "    </tr>\n",
       "  </thead>\n",
       "  <tbody>\n",
       "    <tr>\n",
       "      <th>0</th>\n",
       "      <td>2021-07-11</td>\n",
       "      <td>22</td>\n",
       "      <td>62</td>\n",
       "    </tr>\n",
       "    <tr>\n",
       "      <th>1</th>\n",
       "      <td>2021-07-18</td>\n",
       "      <td>21</td>\n",
       "      <td>57</td>\n",
       "    </tr>\n",
       "    <tr>\n",
       "      <th>2</th>\n",
       "      <td>2021-07-25</td>\n",
       "      <td>20</td>\n",
       "      <td>61</td>\n",
       "    </tr>\n",
       "    <tr>\n",
       "      <th>3</th>\n",
       "      <td>2021-08-01</td>\n",
       "      <td>23</td>\n",
       "      <td>57</td>\n",
       "    </tr>\n",
       "    <tr>\n",
       "      <th>4</th>\n",
       "      <td>2021-08-08</td>\n",
       "      <td>26</td>\n",
       "      <td>70</td>\n",
       "    </tr>\n",
       "  </tbody>\n",
       "</table>\n",
       "</div>"
      ],
      "text/plain": [
       "            주  rose day: (미국)  carnation: (미국)\n",
       "0  2021-07-11              22               62\n",
       "1  2021-07-18              21               57\n",
       "2  2021-07-25              20               61\n",
       "3  2021-08-01              23               57\n",
       "4  2021-08-08              26               70"
      ]
     },
     "execution_count": 53,
     "metadata": {},
     "output_type": "execute_result"
    }
   ],
   "source": [
    "ggUsaRc.head()"
   ]
  },
  {
   "cell_type": "code",
   "execution_count": 54,
   "metadata": {},
   "outputs": [
    {
     "data": {
      "text/html": [
       "<div>\n",
       "<style scoped>\n",
       "    .dataframe tbody tr th:only-of-type {\n",
       "        vertical-align: middle;\n",
       "    }\n",
       "\n",
       "    .dataframe tbody tr th {\n",
       "        vertical-align: top;\n",
       "    }\n",
       "\n",
       "    .dataframe thead th {\n",
       "        text-align: right;\n",
       "    }\n",
       "</style>\n",
       "<table border=\"1\" class=\"dataframe\">\n",
       "  <thead>\n",
       "    <tr style=\"text-align: right;\">\n",
       "      <th></th>\n",
       "      <th>날짜</th>\n",
       "      <th>벚꽃</th>\n",
       "      <th>날짜.1</th>\n",
       "      <th>핑크뮬리</th>\n",
       "    </tr>\n",
       "  </thead>\n",
       "  <tbody>\n",
       "    <tr>\n",
       "      <th>0</th>\n",
       "      <td>2021-07-10</td>\n",
       "      <td>0.81980</td>\n",
       "      <td>2021-07-10</td>\n",
       "      <td>0.69495</td>\n",
       "    </tr>\n",
       "    <tr>\n",
       "      <th>1</th>\n",
       "      <td>2021-07-11</td>\n",
       "      <td>0.84989</td>\n",
       "      <td>2021-07-11</td>\n",
       "      <td>0.75362</td>\n",
       "    </tr>\n",
       "    <tr>\n",
       "      <th>2</th>\n",
       "      <td>2021-07-12</td>\n",
       "      <td>1.01836</td>\n",
       "      <td>2021-07-12</td>\n",
       "      <td>0.63929</td>\n",
       "    </tr>\n",
       "    <tr>\n",
       "      <th>3</th>\n",
       "      <td>2021-07-13</td>\n",
       "      <td>1.04845</td>\n",
       "      <td>2021-07-13</td>\n",
       "      <td>0.61673</td>\n",
       "    </tr>\n",
       "    <tr>\n",
       "      <th>4</th>\n",
       "      <td>2021-07-14</td>\n",
       "      <td>1.05145</td>\n",
       "      <td>2021-07-14</td>\n",
       "      <td>0.66336</td>\n",
       "    </tr>\n",
       "  </tbody>\n",
       "</table>\n",
       "</div>"
      ],
      "text/plain": [
       "           날짜       벚꽃        날짜.1     핑크뮬리\n",
       "0  2021-07-10  0.81980  2021-07-10  0.69495\n",
       "1  2021-07-11  0.84989  2021-07-11  0.75362\n",
       "2  2021-07-12  1.01836  2021-07-12  0.63929\n",
       "3  2021-07-13  1.04845  2021-07-13  0.61673\n",
       "4  2021-07-14  1.05145  2021-07-14  0.66336"
      ]
     },
     "execution_count": 54,
     "metadata": {},
     "output_type": "execute_result"
    }
   ],
   "source": [
    "naKorPb.head()"
   ]
  },
  {
   "cell_type": "code",
   "execution_count": 55,
   "metadata": {},
   "outputs": [
    {
     "data": {
      "text/html": [
       "<div>\n",
       "<style scoped>\n",
       "    .dataframe tbody tr th:only-of-type {\n",
       "        vertical-align: middle;\n",
       "    }\n",
       "\n",
       "    .dataframe tbody tr th {\n",
       "        vertical-align: top;\n",
       "    }\n",
       "\n",
       "    .dataframe thead th {\n",
       "        text-align: right;\n",
       "    }\n",
       "</style>\n",
       "<table border=\"1\" class=\"dataframe\">\n",
       "  <thead>\n",
       "    <tr style=\"text-align: right;\">\n",
       "      <th></th>\n",
       "      <th>날짜</th>\n",
       "      <th>장미</th>\n",
       "      <th>날짜.1</th>\n",
       "      <th>카네이션</th>\n",
       "    </tr>\n",
       "  </thead>\n",
       "  <tbody>\n",
       "    <tr>\n",
       "      <th>0</th>\n",
       "      <td>2021-07-10</td>\n",
       "      <td>2.09376</td>\n",
       "      <td>2021-07-10</td>\n",
       "      <td>0.54848</td>\n",
       "    </tr>\n",
       "    <tr>\n",
       "      <th>1</th>\n",
       "      <td>2021-07-11</td>\n",
       "      <td>2.01738</td>\n",
       "      <td>2021-07-11</td>\n",
       "      <td>0.53220</td>\n",
       "    </tr>\n",
       "    <tr>\n",
       "      <th>2</th>\n",
       "      <td>2021-07-12</td>\n",
       "      <td>2.19895</td>\n",
       "      <td>2021-07-12</td>\n",
       "      <td>0.49714</td>\n",
       "    </tr>\n",
       "    <tr>\n",
       "      <th>3</th>\n",
       "      <td>2021-07-13</td>\n",
       "      <td>2.05870</td>\n",
       "      <td>2021-07-13</td>\n",
       "      <td>0.46959</td>\n",
       "    </tr>\n",
       "    <tr>\n",
       "      <th>4</th>\n",
       "      <td>2021-07-14</td>\n",
       "      <td>2.02239</td>\n",
       "      <td>2021-07-14</td>\n",
       "      <td>0.48462</td>\n",
       "    </tr>\n",
       "  </tbody>\n",
       "</table>\n",
       "</div>"
      ],
      "text/plain": [
       "           날짜       장미        날짜.1     카네이션\n",
       "0  2021-07-10  2.09376  2021-07-10  0.54848\n",
       "1  2021-07-11  2.01738  2021-07-11  0.53220\n",
       "2  2021-07-12  2.19895  2021-07-12  0.49714\n",
       "3  2021-07-13  2.05870  2021-07-13  0.46959\n",
       "4  2021-07-14  2.02239  2021-07-14  0.48462"
      ]
     },
     "execution_count": 55,
     "metadata": {},
     "output_type": "execute_result"
    }
   ],
   "source": [
    "naKorRc.head()"
   ]
  },
  {
   "cell_type": "code",
   "execution_count": 56,
   "metadata": {},
   "outputs": [
    {
     "data": {
      "text/html": [
       "<div>\n",
       "<style scoped>\n",
       "    .dataframe tbody tr th:only-of-type {\n",
       "        vertical-align: middle;\n",
       "    }\n",
       "\n",
       "    .dataframe tbody tr th {\n",
       "        vertical-align: top;\n",
       "    }\n",
       "\n",
       "    .dataframe thead th {\n",
       "        text-align: right;\n",
       "    }\n",
       "</style>\n",
       "<table border=\"1\" class=\"dataframe\">\n",
       "  <thead>\n",
       "    <tr style=\"text-align: right;\">\n",
       "      <th></th>\n",
       "      <th>날짜</th>\n",
       "      <th>원예/식물</th>\n",
       "    </tr>\n",
       "  </thead>\n",
       "  <tbody>\n",
       "    <tr>\n",
       "      <th>0</th>\n",
       "      <td>2021-07-10</td>\n",
       "      <td>38</td>\n",
       "    </tr>\n",
       "    <tr>\n",
       "      <th>1</th>\n",
       "      <td>2021-07-11</td>\n",
       "      <td>40</td>\n",
       "    </tr>\n",
       "    <tr>\n",
       "      <th>2</th>\n",
       "      <td>2021-07-12</td>\n",
       "      <td>38</td>\n",
       "    </tr>\n",
       "    <tr>\n",
       "      <th>3</th>\n",
       "      <td>2021-07-13</td>\n",
       "      <td>38</td>\n",
       "    </tr>\n",
       "    <tr>\n",
       "      <th>4</th>\n",
       "      <td>2021-07-14</td>\n",
       "      <td>36</td>\n",
       "    </tr>\n",
       "  </tbody>\n",
       "</table>\n",
       "</div>"
      ],
      "text/plain": [
       "           날짜  원예/식물\n",
       "0  2021-07-10     38\n",
       "1  2021-07-11     40\n",
       "2  2021-07-12     38\n",
       "3  2021-07-13     38\n",
       "4  2021-07-14     36"
      ]
     },
     "execution_count": 56,
     "metadata": {},
     "output_type": "execute_result"
    }
   ],
   "source": [
    "naShopFlower.head()"
   ]
  },
  {
   "cell_type": "code",
   "execution_count": 57,
   "metadata": {},
   "outputs": [
    {
     "data": {
      "text/html": [
       "<div>\n",
       "<style scoped>\n",
       "    .dataframe tbody tr th:only-of-type {\n",
       "        vertical-align: middle;\n",
       "    }\n",
       "\n",
       "    .dataframe tbody tr th {\n",
       "        vertical-align: top;\n",
       "    }\n",
       "\n",
       "    .dataframe thead th {\n",
       "        text-align: right;\n",
       "    }\n",
       "</style>\n",
       "<table border=\"1\" class=\"dataframe\">\n",
       "  <thead>\n",
       "    <tr style=\"text-align: right;\">\n",
       "      <th></th>\n",
       "      <th>날짜</th>\n",
       "      <th>장미</th>\n",
       "      <th>카네이션</th>\n",
       "    </tr>\n",
       "  </thead>\n",
       "  <tbody>\n",
       "    <tr>\n",
       "      <th>0</th>\n",
       "      <td>2021-07-10</td>\n",
       "      <td>1</td>\n",
       "      <td>0</td>\n",
       "    </tr>\n",
       "    <tr>\n",
       "      <th>1</th>\n",
       "      <td>2021-07-11</td>\n",
       "      <td>1</td>\n",
       "      <td>0</td>\n",
       "    </tr>\n",
       "    <tr>\n",
       "      <th>2</th>\n",
       "      <td>2021-07-12</td>\n",
       "      <td>1</td>\n",
       "      <td>0</td>\n",
       "    </tr>\n",
       "    <tr>\n",
       "      <th>3</th>\n",
       "      <td>2021-07-13</td>\n",
       "      <td>0</td>\n",
       "      <td>0</td>\n",
       "    </tr>\n",
       "    <tr>\n",
       "      <th>4</th>\n",
       "      <td>2021-07-14</td>\n",
       "      <td>1</td>\n",
       "      <td>0</td>\n",
       "    </tr>\n",
       "  </tbody>\n",
       "</table>\n",
       "</div>"
      ],
      "text/plain": [
       "           날짜  장미  카네이션\n",
       "0  2021-07-10   1     0\n",
       "1  2021-07-11   1     0\n",
       "2  2021-07-12   1     0\n",
       "3  2021-07-13   0     0\n",
       "4  2021-07-14   1     0"
      ]
     },
     "execution_count": 57,
     "metadata": {},
     "output_type": "execute_result"
    }
   ],
   "source": [
    "naShopRc.head()"
   ]
  },
  {
   "cell_type": "markdown",
   "metadata": {},
   "source": [
    "## (2) 데이터 전처리"
   ]
  },
  {
   "cell_type": "markdown",
   "metadata": {},
   "source": [
    "### (2-1) 데이터 정제"
   ]
  },
  {
   "cell_type": "markdown",
   "metadata": {},
   "source": [
    "#### (2-1-1) 결측치 확인"
   ]
  },
  {
   "cell_type": "code",
   "execution_count": 58,
   "metadata": {},
   "outputs": [],
   "source": [
    "# 데이터프레임 리스트에서 결측치 확인해주는 함수\n",
    "def missingVal(dflist):\n",
    "    for i in dflist:\n",
    "        print(f'{i.isnull().sum()}', '\\n')"
   ]
  },
  {
   "cell_type": "code",
   "execution_count": 59,
   "metadata": {},
   "outputs": [
    {
     "name": "stdout",
     "output_type": "stream",
     "text": [
      "주                0\n",
      "カーネーション: (일본)    0\n",
      "バラ: (일본)         0\n",
      "dtype: int64 \n",
      "\n",
      "주                  0\n",
      "rose day: (미국)     0\n",
      "carnation: (미국)    0\n",
      "dtype: int64 \n",
      "\n",
      "날짜      0\n",
      "벚꽃      0\n",
      "날짜.1    0\n",
      "핑크뮬리    0\n",
      "dtype: int64 \n",
      "\n",
      "날짜      0\n",
      "벚꽃      0\n",
      "날짜.1    0\n",
      "핑크뮬리    0\n",
      "dtype: int64 \n",
      "\n",
      "날짜       0\n",
      "원예/식물    0\n",
      "dtype: int64 \n",
      "\n",
      "날짜      0\n",
      "장미      0\n",
      "카네이션    0\n",
      "dtype: int64 \n",
      "\n"
     ]
    }
   ],
   "source": [
    "missingVal(dfList)"
   ]
  },
  {
   "cell_type": "markdown",
   "metadata": {},
   "source": [
    "### (2-2) 데이터 표준화"
   ]
  },
  {
   "cell_type": "code",
   "execution_count": 60,
   "metadata": {},
   "outputs": [],
   "source": [
    "# 해외 데이터 한국어로 정리\n",
    "ggJpRc = ggJpRc.rename(columns={'주': '날짜', 'カーネーション: (일본)': '카네이션', 'バラ: (일본)': '장미'})\n",
    "ggUsaRc = ggUsaRc.rename(columns={'주': '날짜', 'rose day: (미국)': '장미', 'carnation: (미국)': '카네이션'})"
   ]
  },
  {
   "cell_type": "code",
   "execution_count": 61,
   "metadata": {},
   "outputs": [],
   "source": [
    "# 필요없는 중복컬럼 정리\n",
    "naKorPb = naKorPb.drop(columns='날짜.1')\n",
    "naKorRc = naKorRc.drop(columns='날짜.1')"
   ]
  },
  {
   "cell_type": "code",
   "execution_count": 62,
   "metadata": {},
   "outputs": [],
   "source": [
    "# 날짜 컬럼 datetime으로 바꿔주는 함수\n",
    "def makeDatetime(*df:pd.DataFrame):\n",
    "    for i in df:\n",
    "        i['날짜'] = pd.to_datetime(i['날짜'])"
   ]
  },
  {
   "cell_type": "code",
   "execution_count": 63,
   "metadata": {},
   "outputs": [],
   "source": [
    "# 함수실행\n",
    "makeDatetime(ggJpRc, ggUsaRc, naKorPb, naKorPb, naShopFlower, naShopRc)"
   ]
  },
  {
   "cell_type": "code",
   "execution_count": 64,
   "metadata": {},
   "outputs": [],
   "source": [
    "# df의 날짜컬럼 한달단위로 나눈 리스트 만들어주는 함수\n",
    "def makeDateList(df:pd.DataFrame):\n",
    "    mr = pd.date_range(start=df['날짜'].min(), end=df['날짜'].max(), freq='M')\n",
    "    return list(mr.astype(str))"
   ]
  },
  {
   "cell_type": "markdown",
   "metadata": {},
   "source": [
    "### (2-3) 데이터 정규화"
   ]
  },
  {
   "cell_type": "code",
   "execution_count": 68,
   "metadata": {},
   "outputs": [],
   "source": [
    "# 날짜를 제외한 컬럼 데이터를 정규화시켜서 원래 df에 붙여주는 함수\n",
    "def makeNomal(df:pd.DataFrame):\n",
    "    norDF = df.drop(columns='날짜')\n",
    "    colList = list(norDF.columns)\n",
    "    for i in colList:\n",
    "        norDF[i + '_nor'] = norDF[i].apply(lambda x: (x - norDF[i].min()) / (norDF[i].max() - norDF[i].min()))\n",
    "    result = pd.concat([df['날짜'], norDF], axis=1)\n",
    "    return result"
   ]
  },
  {
   "cell_type": "markdown",
   "metadata": {},
   "source": [
    "## (3) 데이터 추출 및 시각화"
   ]
  },
  {
   "cell_type": "markdown",
   "metadata": {},
   "source": [
    "### (3-1) 한국에서의 장미와 카네이션 검색 트랜드"
   ]
  },
  {
   "cell_type": "code",
   "execution_count": 66,
   "metadata": {},
   "outputs": [
    {
     "data": {
      "image/png": "[encoded data removed]",
      "text/plain": [
       "<Figure size 1224x576 with 1 Axes>"
      ]
     },
     "metadata": {
      "needs_background": "light"
     },
     "output_type": "display_data"
    }
   ],
   "source": [
    "plt.figure(figsize=(17,8))\n",
    "plt.plot(naKorRc['날짜'], naKorRc['장미'])\n",
    "plt.plot(naKorRc['날짜'], naKorRc['카네이션'])\n",
    "plt.xticks(makeDateList(naKorRc))\n",
    "plt.show()"
   ]
  },
  {
   "cell_type": "code",
   "execution_count": null,
   "metadata": {},
   "outputs": [],
   "source": []
  },
  {
   "cell_type": "markdown",
   "metadata": {},
   "source": [
    "### (3-2) "
   ]
  }
 ],
 "metadata": {
  "kernelspec": {
   "display_name": "Python 3.9.12 ('EV_PY39')",
   "language": "python",
   "name": "python3"
  },
  "language_info": {
   "codemirror_mode": {
    "name": "ipython",
    "version": 3
   },
   "file_extension": ".py",
   "mimetype": "text/x-python",
   "name": "python",
   "nbconvert_exporter": "python",
   "pygments_lexer": "ipython3",
   "version": "3.9.12"
  },
  "orig_nbformat": 4,
  "vscode": {
   "interpreter": {
    "hash": "ecbb256efbbf2e6a48de4f11a785e1a9701c0b8691667a6aa3f10a29af86e563"
   }
  }
 },
 "nbformat": 4,
 "nbformat_minor": 2
}
