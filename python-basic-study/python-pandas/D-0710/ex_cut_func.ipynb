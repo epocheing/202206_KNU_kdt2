{
 "cells": [
  {
   "cell_type": "markdown",
   "metadata": {},
   "source": [
    "# 연속형자료형 => 범주형 전환\n",
    "- pandas cut() 함수 제공\n",
    "    - PARAMETOR [기본값], a < value <= b\n",
    "        - bins : 구간 갯수                              -> 정렬 후 지정된 갯수 만큼 구간\n",
    "        - right : 오른쪽 값 포함여부                    -> True\n",
    "        - labels : 구간에 대한 라벨, 리스트             -> 구간 갯수에 맞게 설정\n",
    "        - include_lowest : 왼쪽의 가장 작은값 포함 여부 -> False\n",
    "        - retbins : 구간리스트 반환 여부                -> False\n",
    "    - RESULT\n",
    "        - 범주형 변환 데이터\n",
    "        - 구간 리스트 <- retbins = True 로 설정된 경우 반환\n"
   ]
  },
  {
   "cell_type": "code",
   "execution_count": 23,
   "metadata": {},
   "outputs": [
    {
     "data": {
      "text/html": [
       "<div>\n",
       "<style scoped>\n",
       "    .dataframe tbody tr th:only-of-type {\n",
       "        vertical-align: middle;\n",
       "    }\n",
       "\n",
       "    .dataframe tbody tr th {\n",
       "        vertical-align: top;\n",
       "    }\n",
       "\n",
       "    .dataframe thead th {\n",
       "        text-align: right;\n",
       "    }\n",
       "</style>\n",
       "<table border=\"1\" class=\"dataframe\">\n",
       "  <thead>\n",
       "    <tr style=\"text-align: right;\">\n",
       "      <th></th>\n",
       "      <th>value</th>\n",
       "    </tr>\n",
       "  </thead>\n",
       "  <tbody>\n",
       "    <tr>\n",
       "      <th>0</th>\n",
       "      <td>1</td>\n",
       "    </tr>\n",
       "    <tr>\n",
       "      <th>1</th>\n",
       "      <td>2</td>\n",
       "    </tr>\n",
       "    <tr>\n",
       "      <th>2</th>\n",
       "      <td>3</td>\n",
       "    </tr>\n",
       "    <tr>\n",
       "      <th>3</th>\n",
       "      <td>4</td>\n",
       "    </tr>\n",
       "    <tr>\n",
       "      <th>4</th>\n",
       "      <td>5</td>\n",
       "    </tr>\n",
       "  </tbody>\n",
       "</table>\n",
       "</div>"
      ],
      "text/plain": [
       "   value\n",
       "0      1\n",
       "1      2\n",
       "2      3\n",
       "3      4\n",
       "4      5"
      ]
     },
     "execution_count": 23,
     "metadata": {},
     "output_type": "execute_result"
    }
   ],
   "source": [
    "import pandas as pd\n",
    "\n",
    "# df 생성\n",
    "df = pd.DataFrame({'value': [1,2,3,4,5]})\n",
    "df"
   ]
  },
  {
   "cell_type": "code",
   "execution_count": 24,
   "metadata": {},
   "outputs": [
    {
     "data": {
      "text/plain": [
       "0    (0.996, 3.0]\n",
       "1    (0.996, 3.0]\n",
       "2    (0.996, 3.0]\n",
       "3      (3.0, 5.0]\n",
       "4      (3.0, 5.0]\n",
       "Name: value, dtype: category\n",
       "Categories (2, interval[float64, right]): [(0.996, 3.0] < (3.0, 5.0]]"
      ]
     },
     "execution_count": 24,
     "metadata": {},
     "output_type": "execute_result"
    }
   ],
   "source": [
    "# 연속형 자료형 -> 범주형 (category) 변환\n",
    "# [기본값] right = True, include_lowest = False\n",
    "caDF, retbins = pd.cut(df['value'], bins=2, retbins=True)\n",
    "caDF"
   ]
  },
  {
   "cell_type": "code",
   "execution_count": 25,
   "metadata": {},
   "outputs": [
    {
     "data": {
      "text/plain": [
       "array([0.996, 3.   , 5.   ])"
      ]
     },
     "execution_count": 25,
     "metadata": {},
     "output_type": "execute_result"
    }
   ],
   "source": [
    "retbins"
   ]
  },
  {
   "cell_type": "code",
   "execution_count": 26,
   "metadata": {},
   "outputs": [
    {
     "data": {
      "text/plain": [
       "0    (0.995, 3.0]\n",
       "1    (0.995, 3.0]\n",
       "2    (0.995, 3.0]\n",
       "3      (3.0, 5.0]\n",
       "4      (3.0, 5.0]\n",
       "Name: value, dtype: category\n",
       "Categories (2, interval[float64, right]): [(0.995, 3.0] < (3.0, 5.0]]"
      ]
     },
     "execution_count": 26,
     "metadata": {},
     "output_type": "execute_result"
    }
   ],
   "source": [
    "caDF, retbins = pd.cut(df['value'], bins=2, retbins=True, include_lowest=True)\n",
    "caDF"
   ]
  },
  {
   "cell_type": "code",
   "execution_count": 27,
   "metadata": {},
   "outputs": [
    {
     "data": {
      "text/plain": [
       "array([0.996, 3.   , 5.   ])"
      ]
     },
     "execution_count": 27,
     "metadata": {},
     "output_type": "execute_result"
    }
   ],
   "source": [
    "retbins"
   ]
  },
  {
   "cell_type": "code",
   "execution_count": 28,
   "metadata": {},
   "outputs": [
    {
     "data": {
      "text/plain": [
       "0      [1.0, 3.0)\n",
       "1      [1.0, 3.0)\n",
       "2    [3.0, 5.004)\n",
       "3    [3.0, 5.004)\n",
       "4    [3.0, 5.004)\n",
       "Name: value, dtype: category\n",
       "Categories (2, interval[float64, left]): [[1.0, 3.0) < [3.0, 5.004)]"
      ]
     },
     "execution_count": 28,
     "metadata": {},
     "output_type": "execute_result"
    }
   ],
   "source": [
    "caDF, retbins = pd.cut(df['value'], bins=2, retbins=True, right=False)\n",
    "caDF"
   ]
  },
  {
   "cell_type": "code",
   "execution_count": 29,
   "metadata": {},
   "outputs": [
    {
     "data": {
      "text/plain": [
       "array([1.   , 3.   , 5.004])"
      ]
     },
     "execution_count": 29,
     "metadata": {},
     "output_type": "execute_result"
    }
   ],
   "source": [
    "retbins"
   ]
  }
 ],
 "metadata": {
  "kernelspec": {
   "display_name": "Python 3.9.12 ('EV_PY39')",
   "language": "python",
   "name": "python3"
  },
  "language_info": {
   "codemirror_mode": {
    "name": "ipython",
    "version": 3
   },
   "file_extension": ".py",
   "mimetype": "text/x-python",
   "name": "python",
   "nbconvert_exporter": "python",
   "pygments_lexer": "ipython3",
   "version": "3.9.12"
  },
  "orig_nbformat": 4,
  "vscode": {
   "interpreter": {
    "hash": "d1dde8d3f1fc6169eb2afb9c884f1482ff31994a855398e316a83a9dc8ff488b"
   }
  }
 },
 "nbformat": 4,
 "nbformat_minor": 2
}
