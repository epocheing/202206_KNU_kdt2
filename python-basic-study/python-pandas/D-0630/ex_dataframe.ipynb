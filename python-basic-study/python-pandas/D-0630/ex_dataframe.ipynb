{
 "cells": [
  {
   "cell_type": "markdown",
   "metadata": {},
   "source": [
    "## 데이터프레임(DataFrame) 실습\n",
    "- 시리즈(Series) 객체가 2개이상 합쳐진 pandas의 데이터타입\n",
    "- 구성 : 로우(행) 인덱스 + 컬럼(열) 라벨"
   ]
  },
  {
   "cell_type": "code",
   "execution_count": 1,
   "metadata": {},
   "outputs": [],
   "source": [
    "# 모듈 로딩\n",
    "import pandas as pd\n",
    "\n",
    "datas = [1, 2, 3, [11, 22]]\n",
    "datas[3][1]\n",
    "\n",
    "datas = [[1, 2, 3], [\"a\", \"b\", \"c\"]]\n",
    "\n",
    "df1 = pd.DataFrame(datas)"
   ]
  },
  {
   "cell_type": "code",
   "execution_count": 2,
   "metadata": {},
   "outputs": [
    {
     "name": "stdout",
     "output_type": "stream",
     "text": [
      "   0  1  2\n",
      "0  1  2  3\n",
      "1  a  b  c\n",
      "RangeIndex(start=0, stop=2, step=1)\n",
      "RangeIndex(start=0, stop=3, step=1)\n",
      "[[1 2 3]\n",
      " ['a' 'b' 'c']]\n",
      "6\n",
      "2\n",
      "(2, 3)\n"
     ]
    }
   ],
   "source": [
    "# DataFrame의 속성 읽기\n",
    "print(df1)\n",
    "print(df1.index, df1.columns, df1.values, df1.size, df1.ndim, df1.shape, sep=\"\\n\")"
   ]
  },
  {
   "cell_type": "code",
   "execution_count": 3,
   "metadata": {},
   "outputs": [
    {
     "name": "stdout",
     "output_type": "stream",
     "text": [
      "<class 'pandas.core.frame.DataFrame'>\n",
      "RangeIndex: 2 entries, 0 to 1\n",
      "Data columns (total 3 columns):\n",
      " #   Column  Non-Null Count  Dtype \n",
      "---  ------  --------------  ----- \n",
      " 0   0       2 non-null      object\n",
      " 1   1       2 non-null      object\n",
      " 2   2       2 non-null      object\n",
      "dtypes: object(3)\n",
      "memory usage: 176.0+ bytes\n"
     ]
    }
   ],
   "source": [
    "df1.info()"
   ]
  },
  {
   "cell_type": "code",
   "execution_count": 4,
   "metadata": {},
   "outputs": [
    {
     "data": {
      "text/html": [
       "<div>\n",
       "<style scoped>\n",
       "    .dataframe tbody tr th:only-of-type {\n",
       "        vertical-align: middle;\n",
       "    }\n",
       "\n",
       "    .dataframe tbody tr th {\n",
       "        vertical-align: top;\n",
       "    }\n",
       "\n",
       "    .dataframe thead th {\n",
       "        text-align: right;\n",
       "    }\n",
       "</style>\n",
       "<table border=\"1\" class=\"dataframe\">\n",
       "  <thead>\n",
       "    <tr style=\"text-align: right;\">\n",
       "      <th></th>\n",
       "      <th>name</th>\n",
       "      <th>age</th>\n",
       "      <th>loc</th>\n",
       "      <th>Gen</th>\n",
       "    </tr>\n",
       "  </thead>\n",
       "  <tbody>\n",
       "    <tr>\n",
       "      <th>0</th>\n",
       "      <td>hong</td>\n",
       "      <td>12</td>\n",
       "      <td>daegu</td>\n",
       "      <td>F</td>\n",
       "    </tr>\n",
       "    <tr>\n",
       "      <th>1</th>\n",
       "      <td>lee</td>\n",
       "      <td>5</td>\n",
       "      <td>busan</td>\n",
       "      <td>N</td>\n",
       "    </tr>\n",
       "  </tbody>\n",
       "</table>\n",
       "</div>"
      ],
      "text/plain": [
       "   name  age    loc Gen\n",
       "0  hong   12  daegu   F\n",
       "1   lee    5  busan   N"
      ]
     },
     "execution_count": 4,
     "metadata": {},
     "output_type": "execute_result"
    }
   ],
   "source": [
    "# Dict 데이터로 DataFrame 객체 생성하기\n",
    "df2 = pd.DataFrame(\n",
    "    {\n",
    "        \"name\": [\"hong\", \"lee\"],\n",
    "        \"age\": [12, 5],\n",
    "        \"loc\": [\"daegu\", \"busan\"],\n",
    "        \"Gen\": [\"F\", \"N\"],\n",
    "    }\n",
    ")\n",
    "df2"
   ]
  },
  {
   "cell_type": "code",
   "execution_count": 5,
   "metadata": {},
   "outputs": [
    {
     "name": "stdout",
     "output_type": "stream",
     "text": [
      "<class 'pandas.core.frame.DataFrame'>\n",
      "RangeIndex: 2 entries, 0 to 1\n",
      "Data columns (total 4 columns):\n",
      " #   Column  Non-Null Count  Dtype \n",
      "---  ------  --------------  ----- \n",
      " 0   name    2 non-null      object\n",
      " 1   age     2 non-null      int64 \n",
      " 2   loc     2 non-null      object\n",
      " 3   Gen     2 non-null      object\n",
      "dtypes: int64(1), object(3)\n",
      "memory usage: 192.0+ bytes\n"
     ]
    }
   ],
   "source": [
    "df2.info()"
   ]
  },
  {
   "cell_type": "code",
   "execution_count": 13,
   "metadata": {},
   "outputs": [
    {
     "name": "stdout",
     "output_type": "stream",
     "text": [
      "busan\n",
      "name      lee\n",
      "age         5\n",
      "loc     busan\n",
      "Gen         N\n",
      "Name: 1, dtype: object\n"
     ]
    }
   ],
   "source": [
    "# DataFrame 객체에서 Busan 데이터 추출\n",
    "print(df2['loc'][1])\n",
    "print(df2.loc[1])\n"
   ]
  },
  {
   "cell_type": "code",
   "execution_count": null,
   "metadata": {},
   "outputs": [],
   "source": []
  },
  {
   "cell_type": "code",
   "execution_count": null,
   "metadata": {},
   "outputs": [],
   "source": []
  }
 ],
 "metadata": {
  "kernelspec": {
   "display_name": "Python 3.9.12 ('EV_PY39')",
   "language": "python",
   "name": "python3"
  },
  "language_info": {
   "codemirror_mode": {
    "name": "ipython",
    "version": 3
   },
   "file_extension": ".py",
   "mimetype": "text/x-python",
   "name": "python",
   "nbconvert_exporter": "python",
   "pygments_lexer": "ipython3",
   "version": "3.9.12"
  },
  "orig_nbformat": 4,
  "vscode": {
   "interpreter": {
    "hash": "d1dde8d3f1fc6169eb2afb9c884f1482ff31994a855398e316a83a9dc8ff488b"
   }
  }
 },
 "nbformat": 4,
 "nbformat_minor": 2
}
