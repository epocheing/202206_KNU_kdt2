{
 "cells": [
  {
   "cell_type": "markdown",
   "metadata": {},
   "source": [
    "## 시리즈(series) 타입 실습\n",
    "- pandas의 1종류(1차원 배열/세로 백터) 데이터를 저장하는 데이터 타입(Type)\n",
    "\n",
    "- 생성 : series 객체 생성"
   ]
  },
  {
   "cell_type": "code",
   "execution_count": 13,
   "metadata": {},
   "outputs": [],
   "source": [
    "# 모듈 로딩\n",
    "import pandas as pd\n",
    "\n",
    "# Series 객체 생성\n",
    "sr = pd.Series([1, 2, 3, 4])"
   ]
  },
  {
   "cell_type": "code",
   "execution_count": 14,
   "metadata": {},
   "outputs": [
    {
     "data": {
      "text/plain": [
       "0    1\n",
       "1    2\n",
       "2    3\n",
       "3    4\n",
       "dtype: int64"
      ]
     },
     "execution_count": 14,
     "metadata": {},
     "output_type": "execute_result"
    }
   ],
   "source": [
    "# 생성된 Series 객체 데이터 확인하기\n",
    "sr"
   ]
  },
  {
   "cell_type": "code",
   "execution_count": 15,
   "metadata": {},
   "outputs": [
    {
     "data": {
      "text/plain": [
       "RangeIndex(start=0, stop=4, step=1)"
      ]
     },
     "execution_count": 15,
     "metadata": {},
     "output_type": "execute_result"
    }
   ],
   "source": [
    "# sr 객체의 인덱스 속성 \n",
    "sr.index"
   ]
  },
  {
   "cell_type": "code",
   "execution_count": 16,
   "metadata": {},
   "outputs": [
    {
     "data": {
      "text/plain": [
       "array([1, 2, 3, 4], dtype=int64)"
      ]
     },
     "execution_count": 16,
     "metadata": {},
     "output_type": "execute_result"
    }
   ],
   "source": [
    "# sr 객체의 값 속성\n",
    "sr.values"
   ]
  },
  {
   "cell_type": "code",
   "execution_count": 17,
   "metadata": {},
   "outputs": [
    {
     "data": {
      "text/plain": [
       "1"
      ]
     },
     "execution_count": 17,
     "metadata": {},
     "output_type": "execute_result"
    }
   ],
   "source": [
    "# sr 객체의 차원 속성\n",
    "sr.ndim"
   ]
  },
  {
   "cell_type": "code",
   "execution_count": 18,
   "metadata": {},
   "outputs": [
    {
     "data": {
      "text/plain": [
       "(4,)"
      ]
     },
     "execution_count": 18,
     "metadata": {},
     "output_type": "execute_result"
    }
   ],
   "source": [
    "# sr 객체의 형 속성\n",
    "sr.shape"
   ]
  },
  {
   "cell_type": "code",
   "execution_count": 19,
   "metadata": {},
   "outputs": [
    {
     "data": {
      "text/plain": [
       "(32, 4)"
      ]
     },
     "execution_count": 19,
     "metadata": {},
     "output_type": "execute_result"
    }
   ],
   "source": [
    "# 실제 사용 메모리 byte, 데이터 개수\n",
    "sr.nbytes, sr.size"
   ]
  },
  {
   "cell_type": "code",
   "execution_count": 20,
   "metadata": {},
   "outputs": [
    {
     "data": {
      "text/plain": [
       "0      1\n",
       "1      2\n",
       "2      a\n",
       "3    4.5\n",
       "dtype: object"
      ]
     },
     "execution_count": 20,
     "metadata": {},
     "output_type": "execute_result"
    }
   ],
   "source": [
    "# 여러 타입의 데이터로 Series 객체 생성\n",
    "sr2 = pd.Series([1, 2, \"a\", 4.5])\n",
    "sr2"
   ]
  },
  {
   "cell_type": "code",
   "execution_count": 21,
   "metadata": {},
   "outputs": [
    {
     "name": "stdout",
     "output_type": "stream",
     "text": [
      "index => RangeIndex(start=0, stop=4, step=1)\n",
      "value => [1 2 'a' 4.5] | value type = <class 'numpy.ndarray'>\n",
      "array => <PandasArray>\n",
      "[1, 2, 'a', 4.5]\n",
      "Length: 4, dtype: object\n",
      "0      1\n",
      "1      2\n",
      "2      a\n",
      "3    4.5\n",
      "dtype: object\n"
     ]
    }
   ],
   "source": [
    "# Series 객체 속성 읽기\n",
    "print(f\"index => {sr2.index}\")\n",
    "print(f\"value => {sr2.values} | value type = {type(sr2.values)}\")\n",
    "print(f\"array => {sr2.array}\")\n",
    "print(sr2)"
   ]
  },
  {
   "cell_type": "code",
   "execution_count": 22,
   "metadata": {},
   "outputs": [
    {
     "data": {
      "text/plain": [
       "name     Hong\n",
       "age        12\n",
       "loc     Daegu\n",
       "dtype: object"
      ]
     },
     "execution_count": 22,
     "metadata": {},
     "output_type": "execute_result"
    }
   ],
   "source": [
    "# Dict 데이터로 Series 객체 생성\n",
    "sr3 = pd.Series({\"name\": \"Hong\", \"age\": 12, \"loc\": \"Daegu\"})\n",
    "sr3"
   ]
  },
  {
   "cell_type": "code",
   "execution_count": 23,
   "metadata": {},
   "outputs": [
    {
     "data": {
      "text/plain": [
       "0    a\n",
       "1    b\n",
       "2    c\n",
       "dtype: object"
      ]
     },
     "execution_count": 23,
     "metadata": {},
     "output_type": "execute_result"
    }
   ],
   "source": [
    "# Series 객체 생성\n",
    "sr2 = pd.Series(['a','b','c'])\n",
    "sr2"
   ]
  },
  {
   "cell_type": "code",
   "execution_count": 24,
   "metadata": {},
   "outputs": [
    {
     "data": {
      "text/plain": [
       "11    a\n",
       "22    b\n",
       "33    c\n",
       "dtype: object"
      ]
     },
     "execution_count": 24,
     "metadata": {},
     "output_type": "execute_result"
    }
   ],
   "source": [
    "# 인덱스 새로운 값으로 설정 => 객체변수명.속성명 = 새로운값\n",
    "sr2.index = [11,22,33]\n",
    "sr2"
   ]
  },
  {
   "cell_type": "markdown",
   "metadata": {},
   "source": [
    "## 시리즈(Series) 객체의 원소/요소 다루기\n",
    "- 방법\n",
    "    - 시리즈 객체[인덱스 번호]\n",
    "    - 시리즈 객체[인덱스 라벨]"
   ]
  },
  {
   "cell_type": "code",
   "execution_count": 32,
   "metadata": {},
   "outputs": [
    {
     "data": {
      "text/plain": [
       "Int64Index([11, 22, 33], dtype='int64')"
      ]
     },
     "execution_count": 32,
     "metadata": {},
     "output_type": "execute_result"
    }
   ],
   "source": [
    "# 1번 원소 읽기\n",
    "sr2.index"
   ]
  },
  {
   "cell_type": "code",
   "execution_count": 33,
   "metadata": {},
   "outputs": [
    {
     "data": {
      "text/plain": [
       "'b'"
      ]
     },
     "execution_count": 33,
     "metadata": {},
     "output_type": "execute_result"
    }
   ],
   "source": [
    "sr2[22]\n",
    "# sr2[0] -> 오류발생\n",
    "# 정수 인덱스가 부여된 상태에서는 원래 정수 인덱스는 작동 안함"
   ]
  },
  {
   "cell_type": "code",
   "execution_count": 34,
   "metadata": {},
   "outputs": [
    {
     "data": {
      "text/plain": [
       "Index(['one', 'two', 'three'], dtype='object')"
      ]
     },
     "execution_count": 34,
     "metadata": {},
     "output_type": "execute_result"
    }
   ],
   "source": [
    "# 문자형 인덱스로 새롭게 설정\n",
    "sr2.index=['one', 'two', 'three']\n",
    "sr2.index"
   ]
  },
  {
   "cell_type": "code",
   "execution_count": 37,
   "metadata": {},
   "outputs": [
    {
     "data": {
      "text/plain": [
       "('b', 'b', 'c', 'c')"
      ]
     },
     "execution_count": 37,
     "metadata": {},
     "output_type": "execute_result"
    }
   ],
   "source": [
    "# 문자열 인덱스가 존재할때는 정수인덱스도 따로 부여됨\n",
    "sr2['two'], sr2[1], sr2['three'], sr2[2]"
   ]
  },
  {
   "cell_type": "code",
   "execution_count": 40,
   "metadata": {},
   "outputs": [
    {
     "data": {
      "text/plain": [
       "Index(['name', 'age'], dtype='object')"
      ]
     },
     "execution_count": 40,
     "metadata": {},
     "output_type": "execute_result"
    }
   ],
   "source": [
    "sr3 = pd.Series({'name': '홍길동', 'age': 12})\n",
    "sr3\n",
    "sr3.index"
   ]
  },
  {
   "cell_type": "code",
   "execution_count": 42,
   "metadata": {},
   "outputs": [
    {
     "data": {
      "text/plain": [
       "('홍길동', '홍길동', 12, 12)"
      ]
     },
     "execution_count": 42,
     "metadata": {},
     "output_type": "execute_result"
    }
   ],
   "source": [
    "sr3['name'], sr3[0], sr3['age'], sr3[1]"
   ]
  },
  {
   "cell_type": "code",
   "execution_count": 46,
   "metadata": {},
   "outputs": [
    {
     "data": {
      "text/plain": [
       "날짜      2022-06-30\n",
       "과목          Pandas\n",
       "bool          True\n",
       "실수            4.55\n",
       "희망사항       No Work\n",
       "마실거         Coffee\n",
       "숫자           12345\n",
       "dtype: object"
      ]
     },
     "execution_count": 46,
     "metadata": {},
     "output_type": "execute_result"
    }
   ],
   "source": [
    "sr4 = pd.Series(('2022-06-30', 'Pandas', True, 4.55, 'No Work', 'Coffee', 12345))\n",
    "sr4.index = ['날짜', '과목', 'bool', '실수', '희망사항', '마실거', '숫자']\n",
    "sr4"
   ]
  },
  {
   "cell_type": "code",
   "execution_count": 59,
   "metadata": {},
   "outputs": [
    {
     "name": "stdout",
     "output_type": "stream",
     "text": [
      "2022-06-30 4.55 No Work\n",
      "2022-06-30 4.55 No Work\n",
      "날짜      2022-06-30\n",
      "실수            4.55\n",
      "희망사항       No Work\n",
      "dtype: object\n",
      "<class 'pandas.core.series.Series'>\n",
      "\n",
      "\n",
      "과목       Pandas\n",
      "bool       True\n",
      "실수         4.55\n",
      "희망사항    No Work\n",
      "마실거      Coffee\n",
      "숫자        12345\n",
      "dtype: object\n",
      "과목       Pandas\n",
      "bool       True\n",
      "실수         4.55\n",
      "희망사항    No Work\n",
      "마실거      Coffee\n",
      "숫자        12345\n",
      "dtype: object\n"
     ]
    }
   ],
   "source": [
    "# (1) 0번요소, 3번요소, 4번요소 읽어서 출력\n",
    "print(sr4[0], sr4[3], sr4[4])\n",
    "print(sr4['날짜'], sr4['실수'], sr4['희망사항'])\n",
    "print(sr4[[0,3,4]])\n",
    "print(type(sr4[[0,3,4]]))\n",
    "print('\\n')\n",
    "\n",
    "# (2) 1번요소부터 끝까지 요소값 출력\n",
    "print(sr4[1:])\n",
    "print(sr4['과목':])"
   ]
  },
  {
   "cell_type": "code",
   "execution_count": 62,
   "metadata": {},
   "outputs": [
    {
     "name": "stdout",
     "output_type": "stream",
     "text": [
      "과목      Pandas\n",
      "bool      True\n",
      "실수        4.55\n",
      "dtype: object\n",
      "과목       Pandas\n",
      "bool       True\n",
      "실수         4.55\n",
      "희망사항    No Work\n",
      "dtype: object\n"
     ]
    }
   ],
   "source": [
    "# (3) 1번요소부터 3번요소까지 요소값 출력\n",
    "print(sr4[1:4])\n",
    "print(sr4['과목':'희망사항'])  # 인덱스 라벨은 끝원소로 포함"
   ]
  }
 ],
 "metadata": {
  "kernelspec": {
   "display_name": "Python 3.9.12 ('EV_PY39')",
   "language": "python",
   "name": "python3"
  },
  "language_info": {
   "codemirror_mode": {
    "name": "ipython",
    "version": 3
   },
   "file_extension": ".py",
   "mimetype": "text/x-python",
   "name": "python",
   "nbconvert_exporter": "python",
   "pygments_lexer": "ipython3",
   "version": "3.9.12"
  },
  "orig_nbformat": 4,
  "vscode": {
   "interpreter": {
    "hash": "d1dde8d3f1fc6169eb2afb9c884f1482ff31994a855398e316a83a9dc8ff488b"
   }
  }
 },
 "nbformat": 4,
 "nbformat_minor": 2
}
