{
 "cells": [
  {
   "cell_type": "markdown",
   "metadata": {},
   "source": [
    "## 커피빈 홈페이지에 동적 웹 크롤링"
   ]
  },
  {
   "cell_type": "code",
   "execution_count": 1,
   "metadata": {},
   "outputs": [],
   "source": [
    "from bs4 import BeautifulSoup\n",
    "from selenium import webdriver\n",
    "import pandas as pd\n",
    "import time\n",
    "\n",
    "def coffeebean_store(store_list):\n",
    "    coffeebean_url = 'https://www.coffeebeankorea.com/store/store.asp'\n",
    "    driver = webdriver.Chrome()\n",
    "    for i in range(1, 10):\n",
    "        driver.get(coffeebean_url)\n",
    "        time.sleep(1) # 웹페이지를 연결할 동안 1초 대기\n",
    "        driver.execute_script('storePop2(%d)' % i)\n",
    "        time.sleep(1)\n",
    "        try:\n",
    "            html = driver.page_source\n",
    "            soup = BeautifulSoup(html, 'html.parser')\n",
    "            store_name = soup.select_one('div.store_txt > h2').text # 매장 이름\n",
    "            store_info = soup.select(\"div.store_txt > table.store_table > tbody > tr > td\")\n",
    "            store_address_list = list(store_info[2])\n",
    "            store_addr = store_address_list[0] # 매장 주소\n",
    "            store_phone = store_info[3].text # 매장 전화번호\n",
    "            print('{} {} {}'.format(i+1, store_name, store_addr, store_phone))\n",
    "            store_list.append([store_name, store_addr, store_phone])\n",
    "        except:\n",
    "            continue"
   ]
  },
  {
   "cell_type": "code",
   "execution_count": 2,
   "metadata": {},
   "outputs": [
    {
     "ename": "NoSuchWindowException",
     "evalue": "Message: no such window: target window already closed\nfrom unknown error: web view not found\n  (Session info: chrome=103.0.5060.134)\n",
     "output_type": "error",
     "traceback": [
      "\u001b[0;31m---------------------------------------------------------------------------\u001b[0m",
      "\u001b[0;31mNoSuchWindowException\u001b[0m                     Traceback (most recent call last)",
      "\u001b[1;32m/home/siu/workplace/bigdata/python_data_analysis/web_scraping/D_0725/ex_selenium_coffee.ipynb Cell 3\u001b[0m in \u001b[0;36m<cell line: 12>\u001b[0;34m()\u001b[0m\n\u001b[1;32m      <a href='vscode-notebook-cell:/home/siu/workplace/bigdata/python_data_analysis/web_scraping/D_0725/ex_selenium_coffee.ipynb#ch0000002?line=7'>8</a>\u001b[0m     \u001b[39m# DataFrame을 csv파일로 저장 (utf-8로 인코딩)\u001b[39;00m\n\u001b[1;32m      <a href='vscode-notebook-cell:/home/siu/workplace/bigdata/python_data_analysis/web_scraping/D_0725/ex_selenium_coffee.ipynb#ch0000002?line=8'>9</a>\u001b[0m     coffeebean_table\u001b[39m.\u001b[39mto_csv(\u001b[39m'\u001b[39m\u001b[39mcoffeebean_branches.csv\u001b[39m\u001b[39m'\u001b[39m, encoding\u001b[39m=\u001b[39m\u001b[39m'\u001b[39m\u001b[39mutf-8\u001b[39m\u001b[39m'\u001b[39m, mode\u001b[39m=\u001b[39m\u001b[39m'\u001b[39m\u001b[39mw\u001b[39m\u001b[39m'\u001b[39m, \n\u001b[1;32m     <a href='vscode-notebook-cell:/home/siu/workplace/bigdata/python_data_analysis/web_scraping/D_0725/ex_selenium_coffee.ipynb#ch0000002?line=9'>10</a>\u001b[0m     index\u001b[39m=\u001b[39m\u001b[39mTrue\u001b[39;00m)\n\u001b[0;32m---> <a href='vscode-notebook-cell:/home/siu/workplace/bigdata/python_data_analysis/web_scraping/D_0725/ex_selenium_coffee.ipynb#ch0000002?line=11'>12</a>\u001b[0m main()\n",
      "\u001b[1;32m/home/siu/workplace/bigdata/python_data_analysis/web_scraping/D_0725/ex_selenium_coffee.ipynb Cell 3\u001b[0m in \u001b[0;36mmain\u001b[0;34m()\u001b[0m\n\u001b[1;32m      <a href='vscode-notebook-cell:/home/siu/workplace/bigdata/python_data_analysis/web_scraping/D_0725/ex_selenium_coffee.ipynb#ch0000002?line=0'>1</a>\u001b[0m \u001b[39mdef\u001b[39;00m \u001b[39mmain\u001b[39m():\n\u001b[1;32m      <a href='vscode-notebook-cell:/home/siu/workplace/bigdata/python_data_analysis/web_scraping/D_0725/ex_selenium_coffee.ipynb#ch0000002?line=1'>2</a>\u001b[0m     store_info \u001b[39m=\u001b[39m []\n\u001b[0;32m----> <a href='vscode-notebook-cell:/home/siu/workplace/bigdata/python_data_analysis/web_scraping/D_0725/ex_selenium_coffee.ipynb#ch0000002?line=2'>3</a>\u001b[0m     coffeebean_store(store_info)\n\u001b[1;32m      <a href='vscode-notebook-cell:/home/siu/workplace/bigdata/python_data_analysis/web_scraping/D_0725/ex_selenium_coffee.ipynb#ch0000002?line=3'>4</a>\u001b[0m     \u001b[39m# DataFrame으로 변경\u001b[39;00m\n\u001b[1;32m      <a href='vscode-notebook-cell:/home/siu/workplace/bigdata/python_data_analysis/web_scraping/D_0725/ex_selenium_coffee.ipynb#ch0000002?line=4'>5</a>\u001b[0m     coffeebean_table \u001b[39m=\u001b[39m pd\u001b[39m.\u001b[39mDataFrame(store_info, columns\u001b[39m=\u001b[39m(\u001b[39m'\u001b[39m\u001b[39m매장이름\u001b[39m\u001b[39m'\u001b[39m, \u001b[39m'\u001b[39m\u001b[39m주소\u001b[39m\u001b[39m'\u001b[39m, \u001b[39m'\u001b[39m\u001b[39m전화번호\u001b[39m\u001b[39m'\u001b[39m))\n",
      "\u001b[1;32m/home/siu/workplace/bigdata/python_data_analysis/web_scraping/D_0725/ex_selenium_coffee.ipynb Cell 3\u001b[0m in \u001b[0;36mcoffeebean_store\u001b[0;34m(store_list)\u001b[0m\n\u001b[1;32m     <a href='vscode-notebook-cell:/home/siu/workplace/bigdata/python_data_analysis/web_scraping/D_0725/ex_selenium_coffee.ipynb#ch0000002?line=9'>10</a>\u001b[0m driver\u001b[39m.\u001b[39mget(coffeebean_url)\n\u001b[1;32m     <a href='vscode-notebook-cell:/home/siu/workplace/bigdata/python_data_analysis/web_scraping/D_0725/ex_selenium_coffee.ipynb#ch0000002?line=10'>11</a>\u001b[0m time\u001b[39m.\u001b[39msleep(\u001b[39m1\u001b[39m) \u001b[39m# 웹페이지를 연결할 동안 1초 대기\u001b[39;00m\n\u001b[0;32m---> <a href='vscode-notebook-cell:/home/siu/workplace/bigdata/python_data_analysis/web_scraping/D_0725/ex_selenium_coffee.ipynb#ch0000002?line=11'>12</a>\u001b[0m driver\u001b[39m.\u001b[39;49mexecute_script(\u001b[39m'\u001b[39;49m\u001b[39mstorePop2(\u001b[39;49m\u001b[39m%d\u001b[39;49;00m\u001b[39m)\u001b[39;49m\u001b[39m'\u001b[39;49m \u001b[39m%\u001b[39;49m i)\n\u001b[1;32m     <a href='vscode-notebook-cell:/home/siu/workplace/bigdata/python_data_analysis/web_scraping/D_0725/ex_selenium_coffee.ipynb#ch0000002?line=12'>13</a>\u001b[0m time\u001b[39m.\u001b[39msleep(\u001b[39m1\u001b[39m)\n\u001b[1;32m     <a href='vscode-notebook-cell:/home/siu/workplace/bigdata/python_data_analysis/web_scraping/D_0725/ex_selenium_coffee.ipynb#ch0000002?line=13'>14</a>\u001b[0m \u001b[39mtry\u001b[39;00m:\n",
      "File \u001b[0;32m~/miniconda3/envs/EV_PY39/lib/python3.9/site-packages/selenium/webdriver/remote/webdriver.py:634\u001b[0m, in \u001b[0;36mWebDriver.execute_script\u001b[0;34m(self, script, *args)\u001b[0m\n\u001b[1;32m    631\u001b[0m \u001b[39melse\u001b[39;00m:\n\u001b[1;32m    632\u001b[0m     command \u001b[39m=\u001b[39m Command\u001b[39m.\u001b[39mEXECUTE_SCRIPT\n\u001b[0;32m--> 634\u001b[0m \u001b[39mreturn\u001b[39;00m \u001b[39mself\u001b[39;49m\u001b[39m.\u001b[39;49mexecute(command, {\n\u001b[1;32m    635\u001b[0m     \u001b[39m'\u001b[39;49m\u001b[39mscript\u001b[39;49m\u001b[39m'\u001b[39;49m: script,\n\u001b[1;32m    636\u001b[0m     \u001b[39m'\u001b[39;49m\u001b[39margs\u001b[39;49m\u001b[39m'\u001b[39;49m: converted_args})[\u001b[39m'\u001b[39m\u001b[39mvalue\u001b[39m\u001b[39m'\u001b[39m]\n",
      "File \u001b[0;32m~/miniconda3/envs/EV_PY39/lib/python3.9/site-packages/selenium/webdriver/remote/webdriver.py:321\u001b[0m, in \u001b[0;36mWebDriver.execute\u001b[0;34m(self, driver_command, params)\u001b[0m\n\u001b[1;32m    319\u001b[0m response \u001b[39m=\u001b[39m \u001b[39mself\u001b[39m\u001b[39m.\u001b[39mcommand_executor\u001b[39m.\u001b[39mexecute(driver_command, params)\n\u001b[1;32m    320\u001b[0m \u001b[39mif\u001b[39;00m response:\n\u001b[0;32m--> 321\u001b[0m     \u001b[39mself\u001b[39;49m\u001b[39m.\u001b[39;49merror_handler\u001b[39m.\u001b[39;49mcheck_response(response)\n\u001b[1;32m    322\u001b[0m     response[\u001b[39m'\u001b[39m\u001b[39mvalue\u001b[39m\u001b[39m'\u001b[39m] \u001b[39m=\u001b[39m \u001b[39mself\u001b[39m\u001b[39m.\u001b[39m_unwrap_value(\n\u001b[1;32m    323\u001b[0m         response\u001b[39m.\u001b[39mget(\u001b[39m'\u001b[39m\u001b[39mvalue\u001b[39m\u001b[39m'\u001b[39m, \u001b[39mNone\u001b[39;00m))\n\u001b[1;32m    324\u001b[0m     \u001b[39mreturn\u001b[39;00m response\n",
      "File \u001b[0;32m~/miniconda3/envs/EV_PY39/lib/python3.9/site-packages/selenium/webdriver/remote/errorhandler.py:242\u001b[0m, in \u001b[0;36mErrorHandler.check_response\u001b[0;34m(self, response)\u001b[0m\n\u001b[1;32m    240\u001b[0m         alert_text \u001b[39m=\u001b[39m value[\u001b[39m'\u001b[39m\u001b[39malert\u001b[39m\u001b[39m'\u001b[39m]\u001b[39m.\u001b[39mget(\u001b[39m'\u001b[39m\u001b[39mtext\u001b[39m\u001b[39m'\u001b[39m)\n\u001b[1;32m    241\u001b[0m     \u001b[39mraise\u001b[39;00m exception_class(message, screen, stacktrace, alert_text)\n\u001b[0;32m--> 242\u001b[0m \u001b[39mraise\u001b[39;00m exception_class(message, screen, stacktrace)\n",
      "\u001b[0;31mNoSuchWindowException\u001b[0m: Message: no such window: target window already closed\nfrom unknown error: web view not found\n  (Session info: chrome=103.0.5060.134)\n"
     ]
    }
   ],
   "source": [
    "def main():\n",
    "    store_info = []\n",
    "    coffeebean_store(store_info)\n",
    "    # DataFrame으로 변경\n",
    "    coffeebean_table = pd.DataFrame(store_info, columns=('매장이름', '주소', '전화번호'))\n",
    "    print(coffeebean_table.head())\n",
    "\n",
    "    # DataFrame을 csv파일로 저장 (utf-8로 인코딩)\n",
    "    coffeebean_table.to_csv('coffeebean_branches.csv', encoding='utf-8', mode='w', \n",
    "    index=True)\n",
    "\n",
    "main()"
   ]
  }
 ],
 "metadata": {
  "kernelspec": {
   "display_name": "Python 3.9.12 ('EV_PY39')",
   "language": "python",
   "name": "python3"
  },
  "language_info": {
   "codemirror_mode": {
    "name": "ipython",
    "version": 3
   },
   "file_extension": ".py",
   "mimetype": "text/x-python",
   "name": "python",
   "nbconvert_exporter": "python",
   "pygments_lexer": "ipython3",
   "version": "3.9.12"
  },
  "orig_nbformat": 4,
  "vscode": {
   "interpreter": {
    "hash": "7046fadfc8eb06ac6ccb78d8ddd5e12eef28a4f384be78d2cf2a68fb34b54387"
   }
  }
 },
 "nbformat": 4,
 "nbformat_minor": 2
}
