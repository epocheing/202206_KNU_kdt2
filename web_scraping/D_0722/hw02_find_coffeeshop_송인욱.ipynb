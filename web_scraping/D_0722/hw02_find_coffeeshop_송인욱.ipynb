{
 "cells": [
  {
   "cell_type": "code",
   "execution_count": 107,
   "metadata": {},
   "outputs": [],
   "source": [
    "import pandas as pd\n",
    "import re\n",
    "\n",
    "data = pd.read_csv(\"./hw2_coffeshop_송인욱.csv\", encoding=\"utf-8\", )"
   ]
  },
  {
   "cell_type": "code",
   "execution_count": 108,
   "metadata": {},
   "outputs": [],
   "source": [
    "def make_input_list():\n",
    "    find_region = input(\"검색할 매장의 도시를 입력하세요: \")\n",
    "    input_list = find_region.split()\n",
    "    return input_list\n",
    "\n",
    "input_list = make_input_list()"
   ]
  },
  {
   "cell_type": "code",
   "execution_count": 109,
   "metadata": {},
   "outputs": [
    {
     "name": "stdout",
     "output_type": "stream",
     "text": [
      "[re.compile('대구'), re.compile('동구')]\n"
     ]
    }
   ],
   "source": [
    "def make_complie_list(input_list: list):\n",
    "    compile_list = []\n",
    "    for msg in input_list:\n",
    "        p = re.compile(msg)\n",
    "        compile_list.append(p)\n",
    "    return compile_list\n",
    "    \n",
    "compile_list =  make_complie_list(input_list)\n",
    "print(compile_list)"
   ]
  },
  {
   "cell_type": "code",
   "execution_count": 110,
   "metadata": {},
   "outputs": [
    {
     "data": {
      "text/html": [
       "<div>\n",
       "<style scoped>\n",
       "    .dataframe tbody tr th:only-of-type {\n",
       "        vertical-align: middle;\n",
       "    }\n",
       "\n",
       "    .dataframe tbody tr th {\n",
       "        vertical-align: top;\n",
       "    }\n",
       "\n",
       "    .dataframe thead th {\n",
       "        text-align: right;\n",
       "    }\n",
       "</style>\n",
       "<table border=\"1\" class=\"dataframe\">\n",
       "  <thead>\n",
       "    <tr style=\"text-align: right;\">\n",
       "      <th></th>\n",
       "      <th>매장이름</th>\n",
       "      <th>위치(시,구)</th>\n",
       "      <th>주소</th>\n",
       "      <th>전화번호</th>\n",
       "    </tr>\n",
       "  </thead>\n",
       "  <tbody>\n",
       "    <tr>\n",
       "      <th>75</th>\n",
       "      <td>대구봉무공원점</td>\n",
       "      <td>대구 동구</td>\n",
       "      <td>대구광역시 동구 단산길 4 (봉무동) 1~2층</td>\n",
       "      <td>053-984-3001</td>\n",
       "    </tr>\n",
       "    <tr>\n",
       "      <th>241</th>\n",
       "      <td>동대구역사점</td>\n",
       "      <td>대구 동구</td>\n",
       "      <td>대구광역시 동구 동대구로 550 (동대구역 내 1층)</td>\n",
       "      <td>053-942-1033</td>\n",
       "    </tr>\n",
       "    <tr>\n",
       "      <th>286</th>\n",
       "      <td>대구안심점</td>\n",
       "      <td>대구 동구</td>\n",
       "      <td>대구시 동구 안심로 90길29 .</td>\n",
       "      <td>053)552-2220</td>\n",
       "    </tr>\n",
       "    <tr>\n",
       "      <th>297</th>\n",
       "      <td>동대구환승센터점</td>\n",
       "      <td>대구 동구</td>\n",
       "      <td>대구광역시 동구 동부로 149 (신천동, 신세계동대구복합환승센터) 3층</td>\n",
       "      <td>053-742-0614</td>\n",
       "    </tr>\n",
       "  </tbody>\n",
       "</table>\n",
       "</div>"
      ],
      "text/plain": [
       "         매장이름 위치(시,구)                                       주소          전화번호\n",
       "75    대구봉무공원점   대구 동구                대구광역시 동구 단산길 4 (봉무동) 1~2층  053-984-3001\n",
       "241    동대구역사점   대구 동구            대구광역시 동구 동대구로 550 (동대구역 내 1층)  053-942-1033\n",
       "286     대구안심점   대구 동구                       대구시 동구 안심로 90길29 .  053)552-2220\n",
       "297  동대구환승센터점   대구 동구  대구광역시 동구 동부로 149 (신천동, 신세계동대구복합환승센터) 3층  053-742-0614"
      ]
     },
     "execution_count": 110,
     "metadata": {},
     "output_type": "execute_result"
    }
   ],
   "source": [
    "def find_data_region(data: pd.DataFrame, compile_list: list):\n",
    "    for p in compile_list:\n",
    "        data = data[data['주소'].apply(lambda x: True if p.search(x) else False)]\n",
    "    return data\n",
    "\n",
    "find_data = find_data_region(data, compile_list)\n",
    "find_data"
   ]
  },
  {
   "cell_type": "code",
   "execution_count": 111,
   "metadata": {},
   "outputs": [
    {
     "name": "stdout",
     "output_type": "stream",
     "text": [
      "--------------------\n",
      "검색된 매장 수: 4\n",
      "--------------------\n"
     ]
    },
    {
     "ename": "IndexError",
     "evalue": "index 4 is out of bounds for axis 0 with size 4",
     "output_type": "error",
     "traceback": [
      "\u001b[0;31m---------------------------------------------------------------------------\u001b[0m",
      "\u001b[0;31mIndexError\u001b[0m                                Traceback (most recent call last)",
      "\u001b[1;32m/home/siu/workplace/bigdata/python_data_analysis/web_scraping/D_0722/test.ipynb Cell 5\u001b[0m in \u001b[0;36m<cell line: 9>\u001b[0;34m()\u001b[0m\n\u001b[1;32m      <a href='vscode-notebook-cell:/home/siu/workplace/bigdata/python_data_analysis/web_scraping/D_0722/test.ipynb#ch0000009?line=5'>6</a>\u001b[0m     \u001b[39mfor\u001b[39;00m i \u001b[39min\u001b[39;00m \u001b[39mrange\u001b[39m(\u001b[39mlen\u001b[39m):\n\u001b[1;32m      <a href='vscode-notebook-cell:/home/siu/workplace/bigdata/python_data_analysis/web_scraping/D_0722/test.ipynb#ch0000009?line=6'>7</a>\u001b[0m         \u001b[39mprint\u001b[39m(\u001b[39m\"\u001b[39m\u001b[39m[\u001b[39m\u001b[39m{0:3d}\u001b[39;00m\u001b[39m]: \u001b[39m\u001b[39m{1}\u001b[39;00m\u001b[39m, \u001b[39m\u001b[39m{2}\u001b[39;00m\u001b[39m\"\u001b[39m\u001b[39m.\u001b[39mformat(i \u001b[39m+\u001b[39m \u001b[39m1\u001b[39m, find_data\u001b[39m.\u001b[39miloc[i, \u001b[39m3\u001b[39m], find_data\u001b[39m.\u001b[39miloc[i, \u001b[39m4\u001b[39m]))\n\u001b[0;32m----> <a href='vscode-notebook-cell:/home/siu/workplace/bigdata/python_data_analysis/web_scraping/D_0722/test.ipynb#ch0000009?line=8'>9</a>\u001b[0m print_data(find_data)\n",
      "\u001b[1;32m/home/siu/workplace/bigdata/python_data_analysis/web_scraping/D_0722/test.ipynb Cell 5\u001b[0m in \u001b[0;36mprint_data\u001b[0;34m(find_data)\u001b[0m\n\u001b[1;32m      <a href='vscode-notebook-cell:/home/siu/workplace/bigdata/python_data_analysis/web_scraping/D_0722/test.ipynb#ch0000009?line=4'>5</a>\u001b[0m \u001b[39mprint\u001b[39m(\u001b[39m\"\u001b[39m\u001b[39m-\u001b[39m\u001b[39m\"\u001b[39m \u001b[39m*\u001b[39m \u001b[39m20\u001b[39m)\n\u001b[1;32m      <a href='vscode-notebook-cell:/home/siu/workplace/bigdata/python_data_analysis/web_scraping/D_0722/test.ipynb#ch0000009?line=5'>6</a>\u001b[0m \u001b[39mfor\u001b[39;00m i \u001b[39min\u001b[39;00m \u001b[39mrange\u001b[39m(\u001b[39mlen\u001b[39m):\n\u001b[0;32m----> <a href='vscode-notebook-cell:/home/siu/workplace/bigdata/python_data_analysis/web_scraping/D_0722/test.ipynb#ch0000009?line=6'>7</a>\u001b[0m     \u001b[39mprint\u001b[39m(\u001b[39m\"\u001b[39m\u001b[39m[\u001b[39m\u001b[39m{0:3d}\u001b[39;00m\u001b[39m]: \u001b[39m\u001b[39m{1}\u001b[39;00m\u001b[39m, \u001b[39m\u001b[39m{2}\u001b[39;00m\u001b[39m\"\u001b[39m\u001b[39m.\u001b[39mformat(i \u001b[39m+\u001b[39m \u001b[39m1\u001b[39m, find_data\u001b[39m.\u001b[39miloc[i, \u001b[39m3\u001b[39m], find_data\u001b[39m.\u001b[39;49miloc[i, \u001b[39m4\u001b[39;49m]))\n",
      "File \u001b[0;32m~/miniconda3/envs/EV_PY39/lib/python3.9/site-packages/pandas/core/indexing.py:960\u001b[0m, in \u001b[0;36m_LocationIndexer.__getitem__\u001b[0;34m(self, key)\u001b[0m\n\u001b[1;32m    958\u001b[0m     key \u001b[39m=\u001b[39m \u001b[39mtuple\u001b[39m(com\u001b[39m.\u001b[39mapply_if_callable(x, \u001b[39mself\u001b[39m\u001b[39m.\u001b[39mobj) \u001b[39mfor\u001b[39;00m x \u001b[39min\u001b[39;00m key)\n\u001b[1;32m    959\u001b[0m     \u001b[39mif\u001b[39;00m \u001b[39mself\u001b[39m\u001b[39m.\u001b[39m_is_scalar_access(key):\n\u001b[0;32m--> 960\u001b[0m         \u001b[39mreturn\u001b[39;00m \u001b[39mself\u001b[39;49m\u001b[39m.\u001b[39;49mobj\u001b[39m.\u001b[39;49m_get_value(\u001b[39m*\u001b[39;49mkey, takeable\u001b[39m=\u001b[39;49m\u001b[39mself\u001b[39;49m\u001b[39m.\u001b[39;49m_takeable)\n\u001b[1;32m    961\u001b[0m     \u001b[39mreturn\u001b[39;00m \u001b[39mself\u001b[39m\u001b[39m.\u001b[39m_getitem_tuple(key)\n\u001b[1;32m    962\u001b[0m \u001b[39melse\u001b[39;00m:\n\u001b[1;32m    963\u001b[0m     \u001b[39m# we by definition only have the 0th axis\u001b[39;00m\n",
      "File \u001b[0;32m~/miniconda3/envs/EV_PY39/lib/python3.9/site-packages/pandas/core/frame.py:3612\u001b[0m, in \u001b[0;36mDataFrame._get_value\u001b[0;34m(self, index, col, takeable)\u001b[0m\n\u001b[1;32m   3593\u001b[0m \u001b[39m\"\"\"\u001b[39;00m\n\u001b[1;32m   3594\u001b[0m \u001b[39mQuickly retrieve single value at passed column and index.\u001b[39;00m\n\u001b[1;32m   3595\u001b[0m \n\u001b[0;32m   (...)\u001b[0m\n\u001b[1;32m   3609\u001b[0m \u001b[39m`self.columns._index_as_unique`; Caller is responsible for checking.\u001b[39;00m\n\u001b[1;32m   3610\u001b[0m \u001b[39m\"\"\"\u001b[39;00m\n\u001b[1;32m   3611\u001b[0m \u001b[39mif\u001b[39;00m takeable:\n\u001b[0;32m-> 3612\u001b[0m     series \u001b[39m=\u001b[39m \u001b[39mself\u001b[39;49m\u001b[39m.\u001b[39;49m_ixs(col, axis\u001b[39m=\u001b[39;49m\u001b[39m1\u001b[39;49m)\n\u001b[1;32m   3613\u001b[0m     \u001b[39mreturn\u001b[39;00m series\u001b[39m.\u001b[39m_values[index]\n\u001b[1;32m   3615\u001b[0m series \u001b[39m=\u001b[39m \u001b[39mself\u001b[39m\u001b[39m.\u001b[39m_get_item_cache(col)\n",
      "File \u001b[0;32m~/miniconda3/envs/EV_PY39/lib/python3.9/site-packages/pandas/core/frame.py:3439\u001b[0m, in \u001b[0;36mDataFrame._ixs\u001b[0;34m(self, i, axis)\u001b[0m\n\u001b[1;32m   3435\u001b[0m     \u001b[39mreturn\u001b[39;00m result\n\u001b[1;32m   3437\u001b[0m \u001b[39m# icol\u001b[39;00m\n\u001b[1;32m   3438\u001b[0m \u001b[39melse\u001b[39;00m:\n\u001b[0;32m-> 3439\u001b[0m     label \u001b[39m=\u001b[39m \u001b[39mself\u001b[39;49m\u001b[39m.\u001b[39;49mcolumns[i]\n\u001b[1;32m   3441\u001b[0m     col_mgr \u001b[39m=\u001b[39m \u001b[39mself\u001b[39m\u001b[39m.\u001b[39m_mgr\u001b[39m.\u001b[39miget(i)\n\u001b[1;32m   3442\u001b[0m     result \u001b[39m=\u001b[39m \u001b[39mself\u001b[39m\u001b[39m.\u001b[39m_box_col_values(col_mgr, i)\n",
      "File \u001b[0;32m~/miniconda3/envs/EV_PY39/lib/python3.9/site-packages/pandas/core/indexes/base.py:5039\u001b[0m, in \u001b[0;36mIndex.__getitem__\u001b[0;34m(self, key)\u001b[0m\n\u001b[1;32m   5036\u001b[0m \u001b[39mif\u001b[39;00m is_integer(key) \u001b[39mor\u001b[39;00m is_float(key):\n\u001b[1;32m   5037\u001b[0m     \u001b[39m# GH#44051 exclude bool, which would return a 2d ndarray\u001b[39;00m\n\u001b[1;32m   5038\u001b[0m     key \u001b[39m=\u001b[39m com\u001b[39m.\u001b[39mcast_scalar_indexer(key, warn_float\u001b[39m=\u001b[39m\u001b[39mTrue\u001b[39;00m)\n\u001b[0;32m-> 5039\u001b[0m     \u001b[39mreturn\u001b[39;00m getitem(key)\n\u001b[1;32m   5041\u001b[0m \u001b[39mif\u001b[39;00m \u001b[39misinstance\u001b[39m(key, \u001b[39mslice\u001b[39m):\n\u001b[1;32m   5042\u001b[0m     \u001b[39m# This case is separated from the conditional above to avoid\u001b[39;00m\n\u001b[1;32m   5043\u001b[0m     \u001b[39m# pessimization com.is_bool_indexer and ndim checks.\u001b[39;00m\n\u001b[1;32m   5044\u001b[0m     result \u001b[39m=\u001b[39m getitem(key)\n",
      "\u001b[0;31mIndexError\u001b[0m: index 4 is out of bounds for axis 0 with size 4"
     ]
    }
   ],
   "source": [
    "def print_data(find_data: pd.DataFrame):\n",
    "    len = find_data.shape[0]\n",
    "    print(\"-\" * 20)\n",
    "    print(f\"검색된 매장 수: {len}\")\n",
    "    print(\"-\" * 20)\n",
    "    for i in range(len):\n",
    "        print(\"[{0:3d}]: {1}, {2}\".format(i + 1, find_data.iloc[i, 2], find_data.iloc[i, 3]))\n",
    "\n",
    "print_data(find_data)\n"
   ]
  }
 ],
 "metadata": {
  "kernelspec": {
   "display_name": "Python 3.9.12 ('EV_PY39')",
   "language": "python",
   "name": "python3"
  },
  "language_info": {
   "codemirror_mode": {
    "name": "ipython",
    "version": 3
   },
   "file_extension": ".py",
   "mimetype": "text/x-python",
   "name": "python",
   "nbconvert_exporter": "python",
   "pygments_lexer": "ipython3",
   "version": "3.9.12"
  },
  "orig_nbformat": 4,
  "vscode": {
   "interpreter": {
    "hash": "7046fadfc8eb06ac6ccb78d8ddd5e12eef28a4f384be78d2cf2a68fb34b54387"
   }
  }
 },
 "nbformat": 4,
 "nbformat_minor": 2
}
