{
 "cells": [
  {
   "cell_type": "markdown",
   "id": "ab8c75a0",
   "metadata": {},
   "source": [
    "세계에 비해서 한국이 전기차에 대한 인프라가 잘 되어 있는데 전기차 보급이 부족함.\n",
    "또한 보조금 관련 문제나, 충전소 숫자는 많은데 한 지역에 몰려있는등 접근성이 떨어지는 문제가 있음.\n",
    "환경 문제가 세계적으로 대두되고 있으므로 전기차의 보급량을 늘릴 필요성도 있어보임.\n",
    "\n",
    "따라서 서울시는 전기차 충전 관련 시간 데이터를 분석해서 얻은 결론대로\n",
    "다양한 충전 가격 정책을 실시하고, 다양한 보조금 정책과 환경에 미치는 긍정적 영향을 홍보하여 \n",
    "전기차 보급량을 늘릴 필요가 있음."
   ]
  }
 ],
 "metadata": {
  "kernelspec": {
   "display_name": "Python 3 (ipykernel)",
   "language": "python",
   "name": "python3"
  },
  "language_info": {
   "codemirror_mode": {
    "name": "ipython",
    "version": 3
   },
   "file_extension": ".py",
   "mimetype": "text/x-python",
   "name": "python",
   "nbconvert_exporter": "python",
   "pygments_lexer": "ipython3",
   "version": "3.9.12"
  }
 },
 "nbformat": 4,
 "nbformat_minor": 5
}
